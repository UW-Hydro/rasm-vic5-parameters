{
 "cells": [
  {
   "cell_type": "code",
   "execution_count": 1,
   "metadata": {},
   "outputs": [],
   "source": [
    "%matplotlib inline\n",
    "import xarray as xr\n",
    "import os\n",
    "import numpy as np\n",
    "import matplotlib.pyplot as plt\n",
    "import collections\n",
    "import warnings \n",
    "from netCDF4 import default_fillvals\n",
    "from scipy.stats import hmean"
   ]
  },
  {
   "cell_type": "markdown",
   "metadata": {},
   "source": [
    "This is an initial notebook for deriving new VIC 5 parameters in the RASM domain. \n",
    "\n",
    "It is a work in progress. \n",
    "\n",
    "The accompanying excel sheet `deriving_new_parameters_v2.xlsx` and Word Doc `procedure_for_derivation.docx` provide additional citations and details on methods. "
   ]
  },
  {
   "cell_type": "code",
   "execution_count": 2,
   "metadata": {},
   "outputs": [],
   "source": [
    "soil_data_vars = collections.OrderedDict()\n",
    "soil_data_vars['silt'] = 'silt_sl*'\n",
    "soil_data_vars['sand'] = 'sand_sl*'\n",
    "soil_data_vars['clay'] = 'clay_sl*'\n",
    "soil_data_vars['bulk_density'] = 'bulk_density_sl*'\n",
    "soil_data_vars['organic_fract'] = 'organic_fract*'\n",
    "\n",
    "# soil data dict with nlayer = 7 (base resolution of data)\n",
    "soil_data = {}\n",
    "soil_data_dir = '/u/home/gergel/data/parameters/soil_data/rasm_grid_netcdfs/50km'\n",
    "for soil_var, soil_wildcard in soil_data_vars.items(): \n",
    "    soil_data[soil_var] = xr.open_mfdataset(os.path.join(soil_data_dir, soil_wildcard),\n",
    "                                            concat_dim='nlayer', \n",
    "                                            data_vars='all', \n",
    "                                            coords='all')"
   ]
  },
  {
   "cell_type": "markdown",
   "metadata": {},
   "source": [
    "__If using a different domain than the 50km domain, change domain file in the following cell__ "
   ]
  },
  {
   "cell_type": "code",
   "execution_count": 3,
   "metadata": {},
   "outputs": [],
   "source": [
    "domain = xr.open_dataset(os.path.join('/u/home/gergel/data/parameters', \n",
    "                                      'domain.lnd.wr50a_ar9v4.100920.nc'))"
   ]
  },
  {
   "cell_type": "markdown",
   "metadata": {},
   "source": [
    "__Set resolution for filenames__"
   ]
  },
  {
   "cell_type": "code",
   "execution_count": 4,
   "metadata": {},
   "outputs": [
    {
     "name": "stdout",
     "output_type": "stream",
     "text": [
      "calculating parameters at 50km\n"
     ]
    }
   ],
   "source": [
    "res = '50km'\n",
    "\n",
    "# set file extensions \n",
    "if res == \"50km\":\n",
    "    file_ext = 'wr50a_ar9v4'\n",
    "elif res == \"25km\":\n",
    "    file_ext = 'wr25b_ar9v4'\n",
    "elif res == \"10km\":\n",
    "    raise ValueError(\"we do not have a domain file at %s so this option has not been implemented\" %res)\n",
    "print(\"calculating parameters at %s\" %res)"
   ]
  },
  {
   "cell_type": "markdown",
   "metadata": {},
   "source": [
    "load CLM PFTs to use for vegetation parameters"
   ]
  },
  {
   "cell_type": "code",
   "execution_count": 5,
   "metadata": {},
   "outputs": [],
   "source": [
    "# load regridded PFTs \n",
    "pfts_data_dir = '/u/home/gergel/data/parameters/pfts/regridded_pfts'\n",
    "pfts_filename = 'mksrf_landuse_rc2000_c110913_wr50a_ar9v4.nc'\n",
    "veg_data = xr.open_dataset(os.path.join(pfts_data_dir, pfts_filename))"
   ]
  },
  {
   "cell_type": "markdown",
   "metadata": {},
   "source": [
    "define soil classification and lookup functions: `is_soil_class`, `is_param_value`, `classify_soil_texture`, and `soil_class_values` along with user-defined errors `SoilClassificationError` and `LookupTableError` for catching bad behavior in the above functions "
   ]
  },
  {
   "cell_type": "code",
   "execution_count": 6,
   "metadata": {},
   "outputs": [],
   "source": [
    "def is_soil_class(soil_class):\n",
    "    '''\n",
    "    Takes input soil classification and checks to make sure that it is greater than 0 \n",
    "    (e.g. classified)\n",
    "    '''\n",
    "    assert soil_class > 0\n",
    "        \n",
    "def is_param_value(parameter):\n",
    "    '''\n",
    "    Takes input parameter and checks to be sure that it has been assigned a value \n",
    "    (should not be equal to 0 if it has been assigned)\n",
    "    '''\n",
    "    assert parameter > 0\n",
    "    \n",
    "class SoilClassificationError(Exception):\n",
    "    pass\n",
    "\n",
    "class LookupTableError(Exception):\n",
    "    pass\n",
    "\n",
    "def classify_soil_texture(sand, clay, silt):\n",
    "    '''\n",
    "    this function takes in percent sand and percent clay and classifies it in\n",
    "    accordance with the ARS Soil Texture classes, listed here in VIC 5 Read the Docs: \n",
    "    https://vic.readthedocs.io/en/master/Documentation/soiltext/. \n",
    "    '''\n",
    "    \n",
    "    soil_class = 0\n",
    "    \n",
    "    # sand\n",
    "    if silt + (1.5 * clay) < 15:\n",
    "        soil_class = 1\n",
    "    # loamy sand\n",
    "    elif silt + (1.5 * clay) >= 15 and silt + (2 * clay) < 30:\n",
    "        soil_class = 2\n",
    "    # sandy loam\n",
    "    elif ((clay >= 7 and clay < 20 and sand > 52 and silt + (2 * clay) >= 30) or \n",
    "          (clay < 7 and silt < 50 and silt + (2 * clay) >= 30)):\n",
    "        soil_class = 3\n",
    "    # loam\n",
    "    elif clay >= 7 and clay < 27 and silt >= 28 and silt < 50 and sand <= 52:\n",
    "        soil_class = 6\n",
    "    # silt loam\n",
    "    elif (silt >= 50 and clay >= 12 and clay < 27) or (silt >= 50 and silt < 80 and clay < 12):\n",
    "        soil_class = 4\n",
    "    # silt \n",
    "    elif silt >= 80 and clay < 12:\n",
    "        soil_class = 5\n",
    "    # sandy clay loam\n",
    "    elif clay >= 20 and clay < 35 and silt < 28 and sand > 45:\n",
    "        soil_class = 7\n",
    "    # clay loam\n",
    "    elif clay >= 27 and clay < 40 and sand > 20 and sand <= 45: \n",
    "        soil_class = 9\n",
    "    # silty clay loam\n",
    "    elif clay >= 27 and clay < 40 and sand <= 20:\n",
    "        soil_class = 8\n",
    "    # sandy clay \n",
    "    elif clay >= 35 and sand > 45: \n",
    "        soil_class = 10\n",
    "    # silty clay\n",
    "    elif clay >= 40 and silt >= 40: \n",
    "        soil_class = 11\n",
    "    elif clay >= 40 and sand <= 45 and silt < 40:\n",
    "        soil_class = 12\n",
    "    elif np.isnan(clay):\n",
    "        soil_class = 12\n",
    "    \n",
    "    return(soil_class)\n",
    "\n",
    "def soil_class_values(soil_class, return_var):\n",
    "    '''\n",
    "    takes in a soil class (of type int) and uses lookup tables based on soil class for a number of \n",
    "    values that are either directly or indirectly used as VIC parameters. Decides which value to \n",
    "    return based on `return_var`, which is a string. \n",
    "    \n",
    "    Valid values for `return_var` include: ksat, b, Wpwp_FRACT, Wcr_FRACT, resid_moist, quartz\n",
    "    \n",
    "    This is to get around the current issue with \n",
    "    returning multiple output arrays with xr.apply_ufunc. \n",
    "    \n",
    "    Look-up values come from: \n",
    "    https://vic.readthedocs.io/en/master/Documentation/soiltext/ \n",
    "    Carsel and Parrish 1988, Table 3\n",
    "    https://ral.ucar.edu/sites/default/files/public/product-tool/noah-multiparameterization-\n",
    "    land-surface-model-noah-mp-lsm/soil_characteristics.html\n",
    "    '''\n",
    "    \n",
    "    ksat = 0\n",
    "    b = 0\n",
    "    porosity = 0\n",
    "    Wpwp_FRACT = 0\n",
    "    Wcr_FRACT = 0\n",
    "    resid_moist = 0\n",
    "    quartz = 0\n",
    "    \n",
    "    # sand\n",
    "    if soil_class == 1:\n",
    "        ksat = 38.41\n",
    "        b = 2.79\n",
    "        porosity = 0.43\n",
    "        Wpwp_FRACT = 0.03\n",
    "        Wcr_FRACT = 0.7 * 0.08\n",
    "        resid_moist = 0.045\n",
    "        quartz = 0.92\n",
    "    # loamy sand\n",
    "    elif soil_class == 2: \n",
    "        ksat = 10.87\n",
    "        b = 4.26\n",
    "        porosity = 0.42\n",
    "        Wpwp_FRACT = 0.06\n",
    "        Wcr_FRACT = 0.7 * 0.15\n",
    "        resid_moist = 0.057\n",
    "        quartz = 0.82\n",
    "    # sandy loam\n",
    "    elif soil_class == 3:\n",
    "        ksat = 5.24\n",
    "        b = 4.74\n",
    "        porosity = 0.4\n",
    "        Wpwp_FRACT = 0.09\n",
    "        Wcr_FRACT = 0.7 * 0.21\n",
    "        resid_moist = 0.065\n",
    "        quartz = 0.60\n",
    "    # silty loam\n",
    "    elif soil_class == 4:\n",
    "        ksat = 3.96\n",
    "        b = 5.33\n",
    "        porosity = 0.46\n",
    "        Wpwp_FRACT = 0.12\n",
    "        Wcr_FRACT = 0.7 * 0.32\n",
    "        resid_moist = 0.067\n",
    "        quartz = 0.25\n",
    "    # silty\n",
    "    elif soil_class == 5:\n",
    "        ksat = 8.59\n",
    "        # NOTE: Table 3 doesn't have the class silty, using b for silty clay loam\n",
    "        b = 8.72\n",
    "        porosity = 0.52\n",
    "        Wpwp_FRACT = 0.08\n",
    "        Wcr_FRACT = 0.7 * 0.28\n",
    "        resid_moist = 0.034\n",
    "        quartz = 0.10\n",
    "    # loam\n",
    "    elif soil_class == 6:\n",
    "        ksat = 1.97\n",
    "        b = 5.25\n",
    "        porosity = 0.43\n",
    "        Wpwp_FRACT = 0.14\n",
    "        Wcr_FRACT = 0.7 * 0.29\n",
    "        resid_moist = 0.078\n",
    "        quartz = 0.40\n",
    "    # sandy clay loam\n",
    "    elif soil_class == 7:\n",
    "        ksat = 2.4\n",
    "        b = 6.77\n",
    "        porosity = 0.39\n",
    "        Wpwp_FRACT = 0.17\n",
    "        Wcr_FRACT = 0.7 * 0.27\n",
    "        resid_moist = 0.100\n",
    "        quartz = 0.60\n",
    "    # silty clay loam\n",
    "    elif soil_class == 8:\n",
    "        ksat = 4.57\n",
    "        b = 8.72\n",
    "        porosity = 0.48\n",
    "        Wpwp_FRACT = 0.21\n",
    "        Wcr_FRACT = 0.7 * 0.36\n",
    "        resid_moist = 0.089\n",
    "        quartz = 0.10\n",
    "    # clay loam\n",
    "    elif soil_class == 9:\n",
    "        ksat = 1.77\n",
    "        b = 8.17\n",
    "        porosity = 0.46\n",
    "        Wpwp_FRACT = 0.21\n",
    "        Wcr_FRACT = 0.7 * 0.34\n",
    "        resid_moist = 0.095\n",
    "        quartz = 0.35\n",
    "    # sandy clay\n",
    "    elif soil_class == 10:\n",
    "        ksat = 1.19\n",
    "        b = 10.73\n",
    "        porosity = 0.41\n",
    "        Wpwp_FRACT = 0.23\n",
    "        Wcr_FRACT = 0.7 * 0.31\n",
    "        resid_moist = 0.100\n",
    "        quartz = 0.52\n",
    "    # silty clay\n",
    "    elif soil_class == 11:\n",
    "        ksat = 2.95\n",
    "        b = 10.39\n",
    "        porosity = 0.49\n",
    "        Wpwp_FRACT = 0.25\n",
    "        Wcr_FRACT = 0.7 * 0.37\n",
    "        resid_moist = 0.070\n",
    "        quartz = 0.10\n",
    "    # clay\n",
    "    elif soil_class == 12:\n",
    "        ksat = 3.18\n",
    "        b = 11.55\n",
    "        porosity = 0.47\n",
    "        Wpwp_FRACT = 0.27\n",
    "        Wcr_FRACT = 0.7 * 0.36\n",
    "        resid_moist = 0.068\n",
    "        quartz = 0.25\n",
    "    elif np.isnan(soil_class):\n",
    "        ksat = np.nan\n",
    "        b = np.nan\n",
    "        porosity = np.nan\n",
    "        Wpwp_FRACT = np.nan\n",
    "        resid_moist = np.nan\n",
    "        quartz = np.nan\n",
    "    else:\n",
    "        ksat = 1.97\n",
    "        b = 5.25\n",
    "        porosity = 0.43\n",
    "        Wpwp_FRACT = 0.14\n",
    "        Wcr_FRACT = 0.7 * 0.29\n",
    "        resid_moist = 0.078\n",
    "        quartz = 0.40\n",
    "        \n",
    "    if ~np.isnan(soil_class):\n",
    "        # correct for units of VIC 5 parameters\n",
    "        ksat = ksat * 240 \n",
    "        Wpwp_FRACT = Wpwp_FRACT / porosity \n",
    "        Wcr_FRACT = Wcr_FRACT / porosity\n",
    "       \n",
    "    ### NOTE: Wpwp_FRACT MUST be <= Wcr_FRACT, so adjust if necessary \n",
    "    if Wpwp_FRACT > Wcr_FRACT:\n",
    "        Wpwp_FRACT = Wcr_FRACT\n",
    "    \n",
    "    if return_var == \"ksat\":\n",
    "        return(ksat)\n",
    "    elif return_var == \"b\":\n",
    "        return(b)\n",
    "    elif return_var == \"Wpwp_FRACT\":\n",
    "        return(Wpwp_FRACT)\n",
    "    elif return_var == \"Wcr_FRACT\":\n",
    "        return(Wcr_FRACT)\n",
    "    elif return_var == \"resid_moist\":\n",
    "        return(resid_moist)\n",
    "    elif return_var == \"quartz\": \n",
    "        return(quartz)"
   ]
  },
  {
   "cell_type": "markdown",
   "metadata": {},
   "source": [
    "calculate soil types based on percent clay, percent sand and bulk density\n"
   ]
  },
  {
   "cell_type": "code",
   "execution_count": 7,
   "metadata": {},
   "outputs": [],
   "source": [
    "# classify_soil_texture(sand, clay, silt)\n",
    "soil_type_array = xr.apply_ufunc(classify_soil_texture, \n",
    "                                 soil_data['sand']['sand'].where(domain.mask == 1), \n",
    "                                 soil_data['clay']['clay'].where(domain.mask == 1),  \n",
    "                                 soil_data['silt']['silt'].where(domain.mask == 1),\n",
    "                                 dask='allowed',\n",
    "                                 vectorize=True)"
   ]
  },
  {
   "cell_type": "code",
   "execution_count": 8,
   "metadata": {},
   "outputs": [],
   "source": [
    "ksat = xr.apply_ufunc(soil_class_values, \n",
    "                      soil_type_array,\n",
    "                      'ksat',\n",
    "                      dask='allowed',\n",
    "                      vectorize=True)\n",
    "quartz = xr.apply_ufunc(soil_class_values, \n",
    "                        soil_type_array,\n",
    "                        'quartz',\n",
    "                        dask='allowed',\n",
    "                        vectorize=True)\n",
    "Wcr_FRACT = xr.apply_ufunc(soil_class_values, \n",
    "                           soil_type_array,\n",
    "                           'Wcr_FRACT',\n",
    "                           dask='allowed',\n",
    "                           vectorize=True)\n",
    "Wpwp_FRACT = xr.apply_ufunc(soil_class_values, \n",
    "                            soil_type_array,\n",
    "                           'Wpwp_FRACT',\n",
    "                            dask='allowed',\n",
    "                            vectorize=True)\n",
    "b = xr.apply_ufunc(soil_class_values, \n",
    "                   soil_type_array,\n",
    "                   'b',\n",
    "                   dask='allowed',\n",
    "                   vectorize=True)\n",
    "resid_moist = xr.apply_ufunc(soil_class_values, \n",
    "                             soil_type_array,\n",
    "                             'resid_moist',\n",
    "                             dask='allowed',\n",
    "                             vectorize=True)"
   ]
  },
  {
   "cell_type": "markdown",
   "metadata": {},
   "source": [
    "load regridded GTOPO 30 data, data var for elevation is called `Band1`, in (m)"
   ]
  },
  {
   "cell_type": "code",
   "execution_count": 9,
   "metadata": {},
   "outputs": [],
   "source": [
    "gtopo_filename = 'sdat_10003_1_20180525_151136146_wr50a_ar9v4.nc'\n",
    "gtopo = xr.open_dataset(os.path.join('/u/home/gergel/data/parameters/gtopo30', gtopo_filename))\n",
    "elev = gtopo['Band1']"
   ]
  },
  {
   "cell_type": "markdown",
   "metadata": {},
   "source": [
    "load regridded WORLDCLIM climate data for annual t and p "
   ]
  },
  {
   "cell_type": "code",
   "execution_count": 10,
   "metadata": {},
   "outputs": [],
   "source": [
    "clim_direc = '/u/home/gergel/data/parameters/world_clim_data/50km'\n",
    "prec = xr.open_mfdataset(os.path.join(clim_direc, 'prec*'),\n",
    "                                      concat_dim='time', \n",
    "                                      data_vars=['prec'], \n",
    "                                      coords='all')\n",
    "\n",
    "# aggregate to annual, need average annual precip\n",
    "annual_precip = prec['prec'].sum('time')\n",
    "\n",
    "temp = xr.open_mfdataset(os.path.join(clim_direc, 'tavg*'),\n",
    "                                      concat_dim='time', \n",
    "                                      data_vars='all', \n",
    "                                      coords='all')\n",
    "tavg = temp['tavg'].mean('time')"
   ]
  },
  {
   "cell_type": "markdown",
   "metadata": {},
   "source": [
    "load ERA-Interim roughness for vegetation roughness"
   ]
  },
  {
   "cell_type": "code",
   "execution_count": 11,
   "metadata": {},
   "outputs": [
    {
     "data": {
      "text/plain": [
       "'era_interim_direc = \"/p/cwfs/gergel/compare_data/era-interim/flux_files/post_processed/monthly_means-wodc\"\\nera_interim = xr.open_mfdataset(os.path.join(era_interim_direc, \\'wrf-*\\'))\\nroughness = era_interim[\\'znt\\'].mean(\\'time\\')'"
      ]
     },
     "execution_count": 11,
     "metadata": {},
     "output_type": "execute_result"
    }
   ],
   "source": [
    "'''era_interim_direc = \"/p/cwfs/gergel/compare_data/era-interim/flux_files/post_processed/monthly_means-wodc\"\n",
    "era_interim = xr.open_mfdataset(os.path.join(era_interim_direc, 'wrf-*'))\n",
    "roughness = era_interim['znt'].mean('time')'''"
   ]
  },
  {
   "cell_type": "markdown",
   "metadata": {},
   "source": [
    "# Note: need to extract roughness values because of the nature of the attributes"
   ]
  },
  {
   "cell_type": "markdown",
   "metadata": {},
   "source": [
    "calculate Cv from PFTs"
   ]
  },
  {
   "cell_type": "code",
   "execution_count": 12,
   "metadata": {},
   "outputs": [],
   "source": [
    "def calculate_cv_pft(gridcell_pft):\n",
    "    '''\n",
    "    takes a percent PFT for a gridcell and returns the fraction of gridcell coverage for that PFT\n",
    "    '''\n",
    "    \n",
    "    return(gridcell_pft / 100.0)"
   ]
  },
  {
   "cell_type": "code",
   "execution_count": 13,
   "metadata": {},
   "outputs": [],
   "source": [
    "cv = xr.apply_ufunc(calculate_cv_pft, \n",
    "                    veg_data['PCT_PFT'].where(domain.mask == 1),\n",
    "                    dask='allowed',\n",
    "                    vectorize=True)"
   ]
  },
  {
   "cell_type": "markdown",
   "metadata": {},
   "source": [
    "calculate number of active PFTs, `Nveg` "
   ]
  },
  {
   "cell_type": "code",
   "execution_count": 14,
   "metadata": {},
   "outputs": [],
   "source": [
    "def calculate_nveg_pfts(gridcell_pfts):\n",
    "    '''\n",
    "    takes in the 17 PFTs for a gridcell and returns the number of active veg types for that gridcell,\n",
    "    e.g. the number of PCT_PFTs that is greater than 0\n",
    "    '''\n",
    "    return(np.count_nonzero(gridcell_pfts))"
   ]
  },
  {
   "cell_type": "code",
   "execution_count": 15,
   "metadata": {},
   "outputs": [],
   "source": [
    "# make version of veg_data['PCT_PFT'] that has 0s for bare soil/water class (pft=0)\n",
    "veg_data['PCT_PFT'].values[0, :, :] = 0"
   ]
  },
  {
   "cell_type": "code",
   "execution_count": 16,
   "metadata": {},
   "outputs": [],
   "source": [
    "Nveg = xr.apply_ufunc(calculate_nveg_pfts,\n",
    "                      veg_data['PCT_PFT'].where(domain.mask == 1),\n",
    "                      dask='allowed',\n",
    "                      input_core_dims=[['pft']],\n",
    "                      vectorize=True)"
   ]
  },
  {
   "cell_type": "code",
   "execution_count": 17,
   "metadata": {},
   "outputs": [
    {
     "data": {
      "text/plain": [
       "<matplotlib.collections.QuadMesh at 0x7f74e08b1cf8>"
      ]
     },
     "execution_count": 17,
     "metadata": {},
     "output_type": "execute_result"
    },
    {
     "data": {
      "image/png": "[encoded data removed]",
      "text/plain": [
       "<Figure size 432x288 with 2 Axes>"
      ]
     },
     "metadata": {},
     "output_type": "display_data"
    }
   ],
   "source": [
    "Nveg.where(domain.mask == 1).plot()"
   ]
  },
  {
   "cell_type": "markdown",
   "metadata": {},
   "source": [
    "import LAI and vegetation height, `MONTHLY_LAI` and `MONTHLY_HEIGHT_TOP`"
   ]
  },
  {
   "cell_type": "code",
   "execution_count": 18,
   "metadata": {},
   "outputs": [],
   "source": [
    "lai_file = xr.open_dataset(os.path.join('/u/home/gergel/data/parameters/lai/regridded_lai', \n",
    "                                   'mksrf_lai_78pfts_simyr2005.c170413_wr50a_ar9v4_lai.nc'))"
   ]
  },
  {
   "cell_type": "code",
   "execution_count": 19,
   "metadata": {},
   "outputs": [],
   "source": [
    "veg_height_file = xr.open_dataset(os.path.join('/u/home/gergel/data/parameters/lai/regridded_lai', \n",
    "                                'mksrf_lai_78pfts_simyr2005.c170413_wr50a_ar9v4_veg_height.nc'))"
   ]
  },
  {
   "cell_type": "markdown",
   "metadata": {},
   "source": [
    "LAI and veg_height from CLM and `PCT_PFT` from CLM have a different number of PFTs (`PCT_PFT` has one more PFT, 17 vs 16). The extra PFT in `PCT_PFT` has `PCT_PFT` = 0 over the entire RASM domain, so I just slice the LAI and veg_height from the 0th PFT (water/bare soil) and concatenate it for the 16th PFT. "
   ]
  },
  {
   "cell_type": "code",
   "execution_count": 20,
   "metadata": {},
   "outputs": [],
   "source": [
    "lai_slice = lai_file['MONTHLY_LAI'].isel(pft = 0)\n",
    "vegheight_slice = veg_height_file['MONTHLY_HEIGHT_TOP'].isel(pft=0)"
   ]
  },
  {
   "cell_type": "code",
   "execution_count": 21,
   "metadata": {},
   "outputs": [],
   "source": [
    "lai = xr.concat([lai_file['MONTHLY_LAI'], lai_slice], dim='pft')\n",
    "veg_height = xr.concat([veg_height_file['MONTHLY_HEIGHT_TOP'], vegheight_slice], dim='pft')"
   ]
  },
  {
   "cell_type": "markdown",
   "metadata": {},
   "source": [
    "`veg_rough` = 0.123 * `veg_height`\n",
    "\n",
    "`displacement` = 0.67 * `veg_height`"
   ]
  },
  {
   "cell_type": "code",
   "execution_count": 22,
   "metadata": {},
   "outputs": [],
   "source": [
    "veg_rough = 0.123 * veg_height\n",
    "displacement = 0.67 * veg_height\n",
    "\n",
    "displacement.values[displacement.values == 0] = 1.0\n",
    "# displacement.values[:, 0, :, :] = 0"
   ]
  },
  {
   "cell_type": "code",
   "execution_count": 23,
   "metadata": {},
   "outputs": [
    {
     "data": {
      "text/plain": [
       "<xarray.DataArray 'MONTHLY_HEIGHT_TOP' (time: 12, pft: 17, nj: 205, ni: 275)>\n",
       "array([[[[ 1., ...,  1.],\n",
       "         ..., \n",
       "         [ 1., ...,  1.]],\n",
       "\n",
       "        ..., \n",
       "        [[ 1., ...,  1.],\n",
       "         ..., \n",
       "         [ 1., ...,  1.]]],\n",
       "\n",
       "\n",
       "       ..., \n",
       "       [[[ 1., ...,  1.],\n",
       "         ..., \n",
       "         [ 1., ...,  1.]],\n",
       "\n",
       "        ..., \n",
       "        [[ 1., ...,  1.],\n",
       "         ..., \n",
       "         [ 1., ...,  1.]]]], dtype=float32)\n",
       "Coordinates:\n",
       "  * time     (time) float64 1.5 2.5 3.5 4.5 5.5 6.5 7.5 8.5 9.5 10.5 11.5 12.5\n",
       "    xc       (nj, ni) float64 189.2 189.4 189.6 189.7 189.9 190.1 190.2 ...\n",
       "    yc       (nj, ni) float64 16.53 16.78 17.02 17.27 17.51 17.76 18.0 18.25 ...\n",
       "  * pft      (pft) float64 0.0 1.0 2.0 3.0 4.0 5.0 6.0 7.0 8.0 9.0 10.0 11.0 ...\n",
       "Dimensions without coordinates: nj, ni"
      ]
     },
     "execution_count": 23,
     "metadata": {},
     "output_type": "execute_result"
    }
   ],
   "source": [
    "displacement"
   ]
  },
  {
   "cell_type": "markdown",
   "metadata": {},
   "source": [
    "map albedo, root zone fraction and root zone depth based on vegetation type. see `deriving_new_parameters_v2.xlsx` sheet titled `PFT-NLDAS Mapping` for mapping between NLDAS vegetation classes (used in old VIC 5 parameters) and CLM PFTs. This mapping is based on obvious relationships and some approximations (used for PFTs 8-11)."
   ]
  },
  {
   "cell_type": "code",
   "execution_count": 24,
   "metadata": {},
   "outputs": [],
   "source": [
    "def map_pft_to_nldas_class(pft):\n",
    "    '''\n",
    "    this function takes in a pft and maps it to an NLDAS veg class for using NLDAS VIC 5 veg-class \n",
    "    specific parameters. \n",
    "    '''\n",
    "    # bare \n",
    "    if pft == 0:\n",
    "        nldas = 11\n",
    "    # NET - temperate\n",
    "    elif pft == 1:\n",
    "        nldas = 0\n",
    "    # NET - boreal\n",
    "    elif pft == 2:\n",
    "        nldas = 0\n",
    "    # NDT - boreal\n",
    "    elif pft == 3:\n",
    "        nldas = 1\n",
    "    # BET - tropical\n",
    "    elif pft == 4:\n",
    "        nldas = 2\n",
    "    # BET - temperate\n",
    "    elif pft == 5:\n",
    "        nldas = 2\n",
    "    # BDT - tropical\n",
    "    elif pft == 6:\n",
    "        nldas = 3\n",
    "    # BDT - temperate\n",
    "    elif pft == 7:\n",
    "        nldas = 3\n",
    "    # BDT - boreal\n",
    "    elif pft == 8:\n",
    "        nldas = 3\n",
    "    # BES - temperate\n",
    "    elif pft == 9:\n",
    "        nldas = 8\n",
    "    # BDS - temperate\n",
    "    elif pft == 10:\n",
    "        nldas = 8\n",
    "    # BDS - boreal\n",
    "    elif pft == 11:\n",
    "        nldas = 8\n",
    "    # C3 arctic grass\n",
    "    elif pft == 12:\n",
    "        nldas = 9\n",
    "    # C3 grass\n",
    "    elif pft == 13:\n",
    "        nldas = 9\n",
    "    # C4 grass\n",
    "    elif pft == 14:\n",
    "        nldas = 9\n",
    "    # crops\n",
    "    elif pft == 15:\n",
    "        nldas = 10\n",
    "    elif pft == 16: \n",
    "        nldas = 2\n",
    "    else: \n",
    "        raise ValueError(\"this is not a PFT\")\n",
    "    return(nldas)"
   ]
  },
  {
   "cell_type": "code",
   "execution_count": 25,
   "metadata": {},
   "outputs": [],
   "source": [
    "def is_overstory(nldas_class):\n",
    "    '''\n",
    "    function takes in an NLDAS class, if NLDAS class is 1-6 returns 1 (class has an overstory)\n",
    "    if NLDAS class 7-12, return 0 (class does not have an overstory)\n",
    "    '''\n",
    "    if nldas <= 5:\n",
    "        return(1)\n",
    "    else:\n",
    "        return(0)"
   ]
  },
  {
   "cell_type": "markdown",
   "metadata": {},
   "source": [
    "get albedo values from VIC 5 parameters for NLDAS classes, map to CLM PFTs"
   ]
  },
  {
   "cell_type": "code",
   "execution_count": 26,
   "metadata": {},
   "outputs": [],
   "source": [
    "old_params = xr.open_dataset(os.path.join('/u/home/gergel/data', \n",
    "                                          'vic_params_wr50a_vic5.0.dev_20160328.nc'))"
   ]
  },
  {
   "cell_type": "markdown",
   "metadata": {},
   "source": [
    "create array that is the size of (nj, ni, pft, root_zone) to operate on"
   ]
  },
  {
   "cell_type": "code",
   "execution_count": 27,
   "metadata": {},
   "outputs": [],
   "source": [
    "masknan_vals = domain['mask'].where(domain['mask'] == 1).values\n",
    "nj = 205\n",
    "ni = 275\n",
    "num_veg = 17\n",
    "\n",
    "\n",
    "arr_months = np.rollaxis(np.dstack((masknan_vals, masknan_vals, masknan_vals, masknan_vals, \n",
    "                                    masknan_vals, masknan_vals, masknan_vals, masknan_vals, \n",
    "                                    masknan_vals, masknan_vals, masknan_vals, masknan_vals)), \n",
    "                        axis=2)\n",
    "arr_nlayer = np.rollaxis(np.dstack((masknan_vals, masknan_vals, masknan_vals)), \n",
    "                        axis=2)\n",
    "\n",
    "arr_rootzone = np.rollaxis(np.dstack((masknan_vals, masknan_vals)), \n",
    "                        axis=2)\n",
    "\n",
    "arr_veg_classes = np.rollaxis(np.dstack((masknan_vals, masknan_vals, masknan_vals, masknan_vals, \n",
    "                                         masknan_vals, masknan_vals, masknan_vals, masknan_vals, \n",
    "                                         masknan_vals, masknan_vals, masknan_vals, masknan_vals, \n",
    "                                         masknan_vals, masknan_vals, masknan_vals, masknan_vals, \n",
    "                                         masknan_vals)), \n",
    "                              axis=2)\n",
    "arr_veg_classes_rootzone = np.vstack((arr_rootzone, arr_rootzone, arr_rootzone, arr_rootzone, \n",
    "                                      arr_rootzone, arr_rootzone, arr_rootzone, arr_rootzone, \n",
    "                                      arr_rootzone, arr_rootzone, arr_rootzone, arr_rootzone, \n",
    "                                      arr_rootzone, arr_rootzone, arr_rootzone,\n",
    "                                      arr_rootzone, arr_rootzone)).reshape(num_veg, 2, nj, ni)\n",
    "arr_veg_classes_month = np.vstack((arr_months, arr_months, arr_months, arr_months, arr_months, \n",
    "                                   arr_months, arr_months, arr_months, arr_months, arr_months, \n",
    "                                   arr_months, arr_months, arr_months, arr_months, arr_months, \n",
    "                                   arr_months, arr_months,)).reshape(num_veg, 12, nj, ni)"
   ]
  },
  {
   "cell_type": "markdown",
   "metadata": {},
   "source": [
    "create Dataset for variables and define data_vars "
   ]
  },
  {
   "cell_type": "code",
   "execution_count": 28,
   "metadata": {},
   "outputs": [],
   "source": [
    "params = xr.Dataset()\n",
    "\n",
    "# define fillvals\n",
    "fillval_f = default_fillvals['f8']\n",
    "fillval_i = default_fillvals['i4']\n",
    "\n",
    "# assign veg class indexing\n",
    "params['veg_class'] = xr.DataArray(np.arange(1, 18), dims='veg_class', \n",
    "                                   attrs={'long_name': \"vegetation class\"})\n",
    "params['nlayer'] = xr.DataArray(np.arange(0, 3), dims='nlayer')\n",
    "\n",
    "params['Cv'] = xr.DataArray(cv,\n",
    "                                 dims=('veg_class','nj', 'ni'),\n",
    "                                 coords={'xc': domain.xc, 'yc': domain.yc},\n",
    "                                 attrs={'description': \"Fraction of grid cell covered by vegetation tile\",\n",
    "                                        'units': \"fraction\", 'long_name': \"Cv\"},\n",
    "                                 encoding={\"_FillValue\": fillval_f,\n",
    "                                               \"Coordinates\": \"xc yc\"})\n",
    "\n",
    "params['Nveg'] = xr.DataArray(Nveg,\n",
    "                                   dims=('nj', 'ni'),\n",
    "                                   coords={'xc': domain.xc, 'yc': domain.yc},\n",
    "                                   attrs={'description': \"Number of vegetation tiles in the grid cell\", \n",
    "                                          'units': \"N/A\", 'long_name': \"Nveg\"},\n",
    "                                   encoding={\"_FillValue\": fillval_i,\n",
    "                                               \"Coordinates\": \"xc yc\", 'dtype': 'int32'})\n",
    "\n",
    "params['trunk_ratio'] = xr.DataArray(arr_veg_classes,\n",
    "                                 dims=('veg_class','nj', 'ni'),\n",
    "                                 coords={'xc': domain.xc, 'yc': domain.yc},\n",
    "                                 attrs={'description': \"Ratio of total tree height that is trunk \\\n",
    "                                 (no branches) \\\n",
    "                                        The default value has been 0.2\",\n",
    "                                 'units': \"fraction\", 'long_name': \"Cv\"},\n",
    "                                 encoding={\"_FillValue\": fillval_f,\n",
    "                                               \"Coordinates\": \"xc yc\"})\n",
    "params['rarc'] = xr.DataArray(arr_veg_classes,\n",
    "                                 dims=('veg_class','nj', 'ni'),\n",
    "                                 coords={'xc': domain.xc, 'yc': domain.yc},\n",
    "                                 attrs={'description': \"Architectural resistance of vegetation type \\(~2 s/m)\",\n",
    "                                        'units': \"s/m\", 'long_name': \"rarc\"},\n",
    "                                 encoding={\"_FillValue\": fillval_f,\n",
    "                                               \"Coordinates\": \"xc yc\"})\n",
    "\n",
    "params['rmin'] = xr.DataArray(np.copy(arr_veg_classes),\n",
    "                                 dims=('veg_class','nj', 'ni'),\n",
    "                                 coords={'xc': domain.xc, 'yc': domain.yc},\n",
    "                                 attrs={'description': \"Minimum stomatal resistance of vegetation type (~100 s/m)\"},\n",
    "                                 encoding={\"_FillValue\": fillval_f,\n",
    "                                               \"Coordinates\": \"xc yc\"})\n",
    "params['wind_h'] = xr.DataArray(np.copy(arr_veg_classes),\n",
    "                                 dims=('veg_class','nj', 'ni'),\n",
    "                                 coords={'xc': domain.xc, 'yc': domain.yc},\n",
    "                                 attrs={'description': \"Height at which wind speed is measured\",\n",
    "                                        'units': \"m\", 'long_name': \"wind_h\"},\n",
    "                                 encoding={\"_FillValue\": fillval_f,\n",
    "                                               \"Coordinates\": \"xc yc\"})\n",
    "\n",
    "params['RGL'] = xr.DataArray(np.copy(arr_veg_classes),\n",
    "                                 dims=('veg_class','nj', 'ni'),\n",
    "                                 coords={'xc': domain.xc, 'yc': domain.yc},\n",
    "                                 attrs={'description': \"Minimum incoming shortwave radiation at which there will be \\\n",
    "                                        transpiration. For trees this is about 30 W/m^2, for crops about 100 W/m^2\",\n",
    "                                        'units': \"W/m^2\", 'long_name': \"RGL\"},\n",
    "                                 encoding={\"_FillValue\": fillval_f,\n",
    "                                               \"Coordinates\": \"xc yc\"})\n",
    "\n",
    "params['rad_atten'] = xr.DataArray(arr_veg_classes,\n",
    "                                 dims=('veg_class','nj', 'ni'),\n",
    "                                 coords={'xc': domain.xc, 'yc': domain.yc},\n",
    "                                 attrs={'description': \"Radiation attenuation factor. Normally set to 0.5, though may \\\n",
    "                                        need to be adjusted for high latitudes\",\n",
    "                                        'units': \"fraction\", 'long_name': \"rad_atten\"},\n",
    "                                 encoding={\"_FillValue\": fillval_f,\n",
    "                                               \"Coordinates\": \"xc yc\"})\n",
    "\n",
    "params['wind_atten'] = xr.DataArray(arr_veg_classes,\n",
    "                                 dims=('veg_class','nj', 'ni'),\n",
    "                                 coords={'xc': domain.xc, 'yc': domain.yc},\n",
    "                                 attrs={'description': \"Wind speed attenuation through the overstory. The default value \\\n",
    "                                        has been 0.5\",\n",
    "                                        'units': \"fraction\", 'long_name': \"wind_atten\"},\n",
    "                                 encoding={\"_FillValue\": fillval_f,\n",
    "                                               \"Coordinates\": \"xc yc\"})\n",
    "params['albedo'] = xr.DataArray(arr_veg_classes_month,\n",
    "                                         dims=('veg_class','month','nj', 'ni'),\n",
    "                                         coords={'xc': domain.xc, 'yc': domain.yc},\n",
    "                                         attrs={'description': \"Shortwave albedo for vegetation type\",\n",
    "                                                'units': \"fraction\", 'long_name': \"albedo\"},\n",
    "                                         encoding={\"_FillValue\": fillval_f,\n",
    "                                               \"Coordinates\": \"xc yc\"})\n",
    "\n",
    "params['LAI'] = xr.DataArray(lai.values.reshape(num_veg, 12, nj, ni),\n",
    "                                 dims=('veg_class','month','nj', 'ni'),\n",
    "                                 coords={'xc': domain.xc, 'yc': domain.yc, 'month': old_params.month},\n",
    "                                 attrs={'description': \"Leaf Area Index, one per month\",\n",
    "                                        'units': \"N/A\", 'long_name': \"LAI\"},\n",
    "                                 encoding={\"_FillValue\": fillval_f,\n",
    "                                               \"Coordinates\": \"xc yc\"})\n",
    "params['overstory'] = xr.DataArray(arr_veg_classes,\n",
    "                                 dims=('veg_class','nj', 'ni'),\n",
    "                                 coords={'xc': domain.xc, 'yc': domain.yc},\n",
    "                                 attrs={'description': \"Flag to indicate whether or not the current vegetation type \\\n",
    "                                        has an overstory (TRUE for overstory present (e.g. trees), FALSE for \\\n",
    "                                        overstory not present (e.g. grass))\",\n",
    "                                        'units': \"N/A\", 'long_name': \"overstory\"},\n",
    "                                 encoding={\"_FillValue\": fillval_i,\n",
    "                                               \"Coordinates\": \"xc yc\", 'dtype': 'int32'})\n",
    "params['displacement'] = xr.DataArray(displacement.values.reshape(num_veg, 12, nj, ni), \n",
    "                                         dims=('veg_class','month','nj', 'ni'),\n",
    "                                         coords={'month': old_params['month'], 'xc': domain.xc, \n",
    "                                                 'yc': domain.yc},\n",
    "                                         attrs={'description': \"Vegetation displacement height (typically 0.67 \\\n",
    "                                                * vegetation height)\",\n",
    "                                                'units': \"m\", 'long_name': \"displacement\"},\n",
    "                                         encoding={\"_FillValue\": fillval_f,\n",
    "                                               \"Coordinates\": \"xc yc\"})\n",
    "params['veg_rough'] = xr.DataArray(veg_rough.values.reshape(num_veg, 12, nj, ni),\n",
    "                                         dims=('veg_class','month','nj', 'ni'),\n",
    "                                         coords={'xc': domain.xc, 'yc': domain.yc},\n",
    "                                         attrs={'description': \"Vegetation roughness length (typically 0.123 \\\n",
    "                                                * vegetation height)\",\n",
    "                                                'units': \"m\", 'long_name': \"veg_rough\"},\n",
    "                                         encoding={\"_FillValue\": fillval_f,\n",
    "                                               \"Coordinates\": \"xc yc\"})"
   ]
  },
  {
   "cell_type": "code",
   "execution_count": 29,
   "metadata": {},
   "outputs": [],
   "source": [
    "params['elev'] = xr.DataArray(elev.values,\n",
    "                                dims=('nj', 'ni'),\n",
    "                                coords={'xc': domain.xc, 'yc': domain.yc},\n",
    "                                attrs={'description': \"Average elevation of grid cell\", \n",
    "                                              'units': \"m\", 'long_name': \"elev\"},\n",
    "                                encoding={\"_FillValue\": fillval_f,\n",
    "                                               \"Coordinates\": \"xc yc\"})\n",
    "params['avg_T'] = xr.DataArray(tavg.values,\n",
    "                                dims=('nj', 'ni'),\n",
    "                                coords={'xc': domain.xc, 'yc': domain.yc},\n",
    "                                attrs={'description': \"Average soil temperature, used as the bottom boundary \\\n",
    "                                        for soil heat flux solutions\", \n",
    "                                        'units': \"C\", 'long_name': \"avg_T\"},\n",
    "                                encoding={\"_FillValue\": fillval_f,\n",
    "                                               \"Coordinates\": \"xc yc\"})\n",
    "params['annual_prec'] = xr.DataArray(annual_precip.values,\n",
    "                                dims=('nj', 'ni'),\n",
    "                                coords={'xc': domain.xc, 'yc': domain.yc},\n",
    "                                attrs={'description': \"Average annual precipitation\", \n",
    "                                              'units': \"mm\", 'long_name': \"annual_prec\"},\n",
    "                                encoding={\"_FillValue\": fillval_f,\n",
    "                                               \"Coordinates\": \"xc yc\"})\n",
    "roughness = np.copy(masknan_vals)\n",
    "roughness[np.nonzero(masknan_vals)] = 0.001\n",
    "params['rough'] = xr.DataArray(roughness,\n",
    "                                dims=('nj', 'ni'),\n",
    "                                coords={'xc': domain.xc, 'yc': domain.yc},\n",
    "                                attrs={'description': \"Surface roughness of bare soil\", \n",
    "                                              'units': \"m\", 'long_name': \"rough\"},\n",
    "                                encoding={\"_FillValue\": fillval_f,\n",
    "                                               \"Coordinates\": \"xc yc\"})"
   ]
  },
  {
   "cell_type": "markdown",
   "metadata": {},
   "source": [
    "define `trunk_ratio`, `rarc`, `rmin`, `wind_h`, `RGL`, `rad_atten`, `wind_atten`, `overstory`"
   ]
  },
  {
   "cell_type": "code",
   "execution_count": 30,
   "metadata": {},
   "outputs": [],
   "source": [
    "# trunk ratio, rarc, rad_atten\n",
    "trunk_ratio = np.copy(arr_veg_classes)\n",
    "params['trunk_ratio'].values = trunk_ratio * 0.2\n",
    "# adjust for bare soil \n",
    "params['trunk_ratio'].values[0, :, :] = 0.0\n",
    "\n",
    "rarc = np.copy(arr_veg_classes)\n",
    "params['rarc'].values = rarc * 60\n",
    "\n",
    "rad_atten = np.copy(arr_veg_classes)\n",
    "params['rad_atten'].values = rad_atten * 0.5\n",
    "# adjust for bare soil \n",
    "params['rad_atten'].values[0, :, :] = 0.0\n",
    "\n",
    "wind_atten = np.copy(arr_veg_classes)\n",
    "params['wind_atten'].values = wind_atten * 0.5\n",
    "# adjust for bare soil \n",
    "params['wind_atten'].values[0, :, :] = 0.0"
   ]
  },
  {
   "cell_type": "code",
   "execution_count": 31,
   "metadata": {},
   "outputs": [],
   "source": [
    "# rmin, wind_h\n",
    "for pft in veg_data.pft.values:\n",
    "    # get nldas mapping from pft\n",
    "    nldas = map_pft_to_nldas_class(pft)\n",
    "    if nldas >= 0 and nldas <= 3:\n",
    "        rmin = np.asscalar(old_params.rmin.isel(veg_class=0).mean())\n",
    "        wind_h = np.asscalar(old_params.wind_h.isel(veg_class=0).mean())\n",
    "    elif nldas == 4:\n",
    "        rmin = np.asscalar(old_params.rmin.isel(veg_class=4).mean())\n",
    "        wind_h = np.asscalar(old_params.wind_h.isel(veg_class=4).mean())\n",
    "    elif nldas >= 5 and nldas <= 6:\n",
    "        rmin = np.asscalar(old_params.rmin.isel(veg_class=5).mean())\n",
    "        wind_h = np.asscalar(old_params.wind_h.isel(veg_class=5).mean())\n",
    "    elif nldas >= 7 and nldas <= 8:\n",
    "        rmin = np.asscalar(old_params.rmin.isel(veg_class=7).mean())\n",
    "        wind_h = np.asscalar(old_params.wind_h.isel(veg_class=7).mean())\n",
    "    elif nldas == 9:\n",
    "        rmin = np.asscalar(old_params.rmin.isel(veg_class=9).mean())\n",
    "        wind_h = np.asscalar(old_params.wind_h.isel(veg_class=9).mean())\n",
    "    elif nldas == 10:\n",
    "        rmin = np.asscalar(old_params.rmin.isel(veg_class=10).mean())\n",
    "        wind_h = np.asscalar(old_params.wind_h.isel(veg_class=10).mean())\n",
    "    elif nldas == 11:\n",
    "        rmin = np.asscalar(old_params.rmin.isel(veg_class=11).mean())\n",
    "        wind_h = np.asscalar(old_params.wind_h.isel(veg_class=11).mean())\n",
    "    params['rmin'].values[pft, :, :] = np.ones((1, 205, 275)) * rmin\n",
    "    params['wind_h'].values[pft, :, :] = np.ones((1, 205, 275)) * wind_h"
   ]
  },
  {
   "cell_type": "code",
   "execution_count": 32,
   "metadata": {},
   "outputs": [],
   "source": [
    "# RGL\n",
    "for pft in veg_data.pft.values:\n",
    "    # get nldas mapping from pft\n",
    "    nldas = map_pft_to_nldas_class(pft)\n",
    "    if nldas >= 0 and nldas <= 3:\n",
    "        rgl = np.asscalar(old_params.wind_h.isel(veg_class=0).mean())\n",
    "    elif nldas >= 4 and nldas <= 5:\n",
    "        rgl = np.asscalar(old_params.wind_h.isel(veg_class=4).mean())\n",
    "    elif nldas >= 6 and nldas <= 8:\n",
    "        rgl = np.asscalar(old_params.wind_h.isel(veg_class=6).mean())\n",
    "    elif nldas >= 9 and nldas <= 10:\n",
    "        rgl = np.asscalar(old_params.wind_h.isel(veg_class=9).mean())\n",
    "    elif nldas == 11:\n",
    "        rgl = np.asscalar(old_params.wind_h.isel(veg_class=11).mean())\n",
    "    params['RGL'].values[pft, :, :] = np.ones((1, 205, 275)) * rgl"
   ]
  },
  {
   "cell_type": "code",
   "execution_count": 33,
   "metadata": {},
   "outputs": [],
   "source": [
    "# overstory\n",
    "for pft in veg_data.pft.values:\n",
    "    nldas = map_pft_to_nldas_class(pft)\n",
    "    if nldas > 6:\n",
    "        # no overstory\n",
    "        overstory = 0\n",
    "    else: \n",
    "        overstory = 1\n",
    "    params['overstory'].values[pft, :, :] = np.ones((1, 205, 275)) * overstory\n",
    "\n",
    "# adjust bare soil, it should obviously not have an overstory\n",
    "params['overstory'].values[0, :, :] = np.ones((1, 205, 275)) * 0.0"
   ]
  },
  {
   "cell_type": "code",
   "execution_count": 34,
   "metadata": {},
   "outputs": [],
   "source": [
    "def calc_root_fract(cv, pft, root_zone):\n",
    "    # root fract is not homogenous across veg classes \n",
    "    nldas = map_pft_to_nldas_class(int(float(pft)))\n",
    "    if cv > 0:\n",
    "        if nldas == 0 or nldas == 1 or nldas == 2 or nldas == 3 or nldas == 4 or nldas == 5: \n",
    "            if root_zone == \"1\":\n",
    "                root_fract = 0.3\n",
    "            else: \n",
    "                root_fract = 0.7\n",
    "        elif nldas == 6 or nldas == 7:\n",
    "            if root_zone == \"1\":\n",
    "                root_fract = 0.6\n",
    "            else: \n",
    "                root_fract = 0.4\n",
    "        elif nldas == 8 or nldas == 9 or nldas == 10: \n",
    "            if root_zone == \"1\":\n",
    "                root_fract = 0.7\n",
    "            else:\n",
    "                root_fract = 0.3\n",
    "        elif nldas == 11:\n",
    "            if root_zone == \"1\":\n",
    "                root_fract = 0.0\n",
    "            else: \n",
    "                root_fract = 0.0\n",
    "        return(root_fract)\n",
    "    elif cv == 0:\n",
    "        return(0)\n",
    "    else:\n",
    "        return(cv)"
   ]
  },
  {
   "cell_type": "code",
   "execution_count": 35,
   "metadata": {},
   "outputs": [],
   "source": [
    "def calc_root_depth_rz1(cv):\n",
    "    '''\n",
    "    takes in: \n",
    "    cv: DataArray\n",
    "    '''\n",
    "    # root depth is homogenous across veg classes \n",
    "    # assuming root zone is 1\n",
    "    if cv > 0:\n",
    "        root_depth = 0.3\n",
    "    else:\n",
    "        root_depth = 0.0\n",
    "    return(root_depth)\n",
    "def calc_root_depth_rz2(cv):\n",
    "    '''\n",
    "    takes in: \n",
    "    cv: DataArray\n",
    "    '''\n",
    "    # root depth is homogenous across veg classes \n",
    "    # assuming root zone is 2\n",
    "    if cv > 0:\n",
    "        root_depth = 0.7\n",
    "    else:\n",
    "        root_depth = 0.0\n",
    "    return(root_depth)"
   ]
  },
  {
   "cell_type": "code",
   "execution_count": 36,
   "metadata": {},
   "outputs": [],
   "source": [
    "root_depth_rz1 = xr.apply_ufunc(calc_root_depth_rz1,\n",
    "                           params['Cv'].where(domain.mask == 1), \n",
    "                           dask='allowed',\n",
    "                           vectorize=True)\n",
    "root_depth_rz2 = xr.apply_ufunc(calc_root_depth_rz2,\n",
    "                           params['Cv'].where(domain.mask == 1), \n",
    "                           dask='allowed',\n",
    "                           vectorize=True)\n",
    "root_depth = xr.concat([root_depth_rz1, root_depth_rz2],\n",
    "                      dim='root_zone').transpose('veg_class', 'root_zone', 'nj', 'ni')\n",
    "# adjust for bare soil/water\n",
    "# root_depth.values[0, :, :, :] = 0.0"
   ]
  },
  {
   "cell_type": "code",
   "execution_count": 37,
   "metadata": {},
   "outputs": [],
   "source": [
    "# root fract \n",
    "\n",
    "rz = 0\n",
    "for pft in veg_data.pft.values:\n",
    "    if pft == 0:\n",
    "        root_fract_rz1 = xr.apply_ufunc(calc_root_fract,\n",
    "                                        params['Cv'].isel(veg_class=pft),\n",
    "                                        str(pft),\n",
    "                                        str(rz),\n",
    "                                        dask='allowed',\n",
    "                                        vectorize=True)\n",
    "    else: \n",
    "        root_fract_rz1 = xr.concat([root_fract_rz1, xr.apply_ufunc(calc_root_fract,\n",
    "                                                                   params['Cv'].isel(veg_class=pft),\n",
    "                                                                   str(pft),\n",
    "                                                                   str(rz),\n",
    "                                                                   dask='allowed',\n",
    "                                                                   vectorize=True)],\n",
    "                                  dim='veg_class')\n",
    "rz = 1\n",
    "for pft in veg_data.pft.values:\n",
    "    if pft == 0:\n",
    "        root_fract_rz2 = xr.apply_ufunc(calc_root_fract,\n",
    "                                        params['Cv'].isel(veg_class=pft), \n",
    "                                        str(pft),\n",
    "                                        str(rz),\n",
    "                                        dask='allowed',\n",
    "                                        vectorize=True)\n",
    "    else: \n",
    "        root_fract_rz2 = xr.concat([root_fract_rz2, xr.apply_ufunc(calc_root_fract,\n",
    "                                                                   params['Cv'].isel(veg_class=pft), \n",
    "                                                                   str(pft),\n",
    "                                                                   str(rz),\n",
    "                                                                   dask='allowed',\n",
    "                                                                   vectorize=True)],\n",
    "                                  dim='veg_class')\n",
    "        \n",
    "root_fract = xr.concat([root_fract_rz1, root_fract_rz2], dim='root_zone').transpose('veg_class', 'root_zone', 'nj', 'ni')\n",
    "# root_fract.values[0, :, :, :] = 0.0"
   ]
  },
  {
   "cell_type": "code",
   "execution_count": 38,
   "metadata": {},
   "outputs": [],
   "source": [
    "params['root_depth'] = xr.DataArray(root_depth,\n",
    "                                         dims=('veg_class','root_zone','nj', 'ni'),\n",
    "                                         coords={'xc': domain.xc, 'yc': domain.yc},\n",
    "                                         attrs={'description': \"Root zone thickness (sum of depths is total depth of \\\n",
    "                                                 root penetration)\",\n",
    "                                                'units': \"m\", 'long_name': \"root_depth\"},\n",
    "                                         encoding={\"_FillValue\": fillval_f,\n",
    "                                               \"Coordinates\": \"xc yc\"})\n",
    "params['root_fract'] = xr.DataArray(root_fract,\n",
    "                                         dims=('veg_class','root_zone','nj', 'ni'),\n",
    "                                         coords={'xc': domain.xc, 'yc': domain.yc},\n",
    "                                         attrs={'description': \"Fraction of root in the current root zone\",\n",
    "                                                'units': \"fraction\", 'long_name': \"root_fract\"},\n",
    "                                         encoding={\"_FillValue\": fillval_f,\n",
    "                                               \"Coordinates\": \"xc yc\"})"
   ]
  },
  {
   "cell_type": "code",
   "execution_count": 39,
   "metadata": {},
   "outputs": [],
   "source": [
    "# loop over pft classes and months \n",
    "for pft in veg_data.pft.values:\n",
    "    for month in old_params.month.values:\n",
    "        nldas = map_pft_to_nldas_class(pft)\n",
    "        month_index = month - 1\n",
    "        params['albedo'].values[pft, month_index, :, :] = np.copy(old_params['albedo'].isel(veg_class=nldas)\n",
    "                                                      .isel(month=month_index).values)"
   ]
  },
  {
   "cell_type": "markdown",
   "metadata": {},
   "source": [
    "# calibratable parameters: D1, D2, D3, b_i\n",
    "\n",
    "# and soil depths "
   ]
  },
  {
   "cell_type": "markdown",
   "metadata": {},
   "source": [
    "baseflow parameters: Ds, Dsmax, Ws"
   ]
  },
  {
   "cell_type": "code",
   "execution_count": 40,
   "metadata": {},
   "outputs": [],
   "source": [
    "params['Ds'] = xr.DataArray(old_params['Ds'].values,\n",
    "                              dims=('nj', 'ni'),\n",
    "                              coords={'xc': domain.xc, 'yc': domain.yc},\n",
    "                              attrs={'description': \"Fraction of Dsmax where non-linear baseflow begins\", \n",
    "                                         'units': \"fraction\", 'long_name': \"Ds\"},\n",
    "                                 encoding={\"_FillValue\": fillval_f,\n",
    "                                           \"Coordinates\": \"xc yc\"})\n",
    "params['Ws'] = xr.DataArray(old_params['Ws'].values,\n",
    "                              dims=('nj', 'ni'),\n",
    "                              coords={'xc': domain.xc, 'yc': domain.yc},\n",
    "                              attrs={'description': \"Fraction of maximum soil moisture where non-linear baseflow occurs\", \n",
    "                                              'units': \"fraction\", 'long_name': \"Ws\"},\n",
    "                                 encoding={\"_FillValue\": fillval_f,\n",
    "                                           \"Coordinates\": \"xc yc\"})\n",
    "params['Dsmax'] = xr.DataArray(old_params['Dsmax'].values,\n",
    "                              dims=('nj', 'ni'),\n",
    "                              coords={'xc': domain.xc, 'yc': domain.yc},\n",
    "                              attrs={'description': \"Fraction of maximum soil moisture where non-linear baseflow occurs\", \n",
    "                                              'units': \"fraction\", 'long_name': \"Dsmax\"},\n",
    "                                 encoding={\"_FillValue\": fillval_f,\n",
    "                                           \"Coordinates\": \"xc yc\"})"
   ]
  },
  {
   "cell_type": "markdown",
   "metadata": {},
   "source": [
    "load hydroclimate classes for bi and soil depths"
   ]
  },
  {
   "cell_type": "code",
   "execution_count": 41,
   "metadata": {},
   "outputs": [],
   "source": [
    "hydro_classes = xr.open_dataset(os.path.join('/u/home/gergel/data/parameters',\n",
    "                                             'hydroclimate_masks.nc'))"
   ]
  },
  {
   "cell_type": "markdown",
   "metadata": {},
   "source": [
    "b_i (`infilt`)"
   ]
  },
  {
   "cell_type": "code",
   "execution_count": 42,
   "metadata": {},
   "outputs": [],
   "source": [
    "bi = np.copy(masknan_vals)\n",
    "bi[np.nonzero(hydro_classes['arid'].values)] = 0.05\n",
    "bi[np.nonzero(hydro_classes['temperate_dry'].values)] = 0.05\n",
    "bi[np.nonzero(hydro_classes['cold_dry_perma'].values)] = 0.3\n",
    "bi[np.nonzero(hydro_classes['cold_dry_noperma'].values)] = 0.5\n",
    "bi[np.nonzero(hydro_classes['cold_dry_noperma'].values)] = 0.5\n",
    "bi[np.nonzero(hydro_classes['cold_wds_ws_perma'].values)] = 0.3\n",
    "bi[np.nonzero(hydro_classes['cold_wds_ws_noperma'].values)] = 0.05\n",
    "bi[np.nonzero(hydro_classes['cold_wds_cs_perma'].values)] = 0.3\n",
    "bi[np.nonzero(hydro_classes['cold_wds_cs_noperma'].values)] = 0.5\n",
    "bi[np.nonzero(hydro_classes['polar'].values)] = 0.1\n",
    "\n",
    "params['infilt'] = xr.DataArray(bi,\n",
    "                              dims=('nj', 'ni'),\n",
    "                              coords={'xc': domain.xc, 'yc': domain.yc},\n",
    "                              attrs={'description': \"Fraction of maximum soil moisture where non-linear baseflow occurs\", \n",
    "                                              'units': \"fraction\", 'long_name': \"infilt\"},\n",
    "                                 encoding={\"_FillValue\": fillval_f,\n",
    "                                           \"Coordinates\": \"xc yc\"})"
   ]
  },
  {
   "cell_type": "markdown",
   "metadata": {},
   "source": [
    "soil depths (`depth`)"
   ]
  },
  {
   "cell_type": "code",
   "execution_count": 43,
   "metadata": {},
   "outputs": [],
   "source": [
    "d1 = np.copy(masknan_vals)\n",
    "d2 = np.copy(masknan_vals)\n",
    "d3 = np.copy(masknan_vals)\n",
    "d1[np.nonzero(domain.mask.values)] = 0.1\n",
    "d3[np.nonzero(domain.mask.values)] = 0.5\n",
    "\n",
    "d2[np.nonzero(hydro_classes['arid'].values)] = 2.0\n",
    "d2[np.nonzero(hydro_classes['temperate_dry'].values)] = 2.0\n",
    "d2[np.nonzero(hydro_classes['cold_dry_perma'].values)] = 0.5\n",
    "d2[np.nonzero(hydro_classes['cold_dry_noperma'].values)] = 0.4\n",
    "d2[np.nonzero(hydro_classes['cold_dry_noperma'].values)] = 0.5\n",
    "d2[np.nonzero(hydro_classes['cold_wds_ws_perma'].values)] = 2.0\n",
    "d2[np.nonzero(hydro_classes['cold_wds_ws_noperma'].values)] = 0.5\n",
    "d2[np.nonzero(hydro_classes['cold_wds_cs_perma'].values)] = 1.1\n",
    "d2[np.nonzero(hydro_classes['cold_wds_cs_noperma'].values)] = 0.3\n",
    "d2[np.nonzero(hydro_classes['polar'].values)] = 0.1\n",
    "\n",
    "# arr_nlayer = np.rollaxis(np.dstack((masknan_vals, masknan_vals, masknan_vals)), axis=2)\n",
    "\n",
    "depths = np.rollaxis(np.dstack((d1, d2, d3)), axis=2)\n",
    "\n",
    "params['depth'] = xr.DataArray(depths,\n",
    "                                dims=('nlayer','nj', 'ni'),\n",
    "                                coords={'xc': domain.xc, 'yc': domain.yc},\n",
    "                                attrs={'description': \"Thickness of each soil moisture layer\",\n",
    "                                   'units': \"m\", 'long_name': \"depth\"},\n",
    "                                encoding={\"_FillValue\": fillval_f,\n",
    "                                       \"Coordinates\": \"xc yc\"})"
   ]
  },
  {
   "cell_type": "markdown",
   "metadata": {},
   "source": [
    "aggregate ISRIC soil data to VIC soil depths"
   ]
  },
  {
   "cell_type": "markdown",
   "metadata": {},
   "source": [
    "first need array of soil depths "
   ]
  },
  {
   "cell_type": "code",
   "execution_count": 44,
   "metadata": {},
   "outputs": [],
   "source": [
    "soil_depths = params['depth'].sum(axis=0)"
   ]
  },
  {
   "cell_type": "code",
   "execution_count": 45,
   "metadata": {},
   "outputs": [
    {
     "data": {
      "text/plain": [
       "<matplotlib.collections.QuadMesh at 0x7f756823be48>"
      ]
     },
     "execution_count": 45,
     "metadata": {},
     "output_type": "execute_result"
    },
    {
     "data": {
      "image/png": "[encoded data removed]",
      "text/plain": [
       "<Figure size 432x288 with 2 Axes>"
      ]
     },
     "metadata": {},
     "output_type": "display_data"
    }
   ],
   "source": [
    "soil_depths.where(domain.mask ==1).plot()"
   ]
  },
  {
   "cell_type": "code",
   "execution_count": 46,
   "metadata": {},
   "outputs": [
    {
     "name": "stdout",
     "output_type": "stream",
     "text": [
      "max soil depth is 2.6 m\n"
     ]
    }
   ],
   "source": [
    "print(\"max soil depth is %.1f m\" % soil_depths.max())"
   ]
  },
  {
   "cell_type": "code",
   "execution_count": 47,
   "metadata": {},
   "outputs": [],
   "source": [
    "def calculate_first_layer_harmonic_mean(sl1, sl2):\n",
    "    '''\n",
    "    takes in two values over which to calculate the harmonic mean, uses hmean from scipy.stats package\n",
    "    '''\n",
    "    arr = np.array([sl1, sl2])\n",
    "    return(hmean(arr))\n",
    "\n",
    "def calculate_second_layer_harmonic_mean(sl3, sl4, sl5, sl6, sl7, total_depth):\n",
    "    '''\n",
    "    sl3: 0.15m, sl4: 0.3m, sl5: 0.6m, sl6: 1m, sl7: 2m\n",
    "    takes in sl3-7 and returns harmonic mean of whatever layers are included in the profile\n",
    "    '''\n",
    "    d1 = 0.1 # spatially homogenous first layer soil depth\n",
    "    d3 = 0.5 # spatially homogenous third layer soil depth\n",
    "    second_layer = total_depth - (d1 + d3)\n",
    "    if second_layer < 0.3:\n",
    "        return(sl3)\n",
    "    elif second_layer >= 0.3 and second_layer < 0.6:\n",
    "        return(hmean(np.array([sl3, sl4])))\n",
    "    elif second_layer >= 0.6 and second_layer <= 1:\n",
    "        return(hmean(np.array([sl5, sl6])))\n",
    "    elif second_layer >= 1 and second_layer <= 2:\n",
    "        return(hmean(np.array([sl5, sl6])))\n",
    "    elif second_layer > 2:\n",
    "        return(sl6)\n",
    "    else:\n",
    "        raise ValueError(\"layer did not get assigned\")\n",
    "\n",
    "def calculate_third_layer_harmonic_mean(sl3, sl4, sl5, sl6, sl7, total_depth):\n",
    "    '''\n",
    "    sl3: 0.15m, sl4: 0.3m, sl5: 0.6m, sl6: 1m, sl7: 2m\n",
    "    takes in sl3-7 and returns harmonic mean of whatever layers are included in the profile\n",
    "    '''\n",
    "    if total_depth > 0:\n",
    "        d1 = 0.1 # spatially homogenous first layer soil depth\n",
    "        d3 = 0.5 # spatially homogenous third layer soil depth\n",
    "        second_layer = total_depth - (d1 + d3)\n",
    "        second_layer_depth = d1 + second_layer\n",
    "        if second_layer_depth >= 0.1 and total_depth <= 1.0:\n",
    "            return(sl4)\n",
    "        elif second_layer_depth >= 0.3 and total_depth <= 1.5: \n",
    "            return(hmean(np.array([sl4, sl5, sl6])))\n",
    "        elif second_layer_depth >= 0.6 and total_depth <= 1.5: \n",
    "            return(hmean(np.array([sl5, sl6])))\n",
    "        elif second_layer_depth >= 1.0 and second_layer_depth < 1.5:\n",
    "            return(hmean(np.array([sl6])))\n",
    "        elif second_layer_depth > 1.5:\n",
    "            return(sl7)\n",
    "        else:\n",
    "            print(\"second layer depth is %f \" % second_layer_depth)\n",
    "            print(\"total depth is %f\" % total_depth)\n",
    "            raise ValueError(\"layer did not get assigned\")\n",
    "    else: \n",
    "        return(0)"
   ]
  },
  {
   "cell_type": "code",
   "execution_count": 48,
   "metadata": {},
   "outputs": [],
   "source": [
    "def calculate_first_layer_arithmetic_mean(sl1, sl2):\n",
    "    '''\n",
    "    takes in two values over which to calculate the arithmetic mean\n",
    "    '''\n",
    "    arr = np.array([sl1, sl2])\n",
    "    return(np.mean(arr))\n",
    "\n",
    "def calculate_second_layer_arithmetic_mean(sl3, sl4, sl5, sl6, sl7, total_depth):\n",
    "    '''\n",
    "    sl3: 0.15m, sl4: 0.3m, sl5: 0.6m, sl6: 1m, sl7: 2m\n",
    "    takes in sl3-7 and returns arithmetic mean of whatever layers are included in the profile\n",
    "    '''\n",
    "    d1 = 0.1 # spatially homogenous first layer soil depth\n",
    "    d3 = 0.5 # spatially homogenous third layer soil depth\n",
    "    second_layer = total_depth - (d1 + d3)\n",
    "    if second_layer < 0.3:\n",
    "        return(sl3)\n",
    "    elif second_layer >= 0.3 and second_layer < 0.6:\n",
    "        return(np.mean(np.array([sl3, sl4])))\n",
    "    elif second_layer >= 0.6 and second_layer <= 1:\n",
    "        return(np.mean(np.array([sl5, sl6])))\n",
    "    elif second_layer >= 1 and second_layer <= 2:\n",
    "        return(np.mean(np.array([sl5, sl6])))\n",
    "    elif second_layer > 2:\n",
    "        return(sl6)\n",
    "    else:\n",
    "        raise ValueError(\"layer did not get assigned\")\n",
    "\n",
    "def calculate_third_layer_arithmetic_mean(sl3, sl4, sl5, sl6, sl7, total_depth):\n",
    "    '''\n",
    "    sl3: 0.15m, sl4: 0.3m, sl5: 0.6m, sl6: 1m, sl7: 2m\n",
    "    takes in sl3-7 and returns arithmetic mean of whatever layers are included in the profile\n",
    "    '''\n",
    "    if total_depth > 0:\n",
    "        d1 = 0.1 # spatially homogenous first layer soil depth\n",
    "        d3 = 0.5 # spatially homogenous third layer soil depth\n",
    "        second_layer = total_depth - (d1 + d3)\n",
    "        second_layer_depth = d1 + second_layer\n",
    "        if second_layer_depth >= 0.1 and total_depth <= 1.0:\n",
    "            return(sl4)\n",
    "        elif second_layer_depth >= 0.3 and total_depth <= 1.5: \n",
    "            return(np.mean(np.array([sl4, sl5, sl6])))\n",
    "        elif second_layer_depth >= 0.6 and total_depth <= 1.5: \n",
    "            return(np.mean(np.array([sl5, sl6])))\n",
    "        elif second_layer_depth >= 1.0 and second_layer_depth < 1.5:\n",
    "            return(np.mean(np.array([sl6])))\n",
    "        elif second_layer_depth >= 1.5:\n",
    "            return(sl7)\n",
    "        else:\n",
    "            raise ValueError(\"layer did not get assigned\")\n",
    "    else: \n",
    "        return(0)"
   ]
  },
  {
   "cell_type": "code",
   "execution_count": 49,
   "metadata": {},
   "outputs": [],
   "source": [
    "ksat_l1 = xr.apply_ufunc(calculate_first_layer_harmonic_mean,\n",
    "                         ksat.isel(nlayer=0), \n",
    "                         ksat.isel(nlayer=1),\n",
    "                         dask='allowed',\n",
    "                         vectorize=True)\n",
    "\n",
    "ksat_l2 = xr.apply_ufunc(calculate_second_layer_harmonic_mean,\n",
    "                         ksat.isel(nlayer=2), \n",
    "                         ksat.isel(nlayer=3),\n",
    "                         ksat.isel(nlayer=4),\n",
    "                         ksat.isel(nlayer=5),\n",
    "                         ksat.isel(nlayer=6),\n",
    "                         soil_depths,\n",
    "                         dask='allowed',\n",
    "                         vectorize=True)\n",
    "\n",
    "ksat_l3 = xr.apply_ufunc(calculate_third_layer_harmonic_mean,\n",
    "                         ksat.isel(nlayer=2), \n",
    "                         ksat.isel(nlayer=3),\n",
    "                         ksat.isel(nlayer=4),\n",
    "                         ksat.isel(nlayer=5),\n",
    "                         ksat.isel(nlayer=6),\n",
    "                         soil_depths,\n",
    "                         dask='allowed',\n",
    "                         vectorize=True)\n",
    "\n",
    "ksat_vals = np.rollaxis(np.dstack((ksat_l1, ksat_l2, ksat_l3)), \n",
    "                        axis=2)\n",
    "\n",
    "params['Ksat'] = xr.DataArray(ksat_vals, \n",
    "                              dims=('nlayer','nj', 'ni'),\n",
    "                              coords={'xc': domain.xc, 'yc': domain.yc},\n",
    "                              attrs={'description': \"Saturated hydraulic conductivity\",\n",
    "                                       'units': \"mm/day\", 'long_name': \"Ksat\"},\n",
    "                              encoding={\"_FillValue\": fillval_f,\n",
    "                                         \"Coordinates\": \"xc yc\"})"
   ]
  },
  {
   "cell_type": "code",
   "execution_count": 50,
   "metadata": {},
   "outputs": [],
   "source": [
    "# expt\n",
    "b_l1 = xr.apply_ufunc(calculate_first_layer_arithmetic_mean,\n",
    "                         b.isel(nlayer=0), \n",
    "                         b.isel(nlayer=1),\n",
    "                         dask='allowed',\n",
    "                         vectorize=True)\n",
    "\n",
    "b_l2 = xr.apply_ufunc(calculate_second_layer_arithmetic_mean,\n",
    "                         b.isel(nlayer=2), \n",
    "                         b.isel(nlayer=3),\n",
    "                         b.isel(nlayer=4),\n",
    "                         b.isel(nlayer=5),\n",
    "                         b.isel(nlayer=6),\n",
    "                         soil_depths,\n",
    "                         dask='allowed',\n",
    "                         vectorize=True)\n",
    "\n",
    "b_l3 = xr.apply_ufunc(calculate_third_layer_arithmetic_mean,\n",
    "                         b.isel(nlayer=2), \n",
    "                         b.isel(nlayer=3),\n",
    "                         b.isel(nlayer=4),\n",
    "                         b.isel(nlayer=5),\n",
    "                         b.isel(nlayer=6),\n",
    "                         soil_depths,\n",
    "                         dask='allowed',\n",
    "                         vectorize=True)\n",
    "\n",
    "expt_vals = np.rollaxis(np.dstack(((b_l1 * 2) + 3, (b_l2 * 2) + 3, (b_l3 * 2) + 3)), \n",
    "                        axis=2)\n",
    "\n",
    "params['expt'] = xr.DataArray(expt_vals,\n",
    "                                   dims=('nlayer','nj', 'ni'),\n",
    "                                   coords={'xc': domain.xc, 'yc': domain.yc},\n",
    "                                   attrs={'description': \"Exponent n (=3+2/lambda) in Campbell's eqt for Ksat, HBH 5.6 \\\n",
    "                                           where lambda = soil pore size distribution parameter\", \n",
    "                                           'units': \"N/A\", 'long_name': \"expt\"},\n",
    "                                   encoding={\"_FillValue\": fillval_f,\n",
    "                                             \"Coordinates\": \"xc yc\"})\n",
    "params['bubble'] = xr.DataArray((np.copy(params['expt'].values) * 0.32) + 4.3,\n",
    "                                         dims=('nlayer','nj', 'ni'),\n",
    "                                         coords={'xc': domain.xc, 'yc': domain.yc},\n",
    "                                         attrs={'description': \"Bubbling pressure of soil. Values should be > 0\",\n",
    "                                           'units': \"cm\", 'long_name': \"bubble\"},\n",
    "                                     encoding={\"_FillValue\": fillval_f,\n",
    "                                               \"Coordinates\": \"xc yc\"})"
   ]
  },
  {
   "cell_type": "code",
   "execution_count": 51,
   "metadata": {},
   "outputs": [],
   "source": [
    "# resid_moist\n",
    "rm_l1 = xr.apply_ufunc(calculate_first_layer_arithmetic_mean,\n",
    "                         resid_moist.isel(nlayer=0), \n",
    "                         resid_moist.isel(nlayer=1),\n",
    "                         dask='allowed',\n",
    "                         vectorize=True)\n",
    "\n",
    "rm_l2 = xr.apply_ufunc(calculate_second_layer_arithmetic_mean,\n",
    "                         resid_moist.isel(nlayer=2), \n",
    "                         resid_moist.isel(nlayer=3),\n",
    "                         resid_moist.isel(nlayer=4),\n",
    "                         resid_moist.isel(nlayer=5),\n",
    "                         resid_moist.isel(nlayer=6),\n",
    "                         soil_depths,\n",
    "                         dask='allowed',\n",
    "                         vectorize=True)\n",
    "\n",
    "rm_l3 = xr.apply_ufunc(calculate_third_layer_arithmetic_mean,\n",
    "                         resid_moist.isel(nlayer=2), \n",
    "                         resid_moist.isel(nlayer=3),\n",
    "                         resid_moist.isel(nlayer=4),\n",
    "                         resid_moist.isel(nlayer=5),\n",
    "                         resid_moist.isel(nlayer=6),\n",
    "                         soil_depths,\n",
    "                         dask='allowed',\n",
    "                         vectorize=True)\n",
    "rm_vals = np.rollaxis(np.dstack((rm_l1, rm_l2, rm_l3)), \n",
    "                        axis=2)\n",
    "params['resid_moist'] = xr.DataArray(rm_vals,\n",
    "                                         dims=('nlayer','nj', 'ni'),\n",
    "                                         coords={'xc': domain.xc, 'yc': domain.yc},\n",
    "                                         attrs={'description': \"Soil moisture layer residual moisture\",\n",
    "                                           'units': \"fraction\", 'long_name': \"resid_moist\"},\n",
    "                                         encoding={\"_FillValue\": fillval_f,\n",
    "                                               \"Coordinates\": \"xc yc\"})"
   ]
  },
  {
   "cell_type": "code",
   "execution_count": 52,
   "metadata": {},
   "outputs": [],
   "source": [
    "# Wcr_FRACT\n",
    "wcr_l1 = xr.apply_ufunc(calculate_first_layer_arithmetic_mean,\n",
    "                         Wcr_FRACT.isel(nlayer=0), \n",
    "                         Wcr_FRACT.isel(nlayer=1),\n",
    "                         dask='allowed',\n",
    "                         vectorize=True)\n",
    "\n",
    "wcr_l2 = xr.apply_ufunc(calculate_second_layer_arithmetic_mean,\n",
    "                         Wcr_FRACT.isel(nlayer=2), \n",
    "                         Wcr_FRACT.isel(nlayer=3),\n",
    "                         Wcr_FRACT.isel(nlayer=4),\n",
    "                         Wcr_FRACT.isel(nlayer=5),\n",
    "                         Wcr_FRACT.isel(nlayer=6),\n",
    "                         soil_depths,\n",
    "                         dask='allowed',\n",
    "                         vectorize=True)\n",
    "\n",
    "wcr_l3 = xr.apply_ufunc(calculate_third_layer_arithmetic_mean,\n",
    "                         Wcr_FRACT.isel(nlayer=2), \n",
    "                         Wcr_FRACT.isel(nlayer=3),\n",
    "                         Wcr_FRACT.isel(nlayer=4),\n",
    "                         Wcr_FRACT.isel(nlayer=5),\n",
    "                         Wcr_FRACT.isel(nlayer=6),\n",
    "                         soil_depths,\n",
    "                         dask='allowed',\n",
    "                         vectorize=True)\n",
    "wcr_vals = np.rollaxis(np.dstack((wcr_l1, wcr_l2, wcr_l3)), \n",
    "                        axis=2)\n",
    "\n",
    "params['Wcr_FRACT'] = xr.DataArray(wcr_vals,\n",
    "                                         dims=('nlayer','nj', 'ni'),\n",
    "                                         coords={'xc': domain.xc, 'yc': domain.yc},\n",
    "                                         attrs={'description': \"Fractional soil moisture content at the critical point \\\n",
    "                                                (~70%% of field capacity) (fraction of maximum moisture)\",\n",
    "                                           'units': \"fraction\", 'long_name': \"Wcr_FRACT\"},\n",
    "                                         encoding={\"_FillValue\": fillval_f,\n",
    "                                               \"Coordinates\": \"xc yc\"})"
   ]
  },
  {
   "cell_type": "code",
   "execution_count": 53,
   "metadata": {},
   "outputs": [],
   "source": [
    "def check_wpwp_fract(wpwp, soil_layer_depth, wcr, resid_moist):\n",
    "    '''\n",
    "    takes wpwp, soil layer depth, and resid moist and checks that Wpwp_FRACT \n",
    "    is >= resid_moist * soil layer depth * 1000 (because it's in m)\n",
    "    '''\n",
    "    MM_PER_M = 1000\n",
    "    if wpwp < (resid_moist * soil_layer_depth * MM_PER_M): \n",
    "        wpwp = (resid_moist * soil_layer_depth * MM_PER_M)\n",
    "        \n",
    "    if wpwp > wcr:\n",
    "        wpwp = wcr\n",
    "        \n",
    "    return(wpwp)"
   ]
  },
  {
   "cell_type": "code",
   "execution_count": 54,
   "metadata": {},
   "outputs": [],
   "source": [
    "# Wpwp_FRACT\n",
    "wpwp_l1 = xr.apply_ufunc(calculate_first_layer_arithmetic_mean,\n",
    "                         Wpwp_FRACT.isel(nlayer=0), \n",
    "                         Wpwp_FRACT.isel(nlayer=1),\n",
    "                         dask='allowed',\n",
    "                         vectorize=True)\n",
    "\n",
    "wpwp_l2 = xr.apply_ufunc(calculate_second_layer_arithmetic_mean,\n",
    "                         Wpwp_FRACT.isel(nlayer=2), \n",
    "                         Wpwp_FRACT.isel(nlayer=3),\n",
    "                         Wpwp_FRACT.isel(nlayer=4),\n",
    "                         Wpwp_FRACT.isel(nlayer=5),\n",
    "                         Wpwp_FRACT.isel(nlayer=6),\n",
    "                         soil_depths,\n",
    "                         dask='allowed',\n",
    "                         vectorize=True)\n",
    "\n",
    "wpwp_l3 = xr.apply_ufunc(calculate_third_layer_arithmetic_mean,\n",
    "                         Wpwp_FRACT.isel(nlayer=2), \n",
    "                         Wpwp_FRACT.isel(nlayer=3),\n",
    "                         Wpwp_FRACT.isel(nlayer=4),\n",
    "                         Wpwp_FRACT.isel(nlayer=5),\n",
    "                         Wpwp_FRACT.isel(nlayer=6),\n",
    "                         soil_depths,\n",
    "                         dask='allowed',\n",
    "                         vectorize=True)\n",
    "\n",
    "wpwp_l1_checked = xr.apply_ufunc(check_wpwp_fract,\n",
    "                                 wpwp_l1, \n",
    "                                 params.depth.isel(nlayer=0),\n",
    "                                 params.Wcr_FRACT.isel(nlayer=0),\n",
    "                                 params.resid_moist.isel(nlayer=0),\n",
    "                                 dask='allowed', \n",
    "                                 vectorize=True)\n",
    "wpwp_l2_checked = xr.apply_ufunc(check_wpwp_fract,\n",
    "                                 wpwp_l2, \n",
    "                                 params.depth.isel(nlayer=1),\n",
    "                                 params.Wcr_FRACT.isel(nlayer=1),\n",
    "                                 params.resid_moist.isel(nlayer=1),\n",
    "                                 dask='allowed', \n",
    "                                 vectorize=True)\n",
    "wpwp_l3_checked = xr.apply_ufunc(check_wpwp_fract,\n",
    "                                 wpwp_l3, \n",
    "                                 params.depth.isel(nlayer=2),\n",
    "                                 params.Wcr_FRACT.isel(nlayer=2),\n",
    "                                 params.resid_moist.isel(nlayer=2),\n",
    "                                 dask='allowed', \n",
    "                                 vectorize=True)\n",
    "\n",
    "wpwp_vals = np.rollaxis(np.dstack((wpwp_l1_checked, wpwp_l2_checked, wpwp_l3_checked)), \n",
    "                        axis=2)\n",
    "params['Wpwp_FRACT'] = xr.DataArray(wpwp_vals,\n",
    "                                         dims=('nlayer','nj', 'ni'),\n",
    "                                         coords={'xc': domain.xc, 'yc': domain.yc},\n",
    "                                         attrs={'description': \"Fractional soil moisture content at the \\\n",
    "                                                wilting point (fraction of maximum moisture)\",\n",
    "                                           'units': \"fraction\", 'long_name': \"Wpwp_FRACT\"},\n",
    "                                         encoding={\"_FillValue\": fillval_f,\n",
    "                                               \"Coordinates\": \"xc yc\"})"
   ]
  },
  {
   "cell_type": "code",
   "execution_count": 55,
   "metadata": {},
   "outputs": [],
   "source": [
    "# quartz\n",
    "qz_l1 = xr.apply_ufunc(calculate_first_layer_arithmetic_mean,\n",
    "                         quartz.isel(nlayer=0), \n",
    "                         quartz.isel(nlayer=1),\n",
    "                         dask='allowed',\n",
    "                         vectorize=True)\n",
    "\n",
    "qz_l2 = xr.apply_ufunc(calculate_second_layer_arithmetic_mean,\n",
    "                         quartz.isel(nlayer=2), \n",
    "                         quartz.isel(nlayer=3),\n",
    "                         quartz.isel(nlayer=4),\n",
    "                         quartz.isel(nlayer=5),\n",
    "                         quartz.isel(nlayer=6),\n",
    "                         soil_depths,\n",
    "                         dask='allowed',\n",
    "                         vectorize=True)\n",
    "\n",
    "qz_l3 = xr.apply_ufunc(calculate_third_layer_arithmetic_mean,\n",
    "                         quartz.isel(nlayer=2), \n",
    "                         quartz.isel(nlayer=3),\n",
    "                         quartz.isel(nlayer=4),\n",
    "                         quartz.isel(nlayer=5),\n",
    "                         quartz.isel(nlayer=6),\n",
    "                         soil_depths,\n",
    "                         dask='allowed',\n",
    "                         vectorize=True)\n",
    "qz_vals = np.rollaxis(np.dstack((qz_l1, qz_l2, qz_l3)), \n",
    "                        axis=2)\n",
    "\n",
    "params['quartz'] = xr.DataArray(qz_vals,\n",
    "                                dims=('nlayer','nj', 'ni'),\n",
    "                                coords={'xc': domain.xc, 'yc': domain.yc},\n",
    "                                attrs={'description': \"Quartz content of soil\",\n",
    "                                       'units': \"cm\", 'long_name': \"quartz\"},\n",
    "                                encoding={\"_FillValue\": fillval_f,\n",
    "                                       \"Coordinates\": \"xc yc\"})"
   ]
  },
  {
   "cell_type": "code",
   "execution_count": 56,
   "metadata": {},
   "outputs": [],
   "source": [
    "# bulk_density\n",
    "bd_l1 = xr.apply_ufunc(calculate_first_layer_arithmetic_mean,\n",
    "                         soil_data['bulk_density']['bulk_density'].isel(nlayer=0), \n",
    "                         soil_data['bulk_density']['bulk_density'].isel(nlayer=1),\n",
    "                         dask='allowed',\n",
    "                         vectorize=True)\n",
    "\n",
    "bd_l2 = xr.apply_ufunc(calculate_second_layer_arithmetic_mean,\n",
    "                         soil_data['bulk_density']['bulk_density'].isel(nlayer=2), \n",
    "                         soil_data['bulk_density']['bulk_density'].isel(nlayer=3),\n",
    "                         soil_data['bulk_density']['bulk_density'].isel(nlayer=4),\n",
    "                         soil_data['bulk_density']['bulk_density'].isel(nlayer=5),\n",
    "                         soil_data['bulk_density']['bulk_density'].isel(nlayer=6),\n",
    "                         soil_depths,\n",
    "                         dask='allowed',\n",
    "                         vectorize=True)\n",
    "\n",
    "bd_l3 = xr.apply_ufunc(calculate_third_layer_arithmetic_mean,\n",
    "                         soil_data['bulk_density']['bulk_density'].isel(nlayer=2), \n",
    "                         soil_data['bulk_density']['bulk_density'].isel(nlayer=3),\n",
    "                         soil_data['bulk_density']['bulk_density'].isel(nlayer=4),\n",
    "                         soil_data['bulk_density']['bulk_density'].isel(nlayer=5),\n",
    "                         soil_data['bulk_density']['bulk_density'].isel(nlayer=6),\n",
    "                         soil_depths,\n",
    "                         dask='allowed',\n",
    "                         vectorize=True)\n",
    "bd_vals = np.rollaxis(np.dstack((bd_l1, bd_l2, bd_l3)), \n",
    "                        axis=2)\n",
    "\n",
    "params['bulk_density'] = xr.DataArray(bd_vals,\n",
    "                                      dims=('nlayer','nj', 'ni'),\n",
    "                                      coords={'xc': domain.xc, 'yc': domain.yc},\n",
    "                                      attrs={'description': \"Bulk density of soil layer\",\n",
    "                                             'units': \"kg/m3\", 'long_name': \"bulk_density\"},\n",
    "                                      encoding={\"_FillValue\": fillval_f,\n",
    "                                             \"Coordinates\": \"xc yc\"})"
   ]
  },
  {
   "cell_type": "markdown",
   "metadata": {},
   "source": [
    "# to do: make initial moisture fully saturated "
   ]
  },
  {
   "cell_type": "code",
   "execution_count": 57,
   "metadata": {},
   "outputs": [],
   "source": [
    "params['init_moist'] = xr.DataArray(old_params['init_moist'].values,\n",
    "                                    dims=('nlayer','nj', 'ni'),\n",
    "                                    coords={'xc': domain.xc, 'yc': domain.yc},\n",
    "                                    attrs={'description': \"Initial layer moisture content\",\n",
    "                                           'units': \"mm\", 'long_name': \"init_moist\"},\n",
    "                                    encoding={\"_FillValue\": fillval_f,\n",
    "                                             \"Coordinates\": \"xc yc\"})"
   ]
  },
  {
   "cell_type": "markdown",
   "metadata": {},
   "source": [
    "still need to add: elev, c, phi_s, avg_T, dp, bubble, bulk_density, soil_density, off_gmt, rough, snow_rough,\n",
    "annual_prec, fs_active"
   ]
  },
  {
   "cell_type": "code",
   "execution_count": 58,
   "metadata": {},
   "outputs": [],
   "source": [
    "params['off_gmt'] = xr.DataArray(old_params['off_gmt'].values,\n",
    "                                 dims=('nj', 'ni'),\n",
    "                                 coords={'xc': domain.xc, 'yc': domain.yc},\n",
    "                                 encoding={\"_FillValue\": fillval_f,\n",
    "                                               \"Coordinates\": \"xc yc\"})\n",
    "params['phi_s'] = xr.DataArray(old_params['phi_s'].values,\n",
    "                                    dims=('nlayer','nj', 'ni'),\n",
    "                                    coords={'xc': domain.xc, 'yc': domain.yc},\n",
    "                                    attrs={'description': \"Soil moisture diffusion parameter\",\n",
    "                                           'units': \"mm/mm\", 'long_name': \"phi_s\"},\n",
    "                                    encoding={\"_FillValue\": fillval_f,\n",
    "                                              \"Coordinates\": \"xc yc\"})\n",
    "params['fs_active'] = xr.DataArray(old_params['fs_active'].values,\n",
    "                                dims=('nj', 'ni'),\n",
    "                                coords={'xc': domain.xc, 'yc': domain.yc},\n",
    "                                attrs={'description': \"If set to 1, then frozen soil algorithm is activated for the \\\n",
    "                                        grid cell. A 0 indicates that frozen soils are not computed if soil \\\n",
    "                                        temperatures fall below 0C.\", \n",
    "                                        'units': \"binary\", 'long_name': \"fs_active\"},\n",
    "                                encoding={\"_FillValue\": fillval_i,\n",
    "                                               \"Coordinates\": \"xc yc\", 'dtype': 'int32'})\n",
    "params['dp'] = xr.DataArray(old_params['dp'].values,\n",
    "                                dims=('nj', 'ni'),\n",
    "                                coords={'xc': domain.xc, 'yc': domain.yc},\n",
    "                                attrs={'description': \"Soil thermal damping depth (depth at which soil temperature) \\\n",
    "                                        remains constant through the year, ~4 m\", \n",
    "                                              'units': \"m\", 'long_name': \"dp\"},\n",
    "                                encoding={\"_FillValue\": fillval_f,\n",
    "                                               \"Coordinates\": \"xc yc\"})"
   ]
  },
  {
   "cell_type": "code",
   "execution_count": 59,
   "metadata": {},
   "outputs": [],
   "source": [
    "sd_l1 = np.copy(masknan_vals)\n",
    "sd_l2 = np.copy(masknan_vals)\n",
    "sd_l3 = np.copy(masknan_vals)\n",
    "\n",
    "sd_l1[np.nonzero(masknan_vals)] = 2685.0\n",
    "sd_l2[np.nonzero(masknan_vals)] = 2685.0\n",
    "sd_l3[np.nonzero(masknan_vals)] = 2685.0\n",
    "\n",
    "sd_vals = np.rollaxis(np.dstack((sd_l1, sd_l2, sd_l3)), \n",
    "                        axis=2)\n",
    "params['soil_density'] = xr.DataArray(sd_vals,\n",
    "                                      dims=('nlayer','nj', 'ni'),\n",
    "                                      coords={'xc': domain.xc, 'yc': domain.yc},\n",
    "                                      attrs={'description': \"Soil particle density, normally 2685 kg/m3\",\n",
    "                                       'units': \"kg/m3\", 'long_name': \"soil_density\"},\n",
    "                                      encoding={\"_FillValue\": fillval_f,\n",
    "                                           \"Coordinates\": \"xc yc\"})\n",
    "c = np.copy(masknan_vals)\n",
    "c[np.nonzero(masknan_vals)] = 2.0\n",
    "params['c'] = xr.DataArray(c,\n",
    "                           dims=('nj', 'ni'),\n",
    "                           coords={'xc': domain.xc, 'yc': domain.yc},\n",
    "                           attrs={'description': \"Exponent used in baseflow curve, normally set to 2\", \n",
    "                                      'units': \"N/A\", 'long_name': \"c\"},\n",
    "                           encoding={\"_FillValue\": fillval_f,\n",
    "                                  \"Coordinates\": \"xc yc\"})\n",
    "snow_rough = np.copy(masknan_vals)\n",
    "snow_rough[np.nonzero(masknan_vals)] = 0.0024\n",
    "params['snow_rough'] = xr.DataArray(snow_rough,\n",
    "                                    dims=('nj', 'ni'),\n",
    "                                    coords={'xc': domain.xc, 'yc': domain.yc},\n",
    "                                    attrs={'description': \"Surface roughness of snowpack\", \n",
    "                                              'units': \"m\", 'long_name': \"snow_rough\"},\n",
    "                                    encoding={\"_FillValue\": fillval_f,\n",
    "                                               \"Coordinates\": \"xc yc\"})"
   ]
  },
  {
   "cell_type": "code",
   "execution_count": 60,
   "metadata": {},
   "outputs": [],
   "source": [
    "# add run_cell, mask, xv and yv, xc, yc, gridcell, lats, lons\n",
    "params['run_cell'] = xr.DataArray(old_params['run_cell'].values, \n",
    "                                       dims=('nj', 'ni'),\n",
    "                                       coords={'xc': domain.xc, 'yc': domain.yc},\n",
    "                                       attrs={'units': \"N/A\", 'long_name': \"run_cell\"},\n",
    "                                       encoding={\"_FillValue\": fillval_i,\n",
    "                                                 \"Coordinates\": \"xc yc\",\n",
    "                                                 \"dtype\": \"int32\"})\n",
    "params['mask'] = xr.DataArray(domain['mask'].values,\n",
    "                                   dims=('nj', 'ni'),\n",
    "                                   coords={'xc': domain.xc, 'yc': domain.yc},\n",
    "                                   attrs={'description': \"0 value indicates cell is not active\", \n",
    "                                          'units': \"N/A\", 'long_name': \"mask\", 'bounds': 'yv'},\n",
    "                                   encoding={\"_FillValue\": fillval_i,\n",
    "                                                 \"Coordinates\": \"xc yc\",\n",
    "                                                 \"dtype\": \"int32\"})\n",
    "params['gridcell'] = xr.DataArray(old_params['gridcell'].values, \n",
    "                                       dims=('nj', 'ni'),\n",
    "                                       coords={'xc': domain.xc, 'yc': domain.yc},\n",
    "                                       attrs={'description': \"Grid cell number\", \n",
    "                                              'units': \"N/A\", 'long_name': \"gridcell\"},\n",
    "                                       encoding={\"_FillValue\": fillval_i,\n",
    "                                                 \"Coordinates\": \"xc yc\", \"dtype\": \"int32\"})\n",
    "params['lats'] = xr.DataArray(old_params.lats.values, \n",
    "                                   dims=('nj', 'ni'),\n",
    "                                   coords={'xc': domain.xc, 'yc': domain.yc},\n",
    "                                   attrs={'description': \"Latitude of grid cell\", \n",
    "                                              'units': \"degrees\", 'long_name': \"lats\"})\n",
    "params['lons'] = xr.DataArray(old_params.lons.values,\n",
    "                                   dims=('nj', 'ni'),\n",
    "                                   coords={'xc': domain.xc, 'yc': domain.yc},\n",
    "                                   attrs={'description': \"Longitude of grid cell\", \n",
    "                                          'units': \"degrees\", 'long_name': \"lons\"})\n",
    "params['xc'] = xr.DataArray(domain['xc'].values,\n",
    "                                 dims=('nj', 'ni'),\n",
    "                                 attrs={'units': \"degrees_east\", 'long_name': \"longitude of gridcell center\",\n",
    "                                        'bounds': 'xv'})\n",
    "params['yc'] = xr.DataArray(domain['yc'].values,\n",
    "                                 dims=('nj', 'ni'),\n",
    "                                 attrs={'units': \"degrees_north\", 'long_name': \"latitude of gridcell center\",\n",
    "                                        'bounds': 'yv'})\n",
    "\n",
    "domain = domain.rename({'nv': 'nv4'})\n",
    "params['xv'] = xr.DataArray(np.rollaxis(domain['xv'].values, axis=2),\n",
    "                                 dims=('nv4', 'nj', 'ni'),\n",
    "                                 attrs={'units': \"degrees_east\", \n",
    "                                        'long_name': \"longitude of grid cell vertices\"})\n",
    "\n",
    "params['yv'] = xr.DataArray(np.rollaxis(domain['yv'].values, axis=2),\n",
    "                                 dims=('nv4', 'nj', 'ni'),\n",
    "                                 attrs={'units': \"degrees_north\", \n",
    "                                        'long_name': \"latitude of grid cell vertices\"})"
   ]
  },
  {
   "cell_type": "markdown",
   "metadata": {},
   "source": [
    "swap 0th and 16th veg class to accommodate bare soil. \n",
    "\n",
    "veg class vars: Cv, Nveg, trunk_ratio, rarc, rmin, wind_h, RGL, rad_atten, wind_atten, albedo, LAI, overstory, displacement, veg_rough, root_depth, root_fract"
   ]
  },
  {
   "cell_type": "code",
   "execution_count": 61,
   "metadata": {},
   "outputs": [
    {
     "data": {
      "text/plain": [
       "<matplotlib.collections.QuadMesh at 0x7f756810aa90>"
      ]
     },
     "execution_count": 61,
     "metadata": {},
     "output_type": "execute_result"
    },
    {
     "data": {
      "image/png": "[encoded data removed]",
      "text/plain": [
       "<Figure size 432x288 with 2 Axes>"
      ]
     },
     "metadata": {},
     "output_type": "display_data"
    }
   ],
   "source": [
    "params['Cv'].isel(veg_class=16).plot()"
   ]
  },
  {
   "cell_type": "code",
   "execution_count": 62,
   "metadata": {},
   "outputs": [],
   "source": [
    "veg_class_vars = ['Cv', 'trunk_ratio', 'rarc', 'rmin', 'wind_h', 'RGL', 'rad_atten',\n",
    "                  'wind_atten', 'albedo', 'LAI', 'overstory',\n",
    "                  'root_depth', 'root_fract', 'displacement', 'veg_rough']\n",
    "\n",
    "for veg_class_var in veg_class_vars: \n",
    "    if ((veg_class_var == \"LAI\") or (veg_class_var == \"albedo\") or (veg_class_var == \"root_depth\") \n",
    "    or (veg_class_var == \"root_fract\") or (veg_class_var == \"veg_rough\") or \n",
    "        (veg_class_var == \"displacement\")):\n",
    "        # bare = np.copy(params[veg_class_var].values[0, :, :, :])\n",
    "        # last = np.copy(params[veg_class_var].values[16, :, :, :])\n",
    "        bare = np.copy(params[veg_class_var].isel(veg_class=0))\n",
    "        last = np.copy(params[veg_class_var].isel(veg_class=16))\n",
    "        params[veg_class_var].values[0, :, :, :] = last\n",
    "        params[veg_class_var].values[16, :, :, :] = bare\n",
    "    else:\n",
    "        # bare = np.copy(params[veg_class_var].values[0, :, :])\n",
    "        # last = np.copy(params[veg_class_var].values[16, :, :])\n",
    "        bare = np.copy(params[veg_class_var].isel(veg_class=0))\n",
    "        last = np.copy(params[veg_class_var].isel(veg_class=16))\n",
    "        params[veg_class_var].values[0, :, :] = last\n",
    "        params[veg_class_var].values[16, :, :] = bare"
   ]
  },
  {
   "cell_type": "code",
   "execution_count": 63,
   "metadata": {},
   "outputs": [
    {
     "data": {
      "text/plain": [
       "<matplotlib.collections.QuadMesh at 0x7f75343d3da0>"
      ]
     },
     "execution_count": 63,
     "metadata": {},
     "output_type": "execute_result"
    },
    {
     "data": {
      "image/png": "[encoded data removed]",
      "text/plain": [
       "<Figure size 432x288 with 2 Axes>"
      ]
     },
     "metadata": {},
     "output_type": "display_data"
    }
   ],
   "source": [
    "params['root_fract'].isel(veg_class=16).isel(root_zone=0).plot()"
   ]
  },
  {
   "cell_type": "code",
   "execution_count": 64,
   "metadata": {},
   "outputs": [],
   "source": [
    "# adjust data vars that need adjusting \n",
    "params['Ksat'].values = params['Ksat'].where(domain.mask == 1)\n",
    "params['expt'].values = params['expt'].where(domain.mask == 1)\n",
    "params['bubble'].values = params['bubble'].where(domain.mask == 1)\n",
    "params['Wpwp_FRACT'].values = params['Wpwp_FRACT'].where(domain.mask == 1)\n",
    "params['Wcr_FRACT'].values = params['Wcr_FRACT'].where(domain.mask == 1)\n",
    "params['resid_moist'].values = params['resid_moist'].where(domain.mask == 1)\n",
    "params['quartz'].values = params['quartz'].where(domain.mask == 1)\n",
    "params['bulk_density'].values = params['bulk_density'].where(domain.mask == 1)\n",
    "params['soil_density'].values = params['soil_density'].where(domain.mask == 1)\n",
    "params['c'].values = params['c'].where(domain.mask == 1)\n",
    "params['snow_rough'].values = params['snow_rough'].where(domain.mask == 1)\n",
    "params['Nveg'].values = params['Nveg'].where(domain.mask == 1)\n",
    "params['trunk_ratio'] = params['trunk_ratio'].where(domain.mask == 1)\n",
    "params['rarc'] = params['rarc'].where(domain.mask == 1)\n",
    "params['rmin'] = params['rmin'].where(domain.mask == 1)\n",
    "params['wind_h'] = params['wind_h'].where(domain.mask == 1)\n",
    "params['RGL'] = params['RGL'].where(domain.mask == 1)\n",
    "params['rad_atten'] = params['rad_atten'].where(domain.mask == 1)\n",
    "params['wind_atten'] = params['wind_atten'].where(domain.mask == 1)\n",
    "params['root_depth'] = params['root_depth'].where(domain.mask == 1)\n",
    "params['root_fract'] = params['root_fract'].where(domain.mask == 1)\n",
    "params['albedo'] = params['albedo'].where(domain.mask == 1)\n",
    "params['LAI'] = params['LAI'].where(domain.mask == 1)\n",
    "params['overstory'] = params['overstory'].where(domain.mask == 1)\n",
    "params['displacement'] = params['displacement'].where(domain.mask == 1)\n",
    "params['veg_rough'] = params['veg_rough'].where(domain.mask == 1)\n",
    "params['elev'] = params['elev'].where(domain.mask == 1)\n",
    "params['avg_T'] = params['avg_T'].where(domain.mask == 1)\n",
    "params['annual_prec'] = params['annual_prec'].where(domain.mask == 1)\n",
    "params['rough'] = params['rough'].where(domain.mask == 1)"
   ]
  },
  {
   "cell_type": "code",
   "execution_count": 65,
   "metadata": {},
   "outputs": [
    {
     "name": "stdout",
     "output_type": "stream",
     "text": [
      "saved new parameters to /u/home/gergel/data/parameters/new_vic5_params_20180726.nc\n"
     ]
    }
   ],
   "source": [
    "encoding_params = {'run_cell': {'dtype': 'int32', \"_FillValue\": fillval_i}, \n",
    "                   'gridcell': {'dtype': 'int32', \"_FillValue\": fillval_i}, \n",
    "                   'fs_active': {'dtype': 'int32', \"_FillValue\": fillval_i}, \n",
    "                   'Nveg': {'dtype': 'int32', \"_FillValue\": fillval_i},\n",
    "                   'overstory': {'dtype': 'int32', \"_FillValue\": fillval_i},\n",
    "                   'veg_class': {'dtype': 'int32'}}\n",
    "direc = '/u/home/gergel/data/parameters'\n",
    "new_params_file = os.path.join(direc, 'new_vic5_params_20180726.nc')\n",
    "params.to_netcdf(new_params_file, format='NETCDF4_CLASSIC', encoding=encoding_params)\n",
    "print(\"saved new parameters to %s\" %new_params_file)"
   ]
  },
  {
   "cell_type": "code",
   "execution_count": 66,
   "metadata": {},
   "outputs": [
    {
     "data": {
      "text/plain": [
       "\"vc = 5\\nmonth = 8\\ndisp = params['displacement'].isel(month=month).isel(veg_class=vc)\\nheight = disp / 0.67\\ntrunk = params['trunk_ratio'].isel(veg_class=vc)\\nzt = trunk * height\\nZ0_SOIL = params['rough']\""
      ]
     },
     "execution_count": 66,
     "metadata": {},
     "output_type": "execute_result"
    }
   ],
   "source": [
    "'''vc = 5\n",
    "month = 8\n",
    "disp = params['displacement'].isel(month=month).isel(veg_class=vc)\n",
    "height = disp / 0.67\n",
    "trunk = params['trunk_ratio'].isel(veg_class=vc)\n",
    "zt = trunk * height\n",
    "Z0_SOIL = params['rough']'''"
   ]
  },
  {
   "cell_type": "code",
   "execution_count": 67,
   "metadata": {},
   "outputs": [],
   "source": [
    "# (zt < Z0_SOIL).sum()\n",
    "# disp.plot()"
   ]
  },
  {
   "cell_type": "code",
   "execution_count": 68,
   "metadata": {},
   "outputs": [],
   "source": [
    "# params.Cv.isel(veg_class=16).plot()\n",
    "# params.veg_class\n",
    "# disp.plot()"
   ]
  },
  {
   "cell_type": "code",
   "execution_count": null,
   "metadata": {},
   "outputs": [],
   "source": []
  }
 ],
 "metadata": {
  "kernelspec": {
   "display_name": "Python 3",
   "language": "python",
   "name": "python3"
  },
  "language_info": {
   "codemirror_mode": {
    "name": "ipython",
    "version": 3
   },
   "file_extension": ".py",
   "mimetype": "text/x-python",
   "name": "python",
   "nbconvert_exporter": "python",
   "pygments_lexer": "ipython3",
   "version": "3.6.4"
  }
 },
 "nbformat": 4,
 "nbformat_minor": 2
}
