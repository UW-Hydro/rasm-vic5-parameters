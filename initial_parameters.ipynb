{
 "cells": [
  {
   "cell_type": "code",
   "execution_count": 1,
   "metadata": {},
   "outputs": [],
   "source": [
    "%matplotlib inline\n",
    "import xarray as xr\n",
    "import os\n",
    "import numpy as np\n",
    "import matplotlib.pyplot as plt\n",
    "import collections\n",
    "import warnings \n",
    "from netCDF4 import default_fillvals\n",
    "from scipy.stats import hmean\n",
    "\n",
    "# import soil functions\n",
    "from parameter_functions import (is_soil_class, is_param_value, classify_soil_texture)\n",
    "\n",
    "# import veg functions\n",
    "from parameter_functions import (calculate_cv_pft, calculate_nveg_pfts, map_pft_to_nldas_class, is_overstory, \n",
    "                                 calc_root_fract, calc_root_depth_rz1, calc_root_depth_rz2)\n",
    "# import soil layer aggregation functions \n",
    "from parameter_functions import (calculate_first_layer_harmonic_mean, calculate_second_layer_harmonic_mean, \n",
    "                                 calculate_third_layer_harmonic_mean, calculate_first_layer_arithmetic_mean, \n",
    "                                 calculate_second_layer_arithmetic_mean, calculate_third_layer_arithmetic_mean)\n",
    "\n",
    "from parameter_functions_v2 import (soil_class_values, calculate_init_moist, \n",
    "                                    calculate_baseflow_parameters)\n",
    "\n",
    "# define fillvals\n",
    "fillval_f = default_fillvals['f8']\n",
    "fillval_i = default_fillvals['i4']"
   ]
  },
  {
   "cell_type": "markdown",
   "metadata": {},
   "source": [
    "This is a notebook for deriving new VIC 5 parameters in the RASM domain at multiple resolutions. \n",
    "\n",
    "Currently 50km (`wr50a_ar9v`) and 25km (`wr50a_ar9v`) are supported. \n",
    "\n",
    "The accompanying excel sheet `deriving_new_parameters_v2.xlsx` and Word Doc `procedure_for_derivation.docx` provide additional citations and details on methods. "
   ]
  },
  {
   "cell_type": "markdown",
   "metadata": {},
   "source": [
    "__Set resolution for filenames__"
   ]
  },
  {
   "cell_type": "code",
   "execution_count": 9,
   "metadata": {},
   "outputs": [
    {
     "name": "stdout",
     "output_type": "stream",
     "text": [
      "calculating parameters at 25km\n"
     ]
    }
   ],
   "source": [
    "res = '25km'\n",
    "\n",
    "# set file extensions \n",
    "if res == \"50km\":\n",
    "    grid = 'wr50a_ar9v4'\n",
    "elif res == \"25km\":\n",
    "    grid = 'wr25b_ar9v4'\n",
    "elif res == \"10km\":\n",
    "    raise ValueError(\"we do not have a domain file at %s so this option has not been implemented\" %res)\n",
    "print(\"calculating parameters at %s\" %res)"
   ]
  },
  {
   "cell_type": "markdown",
   "metadata": {},
   "source": [
    "__Set domain file__"
   ]
  },
  {
   "cell_type": "code",
   "execution_count": 5,
   "metadata": {},
   "outputs": [],
   "source": [
    "if res == '50km':\n",
    "    domain = xr.open_dataset(os.path.join('/u/home/gergel/data/parameters', \n",
    "                                      'domain.lnd.wr50a_ar9v4.100920.nc'))\n",
    "elif res == \"25km\":\n",
    "    domain = xr.open_dataset(os.path.join('/u/home/gergel/data/parameters', \n",
    "                                      'domain.lnd.wr25b_ar9v4.170413.nc'))"
   ]
  },
  {
   "cell_type": "code",
   "execution_count": 28,
   "metadata": {},
   "outputs": [],
   "source": [
    "old_params = xr.open_dataset(os.path.join('/u/home/gergel/data', \n",
    "                                          'vic_params_wr50a_vic5.0.dev_20160328.nc'))"
   ]
  },
  {
   "cell_type": "markdown",
   "metadata": {},
   "source": [
    "__Options__"
   ]
  },
  {
   "cell_type": "code",
   "execution_count": 2,
   "metadata": {},
   "outputs": [],
   "source": [
    "# if set to True, add additional organic_fract options to parameter file, including soil organic fraction, \n",
    "# soil particle density of OM, and bulk density of OM \n",
    "organic_fract = False\n",
    "bulk_density_comb = True"
   ]
  },
  {
   "cell_type": "markdown",
   "metadata": {},
   "source": [
    "__Load soil data__"
   ]
  },
  {
   "cell_type": "code",
   "execution_count": 7,
   "metadata": {},
   "outputs": [],
   "source": [
    "soil_data_vars = collections.OrderedDict()\n",
    "soil_data_vars['silt'] = 'silt_sl*'\n",
    "soil_data_vars['sand'] = 'sand_sl*'\n",
    "soil_data_vars['clay'] = 'clay_sl*'\n",
    "soil_data_vars['bulk_density'] = 'bulk_density_sl*'\n",
    "soil_data_vars['organic_fract'] = 'organic_fract_sl*'\n",
    "\n",
    "# soil data dict with nlayer = 7 (base resolution of data)\n",
    "soil_data = {}\n",
    "soil_data_dir = '/u/home/gergel/data/parameters/soil_data/rasm_grid_netcdfs/%s' %res\n",
    "for soil_var, soil_wildcard in soil_data_vars.items(): \n",
    "    soil_data[soil_var] = xr.open_mfdataset(os.path.join(soil_data_dir, soil_wildcard),\n",
    "                                            concat_dim='nlayer', \n",
    "                                            data_vars='all', \n",
    "                                            coords='all')"
   ]
  },
  {
   "cell_type": "markdown",
   "metadata": {},
   "source": [
    "load CLM PFTs to use for vegetation parameters"
   ]
  },
  {
   "cell_type": "code",
   "execution_count": 10,
   "metadata": {},
   "outputs": [],
   "source": [
    "# load regridded PFTs \n",
    "pfts_data_dir = '/u/home/gergel/data/parameters/pfts/regridded_pfts'\n",
    "pfts_filename = 'mksrf_landuse_rc2000_c110913_%s.nc' %grid\n",
    "veg_data = xr.open_dataset(os.path.join(pfts_data_dir, pfts_filename))"
   ]
  },
  {
   "cell_type": "markdown",
   "metadata": {},
   "source": [
    "calculate soil types based on percent clay, percent sand and bulk density\n"
   ]
  },
  {
   "cell_type": "code",
   "execution_count": 11,
   "metadata": {},
   "outputs": [],
   "source": [
    "# classify_soil_texture(sand, clay, silt)\n",
    "soil_type_array = xr.apply_ufunc(classify_soil_texture, \n",
    "                                 soil_data['sand']['sand'].where(domain.mask == 1), \n",
    "                                 soil_data['clay']['clay'].where(domain.mask == 1),  \n",
    "                                 soil_data['silt']['silt'].where(domain.mask == 1),\n",
    "                                 dask='allowed',\n",
    "                                 vectorize=True)"
   ]
  },
  {
   "cell_type": "code",
   "execution_count": 12,
   "metadata": {},
   "outputs": [],
   "source": [
    "ksat = xr.apply_ufunc(soil_class_values, \n",
    "                      soil_type_array,\n",
    "                      'ksat',\n",
    "                      dask='allowed',\n",
    "                      vectorize=True)\n",
    "quartz = xr.apply_ufunc(soil_class_values, \n",
    "                        soil_type_array,\n",
    "                        'quartz',\n",
    "                        dask='allowed',\n",
    "                        vectorize=True)\n",
    "Wcr_FRACT = xr.apply_ufunc(soil_class_values, \n",
    "                           soil_type_array,\n",
    "                           'Wcr_FRACT',\n",
    "                           dask='allowed',\n",
    "                           vectorize=True)\n",
    "Wpwp_FRACT = xr.apply_ufunc(soil_class_values, \n",
    "                            soil_type_array,\n",
    "                           'Wpwp_FRACT',\n",
    "                            dask='allowed',\n",
    "                            vectorize=True)\n",
    "b = xr.apply_ufunc(soil_class_values, \n",
    "                   soil_type_array,\n",
    "                   'b',\n",
    "                   dask='allowed',\n",
    "                   vectorize=True)\n",
    "bulk_density_min = xr.apply_ufunc(soil_class_values, \n",
    "                   soil_type_array,\n",
    "                   'bulk_density',\n",
    "                   dask='allowed',\n",
    "                   vectorize=True)\n",
    "resid_moist = xr.apply_ufunc(soil_class_values, \n",
    "                             soil_type_array,\n",
    "                             'resid_moist',\n",
    "                             dask='allowed',\n",
    "                             vectorize=True)"
   ]
  },
  {
   "cell_type": "markdown",
   "metadata": {},
   "source": [
    "load regridded GTOPO 30 data, data var for elevation is called `Band1`, in (m)"
   ]
  },
  {
   "cell_type": "code",
   "execution_count": 13,
   "metadata": {},
   "outputs": [],
   "source": [
    "gtopo_filename = 'sdat_10003_1_20180525_151136146_%s.nc' %grid\n",
    "gtopo = xr.open_dataset(os.path.join('/u/home/gergel/data/parameters/gtopo30', gtopo_filename))\n",
    "elev = gtopo['Band1']"
   ]
  },
  {
   "cell_type": "markdown",
   "metadata": {},
   "source": [
    "load regridded WORLDCLIM climate data for annual t and p "
   ]
  },
  {
   "cell_type": "code",
   "execution_count": 14,
   "metadata": {},
   "outputs": [],
   "source": [
    "clim_direc = '/u/home/gergel/data/parameters/world_clim_data/%s' %res\n",
    "prec = xr.open_mfdataset(os.path.join(clim_direc, 'prec*'),\n",
    "                                      concat_dim='time', \n",
    "                                      data_vars=['prec'], \n",
    "                                      coords='all')\n",
    "\n",
    "# aggregate to annual, need average annual precip\n",
    "annual_precip = prec['prec'].sum('time')\n",
    "\n",
    "temp = xr.open_mfdataset(os.path.join(clim_direc, 'tavg*'),\n",
    "                                      concat_dim='time', \n",
    "                                      data_vars='all', \n",
    "                                      coords='all')\n",
    "tavg = temp['tavg'].mean('time')"
   ]
  },
  {
   "cell_type": "markdown",
   "metadata": {},
   "source": [
    "calculate Cv from PFTs"
   ]
  },
  {
   "cell_type": "code",
   "execution_count": 15,
   "metadata": {},
   "outputs": [],
   "source": [
    "cv = xr.apply_ufunc(calculate_cv_pft, \n",
    "                    veg_data['PCT_PFT'].where(domain.mask == 1),\n",
    "                    dask='allowed',\n",
    "                    vectorize=True)"
   ]
  },
  {
   "cell_type": "markdown",
   "metadata": {},
   "source": [
    "calculate number of active PFTs, `Nveg` "
   ]
  },
  {
   "cell_type": "code",
   "execution_count": 16,
   "metadata": {},
   "outputs": [],
   "source": [
    "nvegg = xr.apply_ufunc(calculate_nveg_pfts,\n",
    "                      veg_data['PCT_PFT'].where(domain.mask == 1),\n",
    "                      dask='allowed',\n",
    "                      input_core_dims=[['pft']],\n",
    "                      vectorize=True)\n",
    "Nveg = nvegg - 1"
   ]
  },
  {
   "cell_type": "markdown",
   "metadata": {},
   "source": [
    "import LAI and vegetation height, `MONTHLY_LAI` and `MONTHLY_HEIGHT_TOP`"
   ]
  },
  {
   "cell_type": "code",
   "execution_count": 17,
   "metadata": {},
   "outputs": [],
   "source": [
    "lai_file = xr.open_dataset(os.path.join('/u/home/gergel/data/parameters/lai/regridded_lai', \n",
    "                                   'mksrf_lai_78pfts_simyr2005.c170413_%s_lai.nc' %grid))"
   ]
  },
  {
   "cell_type": "code",
   "execution_count": 18,
   "metadata": {},
   "outputs": [],
   "source": [
    "veg_height_file = xr.open_dataset(os.path.join('/u/home/gergel/data/parameters/lai/regridded_lai', \n",
    "                                'mksrf_lai_78pfts_simyr2005.c170413_%s_veg_height.nc' %grid))"
   ]
  },
  {
   "cell_type": "markdown",
   "metadata": {},
   "source": [
    "LAI and veg_height from CLM and `PCT_PFT` from CLM have a different number of PFTs (`PCT_PFT` has one more PFT, 17 vs 16). The extra PFT in `PCT_PFT` has `PCT_PFT` = 0 over the entire RASM domain, so I just slice the LAI and veg_height from the 0th PFT (water/bare soil) and concatenate it for the 16th PFT. "
   ]
  },
  {
   "cell_type": "code",
   "execution_count": 19,
   "metadata": {},
   "outputs": [],
   "source": [
    "lai_slice = lai_file['MONTHLY_LAI'].isel(pft = 0)\n",
    "vegheight_slice = veg_height_file['MONTHLY_HEIGHT_TOP'].isel(pft=0)"
   ]
  },
  {
   "cell_type": "code",
   "execution_count": 20,
   "metadata": {},
   "outputs": [],
   "source": [
    "lai = xr.concat([lai_file['MONTHLY_LAI'], lai_slice], dim='pft')\n",
    "veg_height = xr.concat([veg_height_file['MONTHLY_HEIGHT_TOP'], vegheight_slice], dim='pft')"
   ]
  },
  {
   "cell_type": "markdown",
   "metadata": {},
   "source": [
    "`veg_rough` = 0.123 * `veg_height`\n",
    "\n",
    "`displacement` = 0.67 * `veg_height`"
   ]
  },
  {
   "cell_type": "code",
   "execution_count": 21,
   "metadata": {},
   "outputs": [],
   "source": [
    "veg_rough = 0.123 * veg_height\n",
    "displacement = 0.67 * veg_height\n",
    "\n",
    "displacement.values[displacement.values == 0] = 1.0"
   ]
  },
  {
   "cell_type": "markdown",
   "metadata": {},
   "source": [
    "map albedo, root zone fraction and root zone depth based on vegetation type. see `deriving_new_parameters_v2.xlsx` sheet titled `PFT-NLDAS Mapping` for mapping between NLDAS vegetation classes (used in old VIC 5 parameters) and CLM PFTs. This mapping is based on obvious relationships and some approximations (used for PFTs 8-11)."
   ]
  },
  {
   "cell_type": "markdown",
   "metadata": {},
   "source": [
    "get albedo values from VIC 5 parameters for NLDAS classes, map to CLM PFTs"
   ]
  },
  {
   "cell_type": "markdown",
   "metadata": {},
   "source": [
    "create array that is the size of (nj, ni, pft, root_zone) to operate on"
   ]
  },
  {
   "cell_type": "code",
   "execution_count": 25,
   "metadata": {},
   "outputs": [],
   "source": [
    "masknan_vals = domain['mask'].where(domain['mask'] == 1).values\n",
    "if res == \"50km\":\n",
    "    nj = 205\n",
    "    ni = 275\n",
    "elif res == \"25km\":\n",
    "    nj = 413\n",
    "    ni = 551\n",
    "    \n",
    "num_veg = 17\n",
    "\n",
    "\n",
    "arr_months = np.rollaxis(np.dstack((masknan_vals, masknan_vals, masknan_vals, masknan_vals, \n",
    "                                    masknan_vals, masknan_vals, masknan_vals, masknan_vals, \n",
    "                                    masknan_vals, masknan_vals, masknan_vals, masknan_vals)), \n",
    "                        axis=2)\n",
    "arr_nlayer = np.rollaxis(np.dstack((masknan_vals, masknan_vals, masknan_vals)), \n",
    "                        axis=2)\n",
    "\n",
    "arr_rootzone = np.rollaxis(np.dstack((masknan_vals, masknan_vals)), \n",
    "                        axis=2)\n",
    "\n",
    "arr_veg_classes = np.rollaxis(np.dstack((masknan_vals, masknan_vals, masknan_vals, masknan_vals, \n",
    "                                         masknan_vals, masknan_vals, masknan_vals, masknan_vals, \n",
    "                                         masknan_vals, masknan_vals, masknan_vals, masknan_vals, \n",
    "                                         masknan_vals, masknan_vals, masknan_vals, masknan_vals, \n",
    "                                         masknan_vals)), \n",
    "                              axis=2)\n",
    "arr_veg_classes_rootzone = np.vstack((arr_rootzone, arr_rootzone, arr_rootzone, arr_rootzone, \n",
    "                                      arr_rootzone, arr_rootzone, arr_rootzone, arr_rootzone, \n",
    "                                      arr_rootzone, arr_rootzone, arr_rootzone, arr_rootzone, \n",
    "                                      arr_rootzone, arr_rootzone, arr_rootzone,\n",
    "                                      arr_rootzone, arr_rootzone)).reshape(num_veg, 2, nj, ni)\n",
    "arr_veg_classes_month = np.vstack((arr_months, arr_months, arr_months, arr_months, arr_months, \n",
    "                                   arr_months, arr_months, arr_months, arr_months, arr_months, \n",
    "                                   arr_months, arr_months, arr_months, arr_months, arr_months, \n",
    "                                   arr_months, arr_months,)).reshape(num_veg, 12, nj, ni)"
   ]
  },
  {
   "cell_type": "markdown",
   "metadata": {},
   "source": [
    "create Dataset for variables and define data_vars "
   ]
  },
  {
   "cell_type": "markdown",
   "metadata": {},
   "source": [
    "change dims and order of dims of LAI array "
   ]
  },
  {
   "cell_type": "code",
   "execution_count": 26,
   "metadata": {},
   "outputs": [],
   "source": [
    "lai = lai.rename({'time': 'month', 'pft': 'veg_class'})\n",
    "lai = lai.transpose('veg_class', 'month', 'nj', 'ni')\n",
    "\n",
    "veg_rough = veg_rough.rename({'time': 'month', 'pft': 'veg_class'})\n",
    "veg_rough = veg_rough.transpose('veg_class', 'month', 'nj', 'ni')\n",
    "\n",
    "displacement = displacement.rename({'time': 'month', 'pft': 'veg_class'})\n",
    "displacement = displacement.transpose('veg_class', 'month', 'nj', 'ni')"
   ]
  },
  {
   "cell_type": "code",
   "execution_count": 29,
   "metadata": {},
   "outputs": [],
   "source": [
    "params = xr.Dataset()\n",
    "\n",
    "# assign veg class indexing\n",
    "params['veg_class'] = xr.DataArray(np.arange(1, 18), dims='veg_class', \n",
    "                                   attrs={'long_name': \"vegetation class\"})\n",
    "params['nlayer'] = xr.DataArray(np.arange(0, 3), dims='nlayer')\n",
    "\n",
    "params['Cv'] = xr.DataArray(cv,\n",
    "                                 dims=('veg_class','nj', 'ni'),\n",
    "                                 coords={'xc': domain.xc, 'yc': domain.yc},\n",
    "                                 attrs={'description': \"Fraction of grid cell covered by vegetation tile\",\n",
    "                                        'units': \"fraction\", 'long_name': \"Cv\"},\n",
    "                                 encoding={\"_FillValue\": fillval_f,\n",
    "                                               \"Coordinates\": \"xc yc\"})\n",
    "\n",
    "params['Nveg'] = xr.DataArray(Nveg,\n",
    "                                   dims=('nj', 'ni'),\n",
    "                                   coords={'xc': domain.xc, 'yc': domain.yc},\n",
    "                                   attrs={'description': \"Number of vegetation tiles in the grid cell\", \n",
    "                                          'units': \"N/A\", 'long_name': \"Nveg\"},\n",
    "                                   encoding={\"_FillValue\": fillval_i,\n",
    "                                               \"Coordinates\": \"xc yc\", 'dtype': 'int32'})\n",
    "\n",
    "params['trunk_ratio'] = xr.DataArray(arr_veg_classes,\n",
    "                                 dims=('veg_class','nj', 'ni'),\n",
    "                                 coords={'xc': domain.xc, 'yc': domain.yc},\n",
    "                                 attrs={'description': \"Ratio of total tree height that is trunk \\\n",
    "                                 (no branches) \\\n",
    "                                        The default value has been 0.2\",\n",
    "                                 'units': \"fraction\", 'long_name': \"Cv\"},\n",
    "                                 encoding={\"_FillValue\": fillval_f,\n",
    "                                               \"Coordinates\": \"xc yc\"})\n",
    "params['rarc'] = xr.DataArray(arr_veg_classes,\n",
    "                                 dims=('veg_class','nj', 'ni'),\n",
    "                                 coords={'xc': domain.xc, 'yc': domain.yc},\n",
    "                                 attrs={'description': \"Architectural resistance of vegetation type \\(~2 s/m)\",\n",
    "                                        'units': \"s/m\", 'long_name': \"rarc\"},\n",
    "                                 encoding={\"_FillValue\": fillval_f,\n",
    "                                               \"Coordinates\": \"xc yc\"})\n",
    "\n",
    "params['rmin'] = xr.DataArray(np.copy(arr_veg_classes),\n",
    "                                 dims=('veg_class','nj', 'ni'),\n",
    "                                 coords={'xc': domain.xc, 'yc': domain.yc},\n",
    "                                 attrs={'description': \"Minimum stomatal resistance of vegetation type (~100 s/m)\"},\n",
    "                                 encoding={\"_FillValue\": fillval_f,\n",
    "                                               \"Coordinates\": \"xc yc\"})\n",
    "params['wind_h'] = xr.DataArray(np.copy(arr_veg_classes),\n",
    "                                 dims=('veg_class','nj', 'ni'),\n",
    "                                 coords={'xc': domain.xc, 'yc': domain.yc},\n",
    "                                 attrs={'description': \"Height at which wind speed is measured\",\n",
    "                                        'units': \"m\", 'long_name': \"wind_h\"},\n",
    "                                 encoding={\"_FillValue\": fillval_f,\n",
    "                                               \"Coordinates\": \"xc yc\"})\n",
    "\n",
    "params['RGL'] = xr.DataArray(np.copy(arr_veg_classes),\n",
    "                                 dims=('veg_class','nj', 'ni'),\n",
    "                                 coords={'xc': domain.xc, 'yc': domain.yc},\n",
    "                                 attrs={'description': \"Minimum incoming shortwave radiation at which there will be \\\n",
    "                                        transpiration. For trees this is about 30 W/m^2, for crops about 100 W/m^2\",\n",
    "                                        'units': \"W/m^2\", 'long_name': \"RGL\"},\n",
    "                                 encoding={\"_FillValue\": fillval_f,\n",
    "                                               \"Coordinates\": \"xc yc\"})\n",
    "\n",
    "params['rad_atten'] = xr.DataArray(arr_veg_classes,\n",
    "                                 dims=('veg_class','nj', 'ni'),\n",
    "                                 coords={'xc': domain.xc, 'yc': domain.yc},\n",
    "                                 attrs={'description': \"Radiation attenuation factor. Normally set to 0.5, though may \\\n",
    "                                        need to be adjusted for high latitudes\",\n",
    "                                        'units': \"fraction\", 'long_name': \"rad_atten\"},\n",
    "                                 encoding={\"_FillValue\": fillval_f,\n",
    "                                               \"Coordinates\": \"xc yc\"})\n",
    "\n",
    "params['wind_atten'] = xr.DataArray(arr_veg_classes,\n",
    "                                 dims=('veg_class','nj', 'ni'),\n",
    "                                 coords={'xc': domain.xc, 'yc': domain.yc},\n",
    "                                 attrs={'description': \"Wind speed attenuation through the overstory. The default value \\\n",
    "                                        has been 0.5\",\n",
    "                                        'units': \"fraction\", 'long_name': \"wind_atten\"},\n",
    "                                 encoding={\"_FillValue\": fillval_f,\n",
    "                                               \"Coordinates\": \"xc yc\"})\n",
    "params['max_snow_albedo'] = xr.DataArray(np.copy(arr_veg_classes),\n",
    "                                 dims=('veg_class','nj', 'ni'),\n",
    "                                 coords={'xc': domain.xc, 'yc': domain.yc},\n",
    "                                 attrs={'description': \"maximum snow albedo from Barlage et al 2005\",\n",
    "                                        'units': \"fraction\", 'long_name': \"max_snow_albedo\"},\n",
    "                                 encoding={\"_FillValue\": fillval_f,\n",
    "                                               \"Coordinates\": \"xc yc\"})\n",
    "params['albedo'] = xr.DataArray(arr_veg_classes_month,\n",
    "                                         dims=('veg_class','month','nj', 'ni'),\n",
    "                                         coords={'xc': domain.xc, 'yc': domain.yc},\n",
    "                                         attrs={'description': \"Shortwave albedo for vegetation type\",\n",
    "                                                'units': \"fraction\", 'long_name': \"albedo\"},\n",
    "                                         encoding={\"_FillValue\": fillval_f,\n",
    "                                               \"Coordinates\": \"xc yc\"})\n",
    "\n",
    "params['LAI'] = xr.DataArray(lai.values.reshape(num_veg, 12, nj, ni),\n",
    "                                 dims=('veg_class','month','nj', 'ni'),\n",
    "                                 coords={'xc': domain.xc, 'yc': domain.yc, 'month': old_params.month},\n",
    "                                 attrs={'description': \"Leaf Area Index, one per month\",\n",
    "                                        'units': \"N/A\", 'long_name': \"LAI\"},\n",
    "                                 encoding={\"_FillValue\": fillval_f,\n",
    "                                               \"Coordinates\": \"xc yc\"})\n",
    "params['overstory'] = xr.DataArray(arr_veg_classes,\n",
    "                                 dims=('veg_class','nj', 'ni'),\n",
    "                                 coords={'xc': domain.xc, 'yc': domain.yc},\n",
    "                                 attrs={'description': \"Flag to indicate whether or not the current vegetation type \\\n",
    "                                        has an overstory (TRUE for overstory present (e.g. trees), FALSE for \\\n",
    "                                        overstory not present (e.g. grass))\",\n",
    "                                        'units': \"N/A\", 'long_name': \"overstory\"},\n",
    "                                 encoding={\"_FillValue\": fillval_i,\n",
    "                                               \"Coordinates\": \"xc yc\", 'dtype': 'int32'})\n",
    "# time: 12, pft: 17, nj: 205, ni: 275\n",
    "params['displacement'] = xr.DataArray(displacement.values.reshape(num_veg, 12, nj, ni), \n",
    "                                         dims=('veg_class','month','nj', 'ni'),\n",
    "                                         coords={'month': old_params['month'], 'xc': domain.xc, \n",
    "                                                 'yc': domain.yc},\n",
    "                                         attrs={'description': \"Vegetation displacement height (typically 0.67 \\\n",
    "                                                * vegetation height)\",\n",
    "                                                'units': \"m\", 'long_name': \"displacement\"},\n",
    "                                         encoding={\"_FillValue\": fillval_f,\n",
    "                                               \"Coordinates\": \"xc yc\"})\n",
    "params['veg_rough'] = xr.DataArray(veg_rough.values.reshape(num_veg, 12, nj, ni),\n",
    "                                         dims=('veg_class','month','nj', 'ni'),\n",
    "                                         coords={'xc': domain.xc, 'yc': domain.yc},\n",
    "                                         attrs={'description': \"Vegetation roughness length (typically 0.123 \\\n",
    "                                                * vegetation height)\",\n",
    "                                                'units': \"m\", 'long_name': \"veg_rough\"},\n",
    "                                         encoding={\"_FillValue\": fillval_f,\n",
    "                                               \"Coordinates\": \"xc yc\"})"
   ]
  },
  {
   "cell_type": "code",
   "execution_count": 30,
   "metadata": {},
   "outputs": [],
   "source": [
    "params['elev'] = xr.DataArray(elev.values,\n",
    "                                dims=('nj', 'ni'),\n",
    "                                coords={'xc': domain.xc, 'yc': domain.yc},\n",
    "                                attrs={'description': \"Average elevation of grid cell\", \n",
    "                                              'units': \"m\", 'long_name': \"elev\"},\n",
    "                                encoding={\"_FillValue\": fillval_f,\n",
    "                                               \"Coordinates\": \"xc yc\"})\n",
    "params['avg_T'] = xr.DataArray(tavg.values,\n",
    "                                dims=('nj', 'ni'),\n",
    "                                coords={'xc': domain.xc, 'yc': domain.yc},\n",
    "                                attrs={'description': \"Average soil temperature, used as the bottom boundary \\\n",
    "                                        for soil heat flux solutions\", \n",
    "                                        'units': \"C\", 'long_name': \"avg_T\"},\n",
    "                                encoding={\"_FillValue\": fillval_f,\n",
    "                                               \"Coordinates\": \"xc yc\"})\n",
    "params['annual_prec'] = xr.DataArray(annual_precip.values,\n",
    "                                dims=('nj', 'ni'),\n",
    "                                coords={'xc': domain.xc, 'yc': domain.yc},\n",
    "                                attrs={'description': \"Average annual precipitation\", \n",
    "                                              'units': \"mm\", 'long_name': \"annual_prec\"},\n",
    "                                encoding={\"_FillValue\": fillval_f,\n",
    "                                               \"Coordinates\": \"xc yc\"})\n",
    "roughness = np.copy(masknan_vals)\n",
    "roughness[np.nonzero(masknan_vals)] = 0.001\n",
    "params['rough'] = xr.DataArray(roughness,\n",
    "                                dims=('nj', 'ni'),\n",
    "                                coords={'xc': domain.xc, 'yc': domain.yc},\n",
    "                                attrs={'description': \"Surface roughness of bare soil\", \n",
    "                                              'units': \"m\", 'long_name': \"rough\"},\n",
    "                                encoding={\"_FillValue\": fillval_f,\n",
    "                                               \"Coordinates\": \"xc yc\"})"
   ]
  },
  {
   "cell_type": "markdown",
   "metadata": {},
   "source": [
    "define `trunk_ratio`, `rarc`, `rmin`, `wind_h`, `RGL`, `rad_atten`, `wind_atten`, `overstory`, `max_snow_albedo`"
   ]
  },
  {
   "cell_type": "code",
   "execution_count": 31,
   "metadata": {},
   "outputs": [],
   "source": [
    "# trunk ratio, rarc, rad_atten\n",
    "trunk_ratio = np.copy(arr_veg_classes)\n",
    "params['trunk_ratio'].values = trunk_ratio * 0.2\n",
    "# adjust for bare soil \n",
    "params['trunk_ratio'].values[0, :, :] = 0.0\n",
    "\n",
    "rarc = np.copy(arr_veg_classes)\n",
    "params['rarc'].values = rarc * 60\n",
    "# adjust for bare soil\n",
    "params['rarc'].values[0, :, :] = 100\n",
    "\n",
    "rad_atten = np.copy(arr_veg_classes)\n",
    "params['rad_atten'].values = rad_atten * 0.5\n",
    "# adjust for bare soil \n",
    "params['rad_atten'].values[0, :, :] = 0.0\n",
    "\n",
    "wind_atten = np.copy(arr_veg_classes)\n",
    "params['wind_atten'].values = wind_atten * 0.5\n",
    "# adjust for bare soil \n",
    "params['wind_atten'].values[0, :, :] = 0.0"
   ]
  },
  {
   "cell_type": "code",
   "execution_count": 32,
   "metadata": {},
   "outputs": [],
   "source": [
    "# max_albedo\n",
    "for pft in veg_data.pft.values:\n",
    "    # get nldas mapping from pft\n",
    "    nldas = map_pft_to_nldas_class(pft)\n",
    "    if nldas == 0:\n",
    "        max_alb = 0.34\n",
    "    elif nldas == 1:\n",
    "        max_alb = 0.37\n",
    "    elif nldas == 2:\n",
    "        max_alb = 0.35\n",
    "    elif nldas == 3: \n",
    "        max_alb = 0.35\n",
    "    elif nldas == 4: \n",
    "        max_alb = 0.44\n",
    "    elif nldas == 5:\n",
    "        max_alb = 0.69\n",
    "    elif nldas == 6:\n",
    "        max_alb = 0.43\n",
    "    elif nldas == 7:\n",
    "        max_alb = 0.56\n",
    "    elif nldas == 8:\n",
    "        max_alb = 0.70\n",
    "    elif nldas == 9:\n",
    "        max_alb = 0.65\n",
    "    elif nldas == 10:\n",
    "        max_alb = 0.46\n",
    "    elif nldas == 11:\n",
    "        max_alb = 0.84\n",
    "    params['max_snow_albedo'].values[pft, :, :] = np.ones((1, nj, ni)) * max_alb"
   ]
  },
  {
   "cell_type": "code",
   "execution_count": 33,
   "metadata": {},
   "outputs": [],
   "source": [
    "# rmin, wind_h\n",
    "for pft in veg_data.pft.values:\n",
    "    # get nldas mapping from pft\n",
    "    nldas = map_pft_to_nldas_class(pft)\n",
    "    if nldas >= 0 and nldas <= 3:\n",
    "        rmin = np.asscalar(old_params.rmin.isel(veg_class=0).mean())\n",
    "        wind_h = np.asscalar(old_params.wind_h.isel(veg_class=0).mean())\n",
    "    elif nldas == 4:\n",
    "        rmin = np.asscalar(old_params.rmin.isel(veg_class=4).mean())\n",
    "        wind_h = np.asscalar(old_params.wind_h.isel(veg_class=4).mean())\n",
    "    elif nldas >= 5 and nldas <= 6:\n",
    "        rmin = np.asscalar(old_params.rmin.isel(veg_class=5).mean())\n",
    "        wind_h = np.asscalar(old_params.wind_h.isel(veg_class=5).mean())\n",
    "    elif nldas >= 7 and nldas <= 8:\n",
    "        rmin = np.asscalar(old_params.rmin.isel(veg_class=7).mean())\n",
    "        wind_h = np.asscalar(old_params.wind_h.isel(veg_class=7).mean())\n",
    "    elif nldas == 9:\n",
    "        rmin = np.asscalar(old_params.rmin.isel(veg_class=9).mean())\n",
    "        wind_h = np.asscalar(old_params.wind_h.isel(veg_class=9).mean())\n",
    "    elif nldas == 10:\n",
    "        rmin = np.asscalar(old_params.rmin.isel(veg_class=10).mean())\n",
    "        wind_h = np.asscalar(old_params.wind_h.isel(veg_class=10).mean())\n",
    "    elif nldas == 11:\n",
    "        rmin = np.asscalar(old_params.rmin.isel(veg_class=11).mean())\n",
    "        wind_h = np.asscalar(old_params.wind_h.isel(veg_class=11).mean())\n",
    "    params['rmin'].values[pft, :, :] = np.ones((1, nj, ni)) * rmin\n",
    "    params['wind_h'].values[pft, :, :] = np.ones((1, nj, ni)) * wind_h"
   ]
  },
  {
   "cell_type": "code",
   "execution_count": 34,
   "metadata": {},
   "outputs": [],
   "source": [
    "# RGL\n",
    "for pft in veg_data.pft.values:\n",
    "    # get nldas mapping from pft\n",
    "    nldas = map_pft_to_nldas_class(pft)\n",
    "    if nldas >= 0 and nldas <= 3:\n",
    "        rgl = np.asscalar(old_params.wind_h.isel(veg_class=0).mean())\n",
    "    elif nldas >= 4 and nldas <= 5:\n",
    "        rgl = np.asscalar(old_params.wind_h.isel(veg_class=4).mean())\n",
    "    elif nldas >= 6 and nldas <= 8:\n",
    "        rgl = np.asscalar(old_params.wind_h.isel(veg_class=6).mean())\n",
    "    elif nldas >= 9 and nldas <= 10:\n",
    "        rgl = np.asscalar(old_params.wind_h.isel(veg_class=9).mean())\n",
    "    elif nldas == 11:\n",
    "        rgl = np.asscalar(old_params.wind_h.isel(veg_class=11).mean())\n",
    "    params['RGL'].values[pft, :, :] = np.ones((1, nj, ni)) * rgl"
   ]
  },
  {
   "cell_type": "code",
   "execution_count": 35,
   "metadata": {},
   "outputs": [],
   "source": [
    "# overstory\n",
    "for pft in veg_data.pft.values:\n",
    "    nldas = map_pft_to_nldas_class(pft)\n",
    "    if nldas > 6:\n",
    "        # no overstory\n",
    "        overstory = 0\n",
    "    else: \n",
    "        overstory = 1\n",
    "    params['overstory'].values[pft, :, :] = np.ones((1, nj, ni)) * overstory\n",
    "\n",
    "# adjust bare soil, it should obviously not have an overstory\n",
    "params['overstory'].values[0, :, :] = np.ones((1, nj, ni)) * 0.0"
   ]
  },
  {
   "cell_type": "code",
   "execution_count": 36,
   "metadata": {},
   "outputs": [],
   "source": [
    "root_depth_rz1 = xr.apply_ufunc(calc_root_depth_rz1,\n",
    "                           params['Cv'].where(domain.mask == 1), \n",
    "                           dask='allowed',\n",
    "                           vectorize=True)\n",
    "root_depth_rz2 = xr.apply_ufunc(calc_root_depth_rz2,\n",
    "                           params['Cv'].where(domain.mask == 1), \n",
    "                           dask='allowed',\n",
    "                           vectorize=True)\n",
    "root_depth = xr.concat([root_depth_rz1, root_depth_rz2],\n",
    "                      dim='root_zone').transpose('veg_class', 'root_zone', 'nj', 'ni')"
   ]
  },
  {
   "cell_type": "code",
   "execution_count": 37,
   "metadata": {},
   "outputs": [],
   "source": [
    "# root fract \n",
    "\n",
    "rz = 0\n",
    "for pft in veg_data.pft.values:\n",
    "    if pft == 0:\n",
    "        root_fract_rz1 = xr.apply_ufunc(calc_root_fract,\n",
    "                                        params['Cv'].isel(veg_class=pft),\n",
    "                                        str(pft),\n",
    "                                        str(rz),\n",
    "                                        dask='allowed',\n",
    "                                        vectorize=True)\n",
    "    else: \n",
    "        root_fract_rz1 = xr.concat([root_fract_rz1, xr.apply_ufunc(calc_root_fract,\n",
    "                                                                   params['Cv'].isel(veg_class=pft),\n",
    "                                                                   str(pft),\n",
    "                                                                   str(rz),\n",
    "                                                                   dask='allowed',\n",
    "                                                                   vectorize=True)],\n",
    "                                  dim='veg_class')\n",
    "rz = 1\n",
    "for pft in veg_data.pft.values:\n",
    "    if pft == 0:\n",
    "        root_fract_rz2 = xr.apply_ufunc(calc_root_fract,\n",
    "                                        params['Cv'].isel(veg_class=pft), \n",
    "                                        str(pft),\n",
    "                                        str(rz),\n",
    "                                        dask='allowed',\n",
    "                                        vectorize=True)\n",
    "    else: \n",
    "        root_fract_rz2 = xr.concat([root_fract_rz2, xr.apply_ufunc(calc_root_fract,\n",
    "                                                                   params['Cv'].isel(veg_class=pft), \n",
    "                                                                   str(pft),\n",
    "                                                                   str(rz),\n",
    "                                                                   dask='allowed',\n",
    "                                                                   vectorize=True)],\n",
    "                                  dim='veg_class')\n",
    "        \n",
    "root_fract = xr.concat([root_fract_rz1, root_fract_rz2], dim='root_zone').transpose('veg_class', 'root_zone', 'nj', 'ni')"
   ]
  },
  {
   "cell_type": "code",
   "execution_count": 38,
   "metadata": {},
   "outputs": [],
   "source": [
    "params['root_depth'] = xr.DataArray(root_depth,\n",
    "                                         dims=('veg_class','root_zone','nj', 'ni'),\n",
    "                                         coords={'xc': domain.xc, 'yc': domain.yc},\n",
    "                                         attrs={'description': \"Root zone thickness (sum of depths is total depth of \\\n",
    "                                                 root penetration)\",\n",
    "                                                'units': \"m\", 'long_name': \"root_depth\"},\n",
    "                                         encoding={\"_FillValue\": fillval_f,\n",
    "                                               \"Coordinates\": \"xc yc\"})\n",
    "params['root_fract'] = xr.DataArray(root_fract,\n",
    "                                         dims=('veg_class','root_zone','nj', 'ni'),\n",
    "                                         coords={'xc': domain.xc, 'yc': domain.yc},\n",
    "                                         attrs={'description': \"Fraction of root in the current root zone\",\n",
    "                                                'units': \"fraction\", 'long_name': \"root_fract\"},\n",
    "                                         encoding={\"_FillValue\": fillval_f,\n",
    "                                               \"Coordinates\": \"xc yc\"})"
   ]
  },
  {
   "cell_type": "markdown",
   "metadata": {},
   "source": [
    "__albedo__"
   ]
  },
  {
   "cell_type": "code",
   "execution_count": 39,
   "metadata": {},
   "outputs": [],
   "source": [
    "# loop over pft classes and months \n",
    "for pft in veg_data.pft.values:\n",
    "    for month in old_params.month.values: \n",
    "        nldas = map_pft_to_nldas_class(pft)\n",
    "        albedo_slice = np.copy(arr_veg_classes_month[0, 0, :, :])\n",
    "        albedo = np.asscalar(old_params.albedo.isel(veg_class=nldas).isel(month=month-1).mean())\n",
    "        params['albedo'].values[pft, month - 1, :, :] = np.ones(shape=(1, 1, nj, ni)) * albedo"
   ]
  },
  {
   "cell_type": "markdown",
   "metadata": {},
   "source": [
    "__load hydroclimate classes__"
   ]
  },
  {
   "cell_type": "code",
   "execution_count": 40,
   "metadata": {},
   "outputs": [],
   "source": [
    "hydro_classes = xr.open_dataset(os.path.join('/u/home/gergel/data/parameters',\n",
    "                                             'hydroclimate_masks_%s.nc' %grid))"
   ]
  },
  {
   "cell_type": "markdown",
   "metadata": {},
   "source": [
    "__baseflow parameters: Ds, Dsmax, Ws__"
   ]
  },
  {
   "cell_type": "code",
   "execution_count": null,
   "metadata": {},
   "outputs": [],
   "source": [
    "d1 = calculate_baseflow_parameters(domain, hydro_classes, \"d1\")\n",
    "params['Ds'] = xr.DataArray(d1,\n",
    "                              dims=('nj', 'ni'),\n",
    "                              coords={'xc': domain.xc, 'yc': domain.yc},\n",
    "                              attrs={'description': \"Fraction of Dsmax where non-linear baseflow begins\", \n",
    "                                         'units': \"fraction\", 'long_name': \"Ds\"},\n",
    "                                 encoding={\"_FillValue\": fillval_f,\n",
    "                                           \"Coordinates\": \"xc yc\"})\n",
    "d2 = calculate_baseflow_parameters(domain, hydro_classes, \"d2\")\n",
    "params['Dsmax'] = xr.DataArray(d2,\n",
    "                              dims=('nj', 'ni'),\n",
    "                              coords={'xc': domain.xc, 'yc': domain.yc},\n",
    "                              attrs={'description': \"Fraction of maximum soil moisture where non-linear baseflow occurs\", \n",
    "                                              'units': \"fraction\", 'long_name': \"Dsmax\"},\n",
    "                                 encoding={\"_FillValue\": fillval_f,\n",
    "                                           \"Coordinates\": \"xc yc\"})\n",
    "d3 = calculate_baseflow_parameters(domain, hydro_classes, \"d3\")\n",
    "params['Ws'] = xr.DataArray(d3,\n",
    "                              dims=('nj', 'ni'),\n",
    "                              coords={'xc': domain.xc, 'yc': domain.yc},\n",
    "                              attrs={'description': \"Fraction of maximum soil moisture where non-linear baseflow occurs\", \n",
    "                                              'units': \"fraction\", 'long_name': \"Ws\"},\n",
    "                                 encoding={\"_FillValue\": fillval_f,\n",
    "                                           \"Coordinates\": \"xc yc\"})\n",
    "d4 = calculate_baseflow_parameters(domain, hydro_classes, \"d4\")\n",
    "params['c'] = xr.DataArray(d4,\n",
    "                           dims=('nj', 'ni'),\n",
    "                           coords={'xc': domain.xc, 'yc': domain.yc},\n",
    "                           attrs={'description': \"Exponent used in baseflow curve, normally set to 2\", \n",
    "                                      'units': \"N/A\", 'long_name': \"c\"},\n",
    "                           encoding={\"_FillValue\": fillval_f,\n",
    "                                  \"Coordinates\": \"xc yc\"})"
   ]
  },
  {
   "cell_type": "markdown",
   "metadata": {},
   "source": [
    "b_i (`infilt`)"
   ]
  },
  {
   "cell_type": "code",
   "execution_count": 33,
   "metadata": {},
   "outputs": [],
   "source": [
    "bi = np.copy(masknan_vals)\n",
    "bi[np.nonzero(hydro_classes['arid'].values)] = 0.05\n",
    "bi[np.nonzero(hydro_classes['temperate_dry'].values)] = 0.05\n",
    "bi[np.nonzero(hydro_classes['cold_dry_perma'].values)] = 0.3\n",
    "bi[np.nonzero(hydro_classes['cold_dry_noperma'].values)] = 0.5\n",
    "bi[np.nonzero(hydro_classes['cold_wds_ws_perma'].values)] = 0.3\n",
    "bi[np.nonzero(hydro_classes['cold_wds_ws_noperma'].values)] = 0.05\n",
    "bi[np.nonzero(hydro_classes['cold_wds_cs_perma'].values)] = 0.3\n",
    "bi[np.nonzero(hydro_classes['cold_wds_cs_noperma'].values)] = 0.5\n",
    "bi[np.nonzero(hydro_classes['polar'].values)] = 0.1\n",
    "\n",
    "params['infilt'] = xr.DataArray(bi,\n",
    "                              dims=('nj', 'ni'),\n",
    "                              coords={'xc': domain.xc, 'yc': domain.yc},\n",
    "                              attrs={'description': \"Fraction of maximum soil moisture where non-linear baseflow occurs\", \n",
    "                                              'units': \"fraction\", 'long_name': \"infilt\"},\n",
    "                                 encoding={\"_FillValue\": fillval_f,\n",
    "                                           \"Coordinates\": \"xc yc\"})"
   ]
  },
  {
   "cell_type": "markdown",
   "metadata": {},
   "source": [
    "soil depths (`depth`)"
   ]
  },
  {
   "cell_type": "code",
   "execution_count": 34,
   "metadata": {},
   "outputs": [],
   "source": [
    "D1 = np.copy(masknan_vals)\n",
    "D2 = np.copy(masknan_vals)\n",
    "D3 = np.copy(masknan_vals)\n",
    "D1[np.nonzero(domain.mask.values)] = 0.3\n",
    "D3[np.nonzero(domain.mask.values)] = 0.5\n",
    "\n",
    "D2[np.nonzero(hydro_classes['arid'].values)] = 2.0\n",
    "D2[np.nonzero(hydro_classes['temperate_dry'].values)] = 2.0\n",
    "D2[np.nonzero(hydro_classes['cold_dry_perma'].values)] = 0.5\n",
    "D2[np.nonzero(hydro_classes['cold_dry_noperma'].values)] = 0.5\n",
    "D2[np.nonzero(hydro_classes['cold_wds_ws_perma'].values)] = 2.0\n",
    "D2[np.nonzero(hydro_classes['cold_wds_ws_noperma'].values)] = 0.5\n",
    "D2[np.nonzero(hydro_classes['cold_wds_cs_perma'].values)] = 1.1\n",
    "D2[np.nonzero(hydro_classes['cold_wds_cs_noperma'].values)] = 0.3\n",
    "D2[np.nonzero(hydro_classes['polar'].values)] = 0.3\n",
    "\n",
    "depths = np.rollaxis(np.dstack((D1, D2, D3)), axis=2)\n",
    "\n",
    "params['depth'] = xr.DataArray(depths,\n",
    "                                dims=('nlayer','nj', 'ni'),\n",
    "                                coords={'xc': domain.xc, 'yc': domain.yc},\n",
    "                                attrs={'description': \"Thickness of each soil moisture layer\",\n",
    "                                   'units': \"m\", 'long_name': \"depth\"},\n",
    "                                encoding={\"_FillValue\": fillval_f,\n",
    "                                       \"Coordinates\": \"xc yc\"})"
   ]
  },
  {
   "cell_type": "markdown",
   "metadata": {},
   "source": [
    "__aggregate ISRIC soil data to VIC soil depths__"
   ]
  },
  {
   "cell_type": "markdown",
   "metadata": {},
   "source": [
    "first need array of soil depths "
   ]
  },
  {
   "cell_type": "code",
   "execution_count": 35,
   "metadata": {},
   "outputs": [],
   "source": [
    "soil_depths = params['depth'].sum(axis=0)\n",
    "print(\"max soil depth is %.1f m\" % soil_depths.max())"
   ]
  },
  {
   "cell_type": "code",
   "execution_count": 37,
   "metadata": {},
   "outputs": [],
   "source": [
    "ksat_l1 = xr.apply_ufunc(calculate_first_layer_harmonic_mean,\n",
    "                         ksat.isel(nlayer=0), \n",
    "                         ksat.isel(nlayer=1),\n",
    "                         dask='allowed',\n",
    "                         vectorize=True)\n",
    "\n",
    "ksat_l2 = xr.apply_ufunc(calculate_second_layer_harmonic_mean,\n",
    "                         ksat.isel(nlayer=2), \n",
    "                         ksat.isel(nlayer=3),\n",
    "                         ksat.isel(nlayer=4),\n",
    "                         ksat.isel(nlayer=5),\n",
    "                         ksat.isel(nlayer=6),\n",
    "                         soil_depths,\n",
    "                         dask='allowed',\n",
    "                         vectorize=True)\n",
    "\n",
    "ksat_l3 = xr.apply_ufunc(calculate_second_layer_harmonic_mean,\n",
    "                         ksat.isel(nlayer=2), \n",
    "                         ksat.isel(nlayer=3),\n",
    "                         ksat.isel(nlayer=4),\n",
    "                         ksat.isel(nlayer=5),\n",
    "                         ksat.isel(nlayer=6),\n",
    "                         soil_depths,\n",
    "                         dask='allowed',\n",
    "                         vectorize=True)\n",
    "\n",
    "ksat_vals = np.rollaxis(np.dstack((ksat_l1, ksat_l2, ksat_l3)), \n",
    "                        axis=2)\n",
    "\n",
    "params['Ksat'] = xr.DataArray(ksat_vals, \n",
    "                              dims=('nlayer','nj', 'ni'),\n",
    "                              coords={'xc': domain.xc, 'yc': domain.yc},\n",
    "                              attrs={'description': \"Saturated hydraulic conductivity\",\n",
    "                                       'units': \"mm/day\", 'long_name': \"Ksat\"},\n",
    "                              encoding={\"_FillValue\": fillval_f,\n",
    "                                         \"Coordinates\": \"xc yc\"})"
   ]
  },
  {
   "cell_type": "code",
   "execution_count": 38,
   "metadata": {},
   "outputs": [],
   "source": [
    "# bulk_density\n",
    "bdm_l1 = xr.apply_ufunc(calculate_first_layer_arithmetic_mean,\n",
    "                         bulk_density_min.isel(nlayer=0), \n",
    "                         bulk_density_min.isel(nlayer=1),\n",
    "                         dask='allowed',\n",
    "                         vectorize=True)\n",
    "\n",
    "bdm_l2 = xr.apply_ufunc(calculate_second_layer_arithmetic_mean,\n",
    "                         bulk_density_min.isel(nlayer=2), \n",
    "                         bulk_density_min.isel(nlayer=3),\n",
    "                         bulk_density_min.isel(nlayer=4),\n",
    "                         bulk_density_min.isel(nlayer=5),\n",
    "                         bulk_density_min.isel(nlayer=6),\n",
    "                         soil_depths,\n",
    "                         dask='allowed',\n",
    "                         vectorize=True)\n",
    "\n",
    "bdm_l3 = xr.apply_ufunc(calculate_second_layer_arithmetic_mean,\n",
    "                         bulk_density_min.isel(nlayer=2), \n",
    "                         bulk_density_min.isel(nlayer=3),\n",
    "                         bulk_density_min.isel(nlayer=4),\n",
    "                         bulk_density_min.isel(nlayer=5),\n",
    "                         bulk_density_min.isel(nlayer=6),\n",
    "                         soil_depths,\n",
    "                         dask='allowed',\n",
    "                         vectorize=True)\n",
    "\n",
    "bdm_vals = np.rollaxis(np.dstack((bdm_l1, bdm_l2, bdm_l3)), \n",
    "                        axis=2)\n",
    "\n",
    "params['bulk_density'] = xr.DataArray(bdm_vals,\n",
    "                                      dims=('nlayer','nj', 'ni'),\n",
    "                                      coords={'xc': domain.xc, 'yc': domain.yc},\n",
    "                                      attrs={'description': \"Mineral bulk density of soil layer\",\n",
    "                                             'units': \"kg/m3\", 'long_name': \"bulk_density\"},\n",
    "                                      encoding={\"_FillValue\": fillval_f,\n",
    "                                             \"Coordinates\": \"xc yc\"})"
   ]
  },
  {
   "cell_type": "code",
   "execution_count": 39,
   "metadata": {},
   "outputs": [],
   "source": [
    "# expt\n",
    "b_l1 = xr.apply_ufunc(calculate_first_layer_arithmetic_mean,\n",
    "                         b.isel(nlayer=0), \n",
    "                         b.isel(nlayer=1),\n",
    "                         dask='allowed',\n",
    "                         vectorize=True)\n",
    "\n",
    "b_l2 = xr.apply_ufunc(calculate_second_layer_arithmetic_mean,\n",
    "                         b.isel(nlayer=2), \n",
    "                         b.isel(nlayer=3),\n",
    "                         b.isel(nlayer=4),\n",
    "                         b.isel(nlayer=5),\n",
    "                         b.isel(nlayer=6),\n",
    "                         soil_depths,\n",
    "                         dask='allowed',\n",
    "                         vectorize=True)\n",
    "\n",
    "b_l3 = xr.apply_ufunc(calculate_second_layer_arithmetic_mean,\n",
    "                         b.isel(nlayer=2), \n",
    "                         b.isel(nlayer=3),\n",
    "                         b.isel(nlayer=4),\n",
    "                         b.isel(nlayer=5),\n",
    "                         b.isel(nlayer=6),\n",
    "                         soil_depths,\n",
    "                         dask='allowed',\n",
    "                         vectorize=True)\n",
    "\n",
    "expt_vals = np.rollaxis(np.dstack(((b_l1 * 2) + 3, (b_l2 * 2) + 3, (b_l3 * 2) + 3)), \n",
    "                        axis=2)\n",
    "\n",
    "params['expt'] = xr.DataArray(expt_vals,\n",
    "                                   dims=('nlayer','nj', 'ni'),\n",
    "                                   coords={'xc': domain.xc, 'yc': domain.yc},\n",
    "                                   attrs={'description': \"Exponent n (=3+2/lambda) in Campbell's eqt for Ksat, HBH 5.6 \\\n",
    "                                           where lambda = soil pore size distribution parameter\", \n",
    "                                           'units': \"N/A\", 'long_name': \"expt\"},\n",
    "                                   encoding={\"_FillValue\": fillval_f,\n",
    "                                             \"Coordinates\": \"xc yc\"})\n",
    "params['bubble'] = xr.DataArray((np.copy(params['expt'].values) * 0.32) + 4.3,\n",
    "                                         dims=('nlayer','nj', 'ni'),\n",
    "                                         coords={'xc': domain.xc, 'yc': domain.yc},\n",
    "                                         attrs={'description': \"Bubbling pressure of soil. Values should be > 0\",\n",
    "                                           'units': \"cm\", 'long_name': \"bubble\"},\n",
    "                                     encoding={\"_FillValue\": fillval_f,\n",
    "                                               \"Coordinates\": \"xc yc\"})"
   ]
  },
  {
   "cell_type": "code",
   "execution_count": 40,
   "metadata": {},
   "outputs": [],
   "source": [
    "# resid_moist\n",
    "rm_l1 = xr.apply_ufunc(calculate_first_layer_arithmetic_mean,\n",
    "                         resid_moist.isel(nlayer=0), \n",
    "                         resid_moist.isel(nlayer=1),\n",
    "                         dask='allowed',\n",
    "                         vectorize=True)\n",
    "\n",
    "rm_l2 = xr.apply_ufunc(calculate_second_layer_arithmetic_mean,\n",
    "                         resid_moist.isel(nlayer=2), \n",
    "                         resid_moist.isel(nlayer=3),\n",
    "                         resid_moist.isel(nlayer=4),\n",
    "                         resid_moist.isel(nlayer=5),\n",
    "                         resid_moist.isel(nlayer=6),\n",
    "                         soil_depths,\n",
    "                         dask='allowed',\n",
    "                         vectorize=True)\n",
    "\n",
    "rm_l3 = xr.apply_ufunc(calculate_second_layer_arithmetic_mean,\n",
    "                         resid_moist.isel(nlayer=2), \n",
    "                         resid_moist.isel(nlayer=3),\n",
    "                         resid_moist.isel(nlayer=4),\n",
    "                         resid_moist.isel(nlayer=5),\n",
    "                         resid_moist.isel(nlayer=6),\n",
    "                         soil_depths,\n",
    "                         dask='allowed',\n",
    "                         vectorize=True)\n",
    "rm_vals = np.rollaxis(np.dstack((rm_l1, rm_l2, rm_l3)), \n",
    "                        axis=2)\n",
    "params['resid_moist'] = xr.DataArray(rm_vals,\n",
    "                                         dims=('nlayer','nj', 'ni'),\n",
    "                                         coords={'xc': domain.xc, 'yc': domain.yc},\n",
    "                                         attrs={'description': \"Soil moisture layer residual moisture\",\n",
    "                                           'units': \"fraction\", 'long_name': \"resid_moist\"},\n",
    "                                         encoding={\"_FillValue\": fillval_f,\n",
    "                                               \"Coordinates\": \"xc yc\"})"
   ]
  },
  {
   "cell_type": "code",
   "execution_count": 41,
   "metadata": {},
   "outputs": [],
   "source": [
    "# Wcr_FRACT\n",
    "wcr_l1 = xr.apply_ufunc(calculate_first_layer_arithmetic_mean,\n",
    "                         Wcr_FRACT.isel(nlayer=0), \n",
    "                         Wcr_FRACT.isel(nlayer=1),\n",
    "                         dask='allowed',\n",
    "                         vectorize=True)\n",
    "\n",
    "wcr_l2 = xr.apply_ufunc(calculate_second_layer_arithmetic_mean,\n",
    "                         Wcr_FRACT.isel(nlayer=2), \n",
    "                         Wcr_FRACT.isel(nlayer=3),\n",
    "                         Wcr_FRACT.isel(nlayer=4),\n",
    "                         Wcr_FRACT.isel(nlayer=5),\n",
    "                         Wcr_FRACT.isel(nlayer=6),\n",
    "                         soil_depths,\n",
    "                         dask='allowed',\n",
    "                         vectorize=True)\n",
    "\n",
    "wcr_l3 = xr.apply_ufunc(calculate_second_layer_arithmetic_mean,\n",
    "                         Wcr_FRACT.isel(nlayer=2), \n",
    "                         Wcr_FRACT.isel(nlayer=3),\n",
    "                         Wcr_FRACT.isel(nlayer=4),\n",
    "                         Wcr_FRACT.isel(nlayer=5),\n",
    "                         Wcr_FRACT.isel(nlayer=6),\n",
    "                         soil_depths,\n",
    "                         dask='allowed',\n",
    "                         vectorize=True)\n",
    "wcr_vals = np.rollaxis(np.dstack((wcr_l1, wcr_l2, wcr_l3)), \n",
    "                        axis=2)"
   ]
  },
  {
   "cell_type": "code",
   "execution_count": 42,
   "metadata": {},
   "outputs": [],
   "source": [
    "# Wpwp_FRACT\n",
    "wpwp_l1 = xr.apply_ufunc(calculate_first_layer_arithmetic_mean,\n",
    "                         Wpwp_FRACT.isel(nlayer=0), \n",
    "                         Wpwp_FRACT.isel(nlayer=1),\n",
    "                         dask='allowed',\n",
    "                         vectorize=True)\n",
    "\n",
    "wpwp_l2 = xr.apply_ufunc(calculate_second_layer_arithmetic_mean,\n",
    "                         Wpwp_FRACT.isel(nlayer=2), \n",
    "                         Wpwp_FRACT.isel(nlayer=3),\n",
    "                         Wpwp_FRACT.isel(nlayer=4),\n",
    "                         Wpwp_FRACT.isel(nlayer=5),\n",
    "                         Wpwp_FRACT.isel(nlayer=6),\n",
    "                         soil_depths,\n",
    "                         dask='allowed',\n",
    "                         vectorize=True)\n",
    "\n",
    "wpwp_l3 = xr.apply_ufunc(calculate_second_layer_arithmetic_mean,\n",
    "                         Wpwp_FRACT.isel(nlayer=2), \n",
    "                         Wpwp_FRACT.isel(nlayer=3),\n",
    "                         Wpwp_FRACT.isel(nlayer=4),\n",
    "                         Wpwp_FRACT.isel(nlayer=5),\n",
    "                         Wpwp_FRACT.isel(nlayer=6),\n",
    "                         soil_depths,\n",
    "                         dask='allowed',\n",
    "                         vectorize=True)\n",
    "\n",
    "wpwp_vals = np.rollaxis(np.dstack((wpwp_l1, wpwp_l2, wpwp_l3)), \n",
    "                        axis=2)"
   ]
  },
  {
   "cell_type": "code",
   "execution_count": 43,
   "metadata": {},
   "outputs": [],
   "source": [
    "# quartz\n",
    "qz_l1 = xr.apply_ufunc(calculate_first_layer_arithmetic_mean,\n",
    "                         quartz.isel(nlayer=0), \n",
    "                         quartz.isel(nlayer=1),\n",
    "                         dask='allowed',\n",
    "                         vectorize=True)\n",
    "\n",
    "qz_l2 = xr.apply_ufunc(calculate_second_layer_arithmetic_mean,\n",
    "                         quartz.isel(nlayer=2), \n",
    "                         quartz.isel(nlayer=3),\n",
    "                         quartz.isel(nlayer=4),\n",
    "                         quartz.isel(nlayer=5),\n",
    "                         quartz.isel(nlayer=6),\n",
    "                         soil_depths,\n",
    "                         dask='allowed',\n",
    "                         vectorize=True)\n",
    "\n",
    "qz_l3 = xr.apply_ufunc(calculate_second_layer_arithmetic_mean,\n",
    "                         quartz.isel(nlayer=2), \n",
    "                         quartz.isel(nlayer=3),\n",
    "                         quartz.isel(nlayer=4),\n",
    "                         quartz.isel(nlayer=5),\n",
    "                         quartz.isel(nlayer=6),\n",
    "                         soil_depths,\n",
    "                         dask='allowed',\n",
    "                         vectorize=True)\n",
    "qz_vals = np.rollaxis(np.dstack((qz_l1, qz_l2, qz_l3)), \n",
    "                        axis=2)\n",
    "\n",
    "params['quartz'] = xr.DataArray(qz_vals,\n",
    "                                dims=('nlayer','nj', 'ni'),\n",
    "                                coords={'xc': domain.xc, 'yc': domain.yc},\n",
    "                                attrs={'description': \"Quartz content of soil\",\n",
    "                                       'units': \"cm\", 'long_name': \"quartz\"},\n",
    "                                encoding={\"_FillValue\": fillval_f,\n",
    "                                       \"Coordinates\": \"xc yc\"})"
   ]
  },
  {
   "cell_type": "code",
   "execution_count": 44,
   "metadata": {},
   "outputs": [],
   "source": [
    "# bulk_density\n",
    "bd_l1 = xr.apply_ufunc(calculate_first_layer_arithmetic_mean,\n",
    "                         soil_data['bulk_density']['bulk_density'].isel(nlayer=0), \n",
    "                         soil_data['bulk_density']['bulk_density'].isel(nlayer=1),\n",
    "                         dask='allowed',\n",
    "                         vectorize=True)\n",
    "\n",
    "bd_l2 = xr.apply_ufunc(calculate_second_layer_arithmetic_mean,\n",
    "                         soil_data['bulk_density']['bulk_density'].isel(nlayer=2), \n",
    "                         soil_data['bulk_density']['bulk_density'].isel(nlayer=3),\n",
    "                         soil_data['bulk_density']['bulk_density'].isel(nlayer=4),\n",
    "                         soil_data['bulk_density']['bulk_density'].isel(nlayer=5),\n",
    "                         soil_data['bulk_density']['bulk_density'].isel(nlayer=6),\n",
    "                         soil_depths,\n",
    "                         dask='allowed',\n",
    "                         vectorize=True)\n",
    "\n",
    "bd_l3 = xr.apply_ufunc(calculate_second_layer_arithmetic_mean,\n",
    "                         soil_data['bulk_density']['bulk_density'].isel(nlayer=2), \n",
    "                         soil_data['bulk_density']['bulk_density'].isel(nlayer=3),\n",
    "                         soil_data['bulk_density']['bulk_density'].isel(nlayer=4),\n",
    "                         soil_data['bulk_density']['bulk_density'].isel(nlayer=5),\n",
    "                         soil_data['bulk_density']['bulk_density'].isel(nlayer=6),\n",
    "                         soil_depths,\n",
    "                         dask='allowed',\n",
    "                         vectorize=True)\n",
    "bd_vals = np.rollaxis(np.dstack((bd_l1, bd_l2, bd_l3)), \n",
    "                        axis=2)\n",
    "\n",
    "params['bulk_density_comb'] = xr.DataArray(bd_vals,\n",
    "                                      dims=('nlayer','nj', 'ni'),\n",
    "                                      coords={'xc': domain.xc, 'yc': domain.yc},\n",
    "                                      attrs={'description': \"Soil bulk density of soil layer\",\n",
    "                                             'units': \"kg/m3\", 'long_name': \"bulk_density\"},\n",
    "                                      encoding={\"_FillValue\": fillval_f,\n",
    "                                             \"Coordinates\": \"xc yc\"})"
   ]
  },
  {
   "cell_type": "code",
   "execution_count": 45,
   "metadata": {},
   "outputs": [],
   "source": [
    "#organic fract\n",
    "of_l1 = xr.apply_ufunc(calculate_first_layer_arithmetic_mean,\n",
    "                         soil_data['organic_fract']['organic_fract'].isel(nlayer=0), \n",
    "                         soil_data['organic_fract']['organic_fract'].isel(nlayer=1),\n",
    "                         dask='allowed',\n",
    "                         vectorize=True)\n",
    "\n",
    "of_l2 = xr.apply_ufunc(calculate_second_layer_arithmetic_mean,\n",
    "                         soil_data['organic_fract']['organic_fract'].isel(nlayer=2), \n",
    "                         soil_data['organic_fract']['organic_fract'].isel(nlayer=3),\n",
    "                         soil_data['organic_fract']['organic_fract'].isel(nlayer=4),\n",
    "                         soil_data['organic_fract']['organic_fract'].isel(nlayer=5),\n",
    "                         soil_data['organic_fract']['organic_fract'].isel(nlayer=6),\n",
    "                         soil_depths,\n",
    "                         dask='allowed',\n",
    "                         vectorize=True)\n",
    "\n",
    "of_l3 = xr.apply_ufunc(calculate_second_layer_arithmetic_mean,\n",
    "                         soil_data['organic_fract']['organic_fract'].isel(nlayer=2), \n",
    "                         soil_data['organic_fract']['organic_fract'].isel(nlayer=3),\n",
    "                         soil_data['organic_fract']['organic_fract'].isel(nlayer=4),\n",
    "                         soil_data['organic_fract']['organic_fract'].isel(nlayer=5),\n",
    "                         soil_data['organic_fract']['organic_fract'].isel(nlayer=6),\n",
    "                         soil_depths,\n",
    "                         dask='allowed',\n",
    "                         vectorize=True)\n",
    "of_vals = np.rollaxis(np.dstack(((of_l1/1000), (of_l2/1000), (of_l3/1000))), \n",
    "                        axis=2)\n",
    "\n",
    "params['organic'] = xr.DataArray(of_vals,\n",
    "                                      dims=('nlayer','nj', 'ni'),\n",
    "                                      coords={'xc': domain.xc, 'yc': domain.yc},\n",
    "                                      attrs={'description': \"soil organic carbon fraction\",\n",
    "                                             'units': \"fraction\", 'long_name': \"organic_fract\"},\n",
    "                                      encoding={\"_FillValue\": fillval_f,\n",
    "                                             \"Coordinates\": \"xc yc\"})"
   ]
  },
  {
   "cell_type": "markdown",
   "metadata": {},
   "source": [
    "calculate porosity from bulk density and soil density "
   ]
  },
  {
   "cell_type": "code",
   "execution_count": 46,
   "metadata": {},
   "outputs": [],
   "source": [
    "sd_l1 = np.copy(masknan_vals)\n",
    "sd_l2 = np.copy(masknan_vals)\n",
    "sd_l3 = np.copy(masknan_vals)\n",
    "\n",
    "sd_l1[np.nonzero(masknan_vals)] = 2685.0\n",
    "sd_l2[np.nonzero(masknan_vals)] = 2685.0\n",
    "sd_l3[np.nonzero(masknan_vals)] = 2685.0\n",
    "\n",
    "sd_vals = np.rollaxis(np.dstack((sd_l1, sd_l2, sd_l3)), \n",
    "                        axis=2)\n",
    "params['soil_density'] = xr.DataArray(sd_vals,\n",
    "                                      dims=('nlayer','nj', 'ni'),\n",
    "                                      coords={'xc': domain.xc, 'yc': domain.yc},\n",
    "                                      attrs={'description': \"Soil particle density, normally 2685 kg/m3\",\n",
    "                                       'units': \"kg/m3\", 'long_name': \"soil_density\"},\n",
    "                                      encoding={\"_FillValue\": fillval_f,\n",
    "                                           \"Coordinates\": \"xc yc\"})"
   ]
  },
  {
   "cell_type": "code",
   "execution_count": 47,
   "metadata": {},
   "outputs": [],
   "source": [
    "sd_org_l1 = np.copy(masknan_vals)\n",
    "sd_org_l2 = np.copy(masknan_vals)\n",
    "sd_org_l3 = np.copy(masknan_vals)\n",
    "\n",
    "sd_org_l1[np.nonzero(masknan_vals)] = 1300.0\n",
    "sd_org_l2[np.nonzero(masknan_vals)] = 1300.0\n",
    "sd_org_l3[np.nonzero(masknan_vals)] = 1300.0\n",
    "\n",
    "sd_org_vals = np.rollaxis(np.dstack((sd_org_l1, sd_org_l2, sd_org_l3)), \n",
    "                        axis=2)\n",
    "params['soil_density_org'] = xr.DataArray(sd_org_vals,\n",
    "                                      dims=('nlayer','nj', 'ni'),\n",
    "                                      coords={'xc': domain.xc, 'yc': domain.yc},\n",
    "                                      attrs={'description': \"Organic matter particle density, normally 1300 kg/m3\",\n",
    "                                       'units': \"kg/m3\", 'long_name': \"soil_dens_org\"},\n",
    "                                      encoding={\"_FillValue\": fillval_f,\n",
    "                                           \"Coordinates\": \"xc yc\"})"
   ]
  },
  {
   "cell_type": "code",
   "execution_count": 48,
   "metadata": {},
   "outputs": [],
   "source": [
    "# calculate porosity\n",
    "porosity = 1 - (params['bulk_density_comb'] / params['soil_density'])"
   ]
  },
  {
   "cell_type": "code",
   "execution_count": 49,
   "metadata": {},
   "outputs": [],
   "source": [
    "params['Wpwp_FRACT'] = xr.DataArray(wpwp_vals / porosity.values,\n",
    "                                         dims=('nlayer','nj', 'ni'),\n",
    "                                         coords={'xc': domain.xc, 'yc': domain.yc},\n",
    "                                         attrs={'description': \"Fractional soil moisture content at the \\\n",
    "                                                wilting point (fraction of maximum moisture)\",\n",
    "                                           'units': \"fraction\", 'long_name': \"Wpwp_FRACT\"},\n",
    "                                         encoding={\"_FillValue\": fillval_f,\n",
    "                                               \"Coordinates\": \"xc yc\"})\n",
    "\n",
    "params['Wcr_FRACT'] = xr.DataArray(wcr_vals / porosity.values,\n",
    "                                         dims=('nlayer','nj', 'ni'),\n",
    "                                         coords={'xc': domain.xc, 'yc': domain.yc},\n",
    "                                         attrs={'description': \"Fractional soil moisture content at the critical point \\\n",
    "                                                (~70%% of field capacity) (fraction of maximum moisture)\",\n",
    "                                           'units': \"fraction\", 'long_name': \"Wcr_FRACT\"},\n",
    "                                         encoding={\"_FillValue\": fillval_f,\n",
    "                                               \"Coordinates\": \"xc yc\"})"
   ]
  },
  {
   "cell_type": "markdown",
   "metadata": {},
   "source": [
    "__make initial moisture fully saturated__"
   ]
  },
  {
   "cell_type": "code",
   "execution_count": 50,
   "metadata": {},
   "outputs": [],
   "source": [
    "init_moist_l1 = xr.apply_ufunc(calculate_init_moist,\n",
    "                               porosity.isel(nlayer=0), \n",
    "                               params.depth.isel(nlayer=0),\n",
    "                               dask='allowed', \n",
    "                               vectorize=True)\n",
    "init_moist_l2 = xr.apply_ufunc(calculate_init_moist,\n",
    "                               porosity.isel(nlayer=1), \n",
    "                               params.depth.isel(nlayer=1),\n",
    "                               dask='allowed', \n",
    "                               vectorize=True)\n",
    "init_moist_l3 = xr.apply_ufunc(calculate_init_moist,\n",
    "                               porosity.isel(nlayer=1), \n",
    "                               params.depth.isel(nlayer=2),\n",
    "                               dask='allowed', \n",
    "                               vectorize=True)\n",
    "init_moist_vals = np.rollaxis(np.dstack((init_moist_l1, init_moist_l2, init_moist_l3)), \n",
    "                        axis=2)\n",
    "params['init_moist'] = xr.DataArray(init_moist_vals,\n",
    "                                     dims=('nlayer','nj', 'ni'),\n",
    "                                     coords={'xc': domain.xc, 'yc': domain.yc},\n",
    "                                     attrs={'description': \"Initial layer moisture content\",\n",
    "                                           'units': \"mm\", 'long_name': \"init_moist\"},\n",
    "                                     encoding={\"_FillValue\": fillval_f,\n",
    "                                             \"Coordinates\": \"xc yc\"})"
   ]
  },
  {
   "cell_type": "markdown",
   "metadata": {},
   "source": [
    "__add: elev, c, phi_s, avg_T, dp, bubble, soil_density, off_gmt, rough, snow_rough,\n",
    "annual_prec, fs_active__"
   ]
  },
  {
   "cell_type": "code",
   "execution_count": 51,
   "metadata": {},
   "outputs": [],
   "source": [
    "params['off_gmt'] = xr.DataArray(old_params['off_gmt'].values,\n",
    "                                 dims=('nj', 'ni'),\n",
    "                                 coords={'xc': domain.xc, 'yc': domain.yc},\n",
    "                                 encoding={\"_FillValue\": fillval_f,\n",
    "                                               \"Coordinates\": \"xc yc\"})\n",
    "params['phi_s'] = xr.DataArray(old_params['phi_s'].values,\n",
    "                                    dims=('nlayer','nj', 'ni'),\n",
    "                                    coords={'xc': domain.xc, 'yc': domain.yc},\n",
    "                                    attrs={'description': \"Soil moisture diffusion parameter\",\n",
    "                                           'units': \"mm/mm\", 'long_name': \"phi_s\"},\n",
    "                                    encoding={\"_FillValue\": fillval_f,\n",
    "                                              \"Coordinates\": \"xc yc\"})\n",
    "params['fs_active'] = xr.DataArray(old_params['fs_active'].values,\n",
    "                                dims=('nj', 'ni'),\n",
    "                                coords={'xc': domain.xc, 'yc': domain.yc},\n",
    "                                attrs={'description': \"If set to 1, then frozen soil algorithm is activated for the \\\n",
    "                                        grid cell. A 0 indicates that frozen soils are not computed if soil \\\n",
    "                                        temperatures fall below 0C.\", \n",
    "                                        'units': \"binary\", 'long_name': \"fs_active\"},\n",
    "                                encoding={\"_FillValue\": fillval_i,\n",
    "                                               \"Coordinates\": \"xc yc\", 'dtype': 'int32'})\n",
    "params['dp'] = xr.DataArray(old_params['dp'].values,\n",
    "                                dims=('nj', 'ni'),\n",
    "                                coords={'xc': domain.xc, 'yc': domain.yc},\n",
    "                                attrs={'description': \"Soil thermal damping depth (depth at which soil temperature) \\\n",
    "                                        remains constant through the year, ~4 m\", \n",
    "                                              'units': \"m\", 'long_name': \"dp\"},\n",
    "                                encoding={\"_FillValue\": fillval_f,\n",
    "                                               \"Coordinates\": \"xc yc\"})"
   ]
  },
  {
   "cell_type": "code",
   "execution_count": 52,
   "metadata": {},
   "outputs": [],
   "source": [
    "snow_rough = np.copy(masknan_vals)\n",
    "snow_rough[np.nonzero(masknan_vals)] = 0.0024\n",
    "params['snow_rough'] = xr.DataArray(snow_rough,\n",
    "                                    dims=('nj', 'ni'),\n",
    "                                    coords={'xc': domain.xc, 'yc': domain.yc},\n",
    "                                    attrs={'description': \"Surface roughness of snowpack\", \n",
    "                                              'units': \"m\", 'long_name': \"snow_rough\"},\n",
    "                                    encoding={\"_FillValue\": fillval_f,\n",
    "                                               \"Coordinates\": \"xc yc\"})"
   ]
  },
  {
   "cell_type": "code",
   "execution_count": 53,
   "metadata": {},
   "outputs": [],
   "source": [
    "# add run_cell, mask, xv and yv, xc, yc, gridcell, lats, lons\n",
    "params['run_cell'] = xr.DataArray(old_params['run_cell'].values, \n",
    "                                       dims=('nj', 'ni'),\n",
    "                                       coords={'xc': domain.xc, 'yc': domain.yc},\n",
    "                                       attrs={'units': \"N/A\", 'long_name': \"run_cell\"},\n",
    "                                       encoding={\"_FillValue\": fillval_i,\n",
    "                                                 \"Coordinates\": \"xc yc\",\n",
    "                                                 \"dtype\": \"int32\"})\n",
    "params['mask'] = xr.DataArray(domain['mask'].values,\n",
    "                                   dims=('nj', 'ni'),\n",
    "                                   coords={'xc': domain.xc, 'yc': domain.yc},\n",
    "                                   attrs={'description': \"0 value indicates cell is not active\", \n",
    "                                          'units': \"N/A\", 'long_name': \"mask\", 'bounds': 'yv'},\n",
    "                                   encoding={\"_FillValue\": fillval_i,\n",
    "                                                 \"Coordinates\": \"xc yc\",\n",
    "                                                 \"dtype\": \"int32\"})\n",
    "params['gridcell'] = xr.DataArray(old_params['gridcell'].values, \n",
    "                                       dims=('nj', 'ni'),\n",
    "                                       coords={'xc': domain.xc, 'yc': domain.yc},\n",
    "                                       attrs={'description': \"Grid cell number\", \n",
    "                                              'units': \"N/A\", 'long_name': \"gridcell\"},\n",
    "                                       encoding={\"_FillValue\": fillval_i,\n",
    "                                                 \"Coordinates\": \"xc yc\", \"dtype\": \"int32\"})\n",
    "params['lats'] = xr.DataArray(old_params.lats.values, \n",
    "                                   dims=('nj', 'ni'),\n",
    "                                   coords={'xc': domain.xc, 'yc': domain.yc},\n",
    "                                   attrs={'description': \"Latitude of grid cell\", \n",
    "                                              'units': \"degrees\", 'long_name': \"lats\"})\n",
    "params['lons'] = xr.DataArray(old_params.lons.values,\n",
    "                                   dims=('nj', 'ni'),\n",
    "                                   coords={'xc': domain.xc, 'yc': domain.yc},\n",
    "                                   attrs={'description': \"Longitude of grid cell\", \n",
    "                                          'units': \"degrees\", 'long_name': \"lons\"})\n",
    "params['xc'] = xr.DataArray(domain['xc'].values,\n",
    "                                 dims=('nj', 'ni'),\n",
    "                                 attrs={'units': \"degrees_east\", 'long_name': \"longitude of gridcell center\",\n",
    "                                        'bounds': 'xv'})\n",
    "params['yc'] = xr.DataArray(domain['yc'].values,\n",
    "                                 dims=('nj', 'ni'),\n",
    "                                 attrs={'units': \"degrees_north\", 'long_name': \"latitude of gridcell center\",\n",
    "                                        'bounds': 'yv'})\n",
    "\n",
    "domain = domain.rename({'nv': 'nv4'})\n",
    "params['xv'] = xr.DataArray(np.rollaxis(domain['xv'].values, axis=2),\n",
    "                                 dims=('nv4', 'nj', 'ni'),\n",
    "                                 attrs={'units': \"degrees_east\", \n",
    "                                        'long_name': \"longitude of grid cell vertices\"})\n",
    "\n",
    "params['yv'] = xr.DataArray(np.rollaxis(domain['yv'].values, axis=2),\n",
    "                                 dims=('nv4', 'nj', 'ni'),\n",
    "                                 attrs={'units': \"degrees_north\", \n",
    "                                        'long_name': \"latitude of grid cell vertices\"})"
   ]
  },
  {
   "cell_type": "markdown",
   "metadata": {},
   "source": [
    "swap 0th and 16th veg class to accommodate bare soil. \n",
    "\n",
    "veg class vars: Cv, Nveg, trunk_ratio, rarc, rmin, wind_h, RGL, rad_atten, wind_atten, albedo, LAI, overstory, displacement, veg_rough, root_depth, root_fract"
   ]
  },
  {
   "cell_type": "markdown",
   "metadata": {},
   "source": [
    "additional organic fract parameters if that option is set to True: \n",
    "\n",
    "soil particle density of OM \n",
    "\n",
    "bulk density of OM\n",
    "\n",
    "organic content of soil (fraction of total soil volume)\n",
    "\n",
    "Note: Organic matter (%) = Total organic carbon (%) x 1.72, from http://www.soilquality.org.au/factsheets/organic-carbon"
   ]
  },
  {
   "cell_type": "code",
   "execution_count": 54,
   "metadata": {},
   "outputs": [],
   "source": [
    "veg_class_vars = ['Cv', 'trunk_ratio', 'rarc', 'rmin', 'wind_h', 'RGL', 'rad_atten',\n",
    "                  'wind_atten', 'albedo', 'LAI', 'overstory',\n",
    "                  'root_depth', 'root_fract', 'displacement', 'veg_rough', 'max_snow_albedo']\n",
    "\n",
    "for veg_class_var in veg_class_vars: \n",
    "    if ((veg_class_var == \"LAI\") or (veg_class_var == \"albedo\") or (veg_class_var == \"root_depth\") \n",
    "    or (veg_class_var == \"root_fract\") or (veg_class_var == \"veg_rough\") or \n",
    "        (veg_class_var == \"displacement\")):\n",
    "        bare = np.copy(params[veg_class_var].isel(veg_class=0))\n",
    "        last = np.copy(params[veg_class_var].isel(veg_class=16))\n",
    "        params[veg_class_var].values[0, :, :, :] = last\n",
    "        params[veg_class_var].values[16, :, :, :] = bare\n",
    "    else:\n",
    "        bare = np.copy(params[veg_class_var].isel(veg_class=0))\n",
    "        last = np.copy(params[veg_class_var].isel(veg_class=16))\n",
    "        params[veg_class_var].values[0, :, :] = last\n",
    "        params[veg_class_var].values[16, :, :] = bare\n",
    "params['root_fract'].values[16, :, :, :] = 0\n",
    "params['root_depth'].values[16, :, :, :] = 0\n",
    "params['displacement'].values[16, :, :, :] = 0\n",
    "params['veg_rough'].values[16, :, :, :] = 0\n",
    "params['overstory'].values[:, :, :] = 0"
   ]
  },
  {
   "cell_type": "code",
   "execution_count": 55,
   "metadata": {},
   "outputs": [],
   "source": [
    "# adjust data vars that need adjusting \n",
    "params['Ksat'].values = params['Ksat'].where(domain.mask == 1)\n",
    "params['expt'].values = params['expt'].where(domain.mask == 1)\n",
    "params['bubble'].values = params['bubble'].where(domain.mask == 1)\n",
    "params['Wpwp_FRACT'].values = params['Wpwp_FRACT'].where(domain.mask == 1)\n",
    "params['Wcr_FRACT'].values = params['Wcr_FRACT'].where(domain.mask == 1)\n",
    "params['resid_moist'].values = params['resid_moist'].where(domain.mask == 1)\n",
    "params['quartz'].values = params['quartz'].where(domain.mask == 1)\n",
    "params['bulk_density_comb'].values = params['bulk_density_comb'].where(domain.mask == 1)\n",
    "params['bulk_density'].values = params['bulk_density'].where(domain.mask == 1)\n",
    "params['soil_density'].values = params['soil_density'].where(domain.mask == 1)\n",
    "params['c'].values = params['c'].where(domain.mask == 1)\n",
    "params['snow_rough'].values = params['snow_rough'].where(domain.mask == 1)\n",
    "params['Nveg'].values = params['Nveg'].where(domain.mask == 1)\n",
    "params['trunk_ratio'] = params['trunk_ratio'].where(domain.mask == 1)\n",
    "params['rarc'] = params['rarc'].where(domain.mask == 1)\n",
    "params['rmin'] = params['rmin'].where(domain.mask == 1)\n",
    "params['wind_h'] = params['wind_h'].where(domain.mask == 1)\n",
    "params['RGL'] = params['RGL'].where(domain.mask == 1)\n",
    "params['rad_atten'] = params['rad_atten'].where(domain.mask == 1)\n",
    "params['wind_atten'] = params['wind_atten'].where(domain.mask == 1)\n",
    "params['max_snow_albedo'] = params['max_snow_albedo'].where(domain.mask == 1)\n",
    "params['root_depth'] = params['root_depth'].where(domain.mask == 1)\n",
    "params['root_fract'] = params['root_fract'].where(domain.mask == 1)\n",
    "params['albedo'] = params['albedo'].where(domain.mask == 1)\n",
    "params['LAI'] = params['LAI'].where(domain.mask == 1)\n",
    "params['overstory'] = params['overstory'].where(domain.mask == 1)\n",
    "params['displacement'] = params['displacement'].where(domain.mask == 1)\n",
    "params['veg_rough'] = params['veg_rough'].where(domain.mask == 1)\n",
    "params['elev'] = params['elev'].where(domain.mask == 1)\n",
    "params['avg_T'] = params['avg_T'].where(domain.mask == 1)\n",
    "params['annual_prec'] = params['annual_prec'].where(domain.mask == 1)\n",
    "params['rough'] = params['rough'].where(domain.mask == 1)\n",
    "params['organic'] = params['organic'].where(domain.mask == 1)\n",
    "params['soil_density_org'] = params['soil_density_org'].where(domain.mask == 1)"
   ]
  },
  {
   "cell_type": "code",
   "execution_count": 56,
   "metadata": {},
   "outputs": [],
   "source": [
    "max_moist = params['depth'] * porosity * 1000\n",
    "Wcr = params['Wcr_FRACT'] * max_moist\n",
    "Wpwp = params['Wpwp_FRACT'] * max_moist\n",
    "resid_moist_mm = params['resid_moist'] * params['depth'] * 1000"
   ]
  },
  {
   "cell_type": "code",
   "execution_count": 57,
   "metadata": {},
   "outputs": [],
   "source": [
    "if (Wcr.where(Wpwp > Wcr).sum()) > 0:\n",
    "    raise AssertionError(\"wilting point moisture is greater than critical point moisture\")"
   ]
  },
  {
   "cell_type": "code",
   "execution_count": 58,
   "metadata": {},
   "outputs": [],
   "source": [
    "if (params['resid_moist'].where(Wpwp < params['resid_moist']).sum()) > 0:\n",
    "    raise AssertionError(\"wilting point moisture is less than residual moisture\")"
   ]
  },
  {
   "cell_type": "code",
   "execution_count": 59,
   "metadata": {},
   "outputs": [],
   "source": [
    "# Wpwp_FRACT MUST be >= resid_moist / (1.0 - bulk_density/soil_density).\n",
    "if params['Wpwp_FRACT'].where(params['Wpwp_FRACT'] < params['resid_moist'] / porosity).sum() > 0:\n",
    "    raise AssertionError(\"wilting point moisture is less than residual moisture\")"
   ]
  },
  {
   "cell_type": "code",
   "execution_count": 60,
   "metadata": {},
   "outputs": [
    {
     "name": "stdout",
     "output_type": "stream",
     "text": [
      "saved new parameters to /u/home/gergel/data/parameters/new_vic5_params_20181001.nc\n"
     ]
    }
   ],
   "source": [
    "encoding_params = {'run_cell': {'dtype': 'int32', \"_FillValue\": fillval_i}, \n",
    "                   'gridcell': {'dtype': 'int32', \"_FillValue\": fillval_i}, \n",
    "                   'fs_active': {'dtype': 'int32', \"_FillValue\": fillval_i}, \n",
    "                   'Nveg': {'dtype': 'int32', \"_FillValue\": fillval_i},\n",
    "                   'overstory': {'dtype': 'int32', \"_FillValue\": fillval_i},\n",
    "                   'veg_class': {'dtype': 'int32'}}\n",
    "direc = '/u/home/gergel/data/parameters'\n",
    "\n",
    "if organic_fract: \n",
    "    new_params_file = os.path.join(direc, 'new_vic5_params_organic_fract_20180930.nc')\n",
    "else:\n",
    "    new_params_file = os.path.join(direc, 'new_vic5_params_20181001.nc')\n",
    "params.to_netcdf(new_params_file, format='NETCDF4_CLASSIC', encoding=encoding_params)\n",
    "\n",
    "if organic_fract:\n",
    "    print(\"Organic Fract is True, including soil_dens_org and organic_fract in parameters file\")\n",
    "    \n",
    "print(\"saved new parameters to %s\" %new_params_file)"
   ]
  },
  {
   "cell_type": "code",
   "execution_count": null,
   "metadata": {},
   "outputs": [],
   "source": []
  }
 ],
 "metadata": {
  "kernelspec": {
   "display_name": "Python 3",
   "language": "python",
   "name": "python3"
  },
  "language_info": {
   "codemirror_mode": {
    "name": "ipython",
    "version": 3
   },
   "file_extension": ".py",
   "mimetype": "text/x-python",
   "name": "python",
   "nbconvert_exporter": "python",
   "pygments_lexer": "ipython3",
   "version": "3.6.4"
  }
 },
 "nbformat": 4,
 "nbformat_minor": 2
}
