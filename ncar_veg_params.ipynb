{
 "cells": [
  {
   "cell_type": "code",
   "execution_count": 1,
   "metadata": {},
   "outputs": [],
   "source": [
    "%matplotlib inline\n",
    "import xarray as xr\n",
    "import os\n",
    "import numpy as np\n",
    "import matplotlib.pyplot as plt\n",
    "import collections\n",
    "import warnings \n",
    "from netCDF4 import default_fillvals\n",
    "\n",
    "# import veg functions\n",
    "from parameter_functions import (calculate_cv_pft, calculate_nveg_pfts, map_pft_to_nldas_class, is_overstory, \n",
    "                                 calc_root_fract, calc_root_depth_rz1, calc_root_depth_rz2)\n",
    "\n",
    "# define fillvals\n",
    "fillval_f = default_fillvals['f8']\n",
    "fillval_i = default_fillvals['i4']"
   ]
  },
  {
   "cell_type": "markdown",
   "metadata": {},
   "source": [
    "This is a notebook for deriving VIC 5 vegetation parameters for the NCAR RAL group, to be used for high-resolution simulations over Alaska. "
   ]
  },
  {
   "cell_type": "code",
   "execution_count": 2,
   "metadata": {},
   "outputs": [],
   "source": [
    "domain = xr.open_dataset(os.path.join('/u/home/gergel/data/parameters', \n",
    "                                      'alaska_vic_domain_ncar.nc'))\n",
    "\n",
    "old_params = xr.open_dataset(os.path.join('/u/home/gergel/data', \n",
    "                                          'vic_params_wr50a_vic5.0.dev_20160328.nc'))"
   ]
  },
  {
   "cell_type": "markdown",
   "metadata": {},
   "source": [
    "set size of matrices and indices "
   ]
  },
  {
   "cell_type": "code",
   "execution_count": 3,
   "metadata": {},
   "outputs": [],
   "source": [
    "masknan_vals = domain['mask'].where(domain['mask'] == 1).values\n",
    "nj = 209\n",
    "ni = 299\n",
    "num_veg = 17"
   ]
  },
  {
   "cell_type": "markdown",
   "metadata": {},
   "source": [
    "load CLM PFTs to use for vegetation parameters"
   ]
  },
  {
   "cell_type": "code",
   "execution_count": 4,
   "metadata": {},
   "outputs": [],
   "source": [
    "# load regridded PFTs \n",
    "pfts_data_dir = '/u/home/gergel/data/parameters/pfts/regridded_pfts'\n",
    "pfts_filename = 'mksrf_landuse_rc2000_c110913_ncar.nc'\n",
    "veg_data = xr.open_dataset(os.path.join(pfts_data_dir, pfts_filename))"
   ]
  },
  {
   "cell_type": "markdown",
   "metadata": {},
   "source": [
    "calculate Cv from PFTs"
   ]
  },
  {
   "cell_type": "code",
   "execution_count": 5,
   "metadata": {},
   "outputs": [],
   "source": [
    "cv = xr.apply_ufunc(calculate_cv_pft, \n",
    "                    veg_data['PCT_PFT'].where(domain.mask == 1),\n",
    "                    dask='allowed',\n",
    "                    vectorize=True)"
   ]
  },
  {
   "cell_type": "markdown",
   "metadata": {},
   "source": [
    "calculate number of active PFTs, `Nveg` "
   ]
  },
  {
   "cell_type": "code",
   "execution_count": 6,
   "metadata": {},
   "outputs": [],
   "source": [
    "Nveg = xr.apply_ufunc(calculate_nveg_pfts,\n",
    "                      veg_data['PCT_PFT'].where(domain.mask == 1),\n",
    "                      dask='allowed',\n",
    "                      input_core_dims=[['pft']],\n",
    "                      vectorize=True)"
   ]
  },
  {
   "cell_type": "markdown",
   "metadata": {},
   "source": [
    "import LAI and vegetation height, `MONTHLY_LAI` and `MONTHLY_HEIGHT_TOP`"
   ]
  },
  {
   "cell_type": "code",
   "execution_count": 7,
   "metadata": {},
   "outputs": [],
   "source": [
    "lai_file = xr.open_dataset(os.path.join('/u/home/gergel/data/parameters/lai/regridded_lai', \n",
    "                                   'mksrf_lai_78pfts_simyr2005.c170413_ncar_lai.nc'))\n",
    "veg_height_file = xr.open_dataset(os.path.join('/u/home/gergel/data/parameters/lai/regridded_lai', \n",
    "                                'mksrf_lai_78pfts_simyr2005.c170413_ncar_veg_height.nc'))"
   ]
  },
  {
   "cell_type": "markdown",
   "metadata": {},
   "source": [
    "LAI and veg_height from CLM and `PCT_PFT` from CLM have a different number of PFTs (`PCT_PFT` has one more PFT, 17 vs 16). The extra PFT in `PCT_PFT` has `PCT_PFT` = 0 over the entire RASM domain, so I just slice the LAI and veg_height from the 0th PFT (water/bare soil) and concatenate it for the 16th PFT. "
   ]
  },
  {
   "cell_type": "code",
   "execution_count": 8,
   "metadata": {},
   "outputs": [],
   "source": [
    "lai_slice = lai_file['MONTHLY_LAI'].isel(pft = 0)\n",
    "vegheight_slice = veg_height_file['MONTHLY_HEIGHT_TOP'].isel(pft=0)"
   ]
  },
  {
   "cell_type": "code",
   "execution_count": 9,
   "metadata": {},
   "outputs": [],
   "source": [
    "lai = xr.concat([lai_file['MONTHLY_LAI'], lai_slice], dim='pft')\n",
    "veg_height = xr.concat([veg_height_file['MONTHLY_HEIGHT_TOP'], vegheight_slice], dim='pft')"
   ]
  },
  {
   "cell_type": "markdown",
   "metadata": {},
   "source": [
    "`veg_rough` = 0.123 * `veg_height`\n",
    "\n",
    "`displacement` = 0.67 * `veg_height`"
   ]
  },
  {
   "cell_type": "code",
   "execution_count": 10,
   "metadata": {},
   "outputs": [],
   "source": [
    "veg_rough = 0.123 * veg_height\n",
    "displacement = 0.67 * veg_height\n",
    "\n",
    "# displacement.values[displacement.values == 0] = 1.0"
   ]
  },
  {
   "cell_type": "markdown",
   "metadata": {},
   "source": [
    "map albedo, root zone fraction and root zone depth based on vegetation type. see `deriving_new_parameters_v2.xlsx` sheet titled `PFT-NLDAS Mapping` for mapping between NLDAS vegetation classes (used in old VIC 5 parameters) and CLM PFTs. This mapping is based on obvious relationships and some approximations (used for PFTs 8-11)."
   ]
  },
  {
   "cell_type": "markdown",
   "metadata": {},
   "source": [
    "get albedo values from VIC 5 parameters for NLDAS classes, map to CLM PFTs"
   ]
  },
  {
   "cell_type": "markdown",
   "metadata": {},
   "source": [
    "create array that is the size of (nj, ni, pft, root_zone) to operate on"
   ]
  },
  {
   "cell_type": "code",
   "execution_count": 11,
   "metadata": {},
   "outputs": [],
   "source": [
    "arr_months = np.rollaxis(np.dstack((masknan_vals, masknan_vals, masknan_vals, masknan_vals, \n",
    "                                    masknan_vals, masknan_vals, masknan_vals, masknan_vals, \n",
    "                                    masknan_vals, masknan_vals, masknan_vals, masknan_vals)), \n",
    "                        axis=2)\n",
    "arr_nlayer = np.rollaxis(np.dstack((masknan_vals, masknan_vals, masknan_vals)), \n",
    "                        axis=2)\n",
    "\n",
    "arr_rootzone = np.rollaxis(np.dstack((masknan_vals, masknan_vals)), \n",
    "                        axis=2)\n",
    "\n",
    "arr_veg_classes = np.rollaxis(np.dstack((masknan_vals, masknan_vals, masknan_vals, masknan_vals, \n",
    "                                         masknan_vals, masknan_vals, masknan_vals, masknan_vals, \n",
    "                                         masknan_vals, masknan_vals, masknan_vals, masknan_vals, \n",
    "                                         masknan_vals, masknan_vals, masknan_vals, masknan_vals, \n",
    "                                         masknan_vals)), \n",
    "                              axis=2)\n",
    "arr_veg_classes_rootzone = np.vstack((arr_rootzone, arr_rootzone, arr_rootzone, arr_rootzone, \n",
    "                                      arr_rootzone, arr_rootzone, arr_rootzone, arr_rootzone, \n",
    "                                      arr_rootzone, arr_rootzone, arr_rootzone, arr_rootzone, \n",
    "                                      arr_rootzone, arr_rootzone, arr_rootzone,\n",
    "                                      arr_rootzone, arr_rootzone)).reshape(num_veg, 2, nj, ni)\n",
    "arr_veg_classes_month = np.vstack((arr_months, arr_months, arr_months, arr_months, arr_months, \n",
    "                                   arr_months, arr_months, arr_months, arr_months, arr_months, \n",
    "                                   arr_months, arr_months, arr_months, arr_months, arr_months, \n",
    "                                   arr_months, arr_months,)).reshape(num_veg, 12, nj, ni)"
   ]
  },
  {
   "cell_type": "markdown",
   "metadata": {},
   "source": [
    "change dims and order of dims of LAI array"
   ]
  },
  {
   "cell_type": "code",
   "execution_count": 12,
   "metadata": {},
   "outputs": [],
   "source": [
    "lai = lai.rename({'time': 'month', 'pft': 'veg_class'})\n",
    "lai = lai.transpose('veg_class', 'month', 'nj', 'ni')\n",
    "\n",
    "veg_rough = veg_rough.rename({'time': 'month', 'pft': 'veg_class'})\n",
    "veg_rough = veg_rough.transpose('veg_class', 'month', 'nj', 'ni')\n",
    "\n",
    "displacement = displacement.rename({'time': 'month', 'pft': 'veg_class'})\n",
    "displacement = displacement.transpose('veg_class', 'month', 'nj', 'ni')"
   ]
  },
  {
   "cell_type": "markdown",
   "metadata": {},
   "source": [
    "create Dataset for variables and define data_vars "
   ]
  },
  {
   "cell_type": "code",
   "execution_count": 13,
   "metadata": {},
   "outputs": [],
   "source": [
    "params = xr.Dataset()\n",
    "\n",
    "# assign veg class indexing\n",
    "params['veg_class'] = xr.DataArray(np.arange(1, 18), dims='veg_class', \n",
    "                                   attrs={'long_name': \"vegetation class\"})\n",
    "params['nlayer'] = xr.DataArray(np.arange(0, 3), dims='nlayer')\n",
    "\n",
    "params['Cv'] = xr.DataArray(cv,\n",
    "                                 dims=('veg_class','nj', 'ni'),\n",
    "                                 coords={'xc': domain.xc, 'yc': domain.yc},\n",
    "                                 attrs={'description': \"Fraction of grid cell covered by vegetation tile\",\n",
    "                                        'units': \"fraction\", 'long_name': \"Cv\"},\n",
    "                                 encoding={\"_FillValue\": fillval_f,\n",
    "                                               \"Coordinates\": \"xc yc\"})\n",
    "\n",
    "params['Nveg'] = xr.DataArray(Nveg,\n",
    "                                   dims=('nj', 'ni'),\n",
    "                                   coords={'xc': domain.xc, 'yc': domain.yc},\n",
    "                                   attrs={'description': \"Number of vegetation tiles in the grid cell\", \n",
    "                                          'units': \"N/A\", 'long_name': \"Nveg\"},\n",
    "                                   encoding={\"_FillValue\": fillval_i,\n",
    "                                               \"Coordinates\": \"xc yc\", 'dtype': 'int32'})\n",
    "\n",
    "params['trunk_ratio'] = xr.DataArray(arr_veg_classes,\n",
    "                                 dims=('veg_class','nj', 'ni'),\n",
    "                                 coords={'xc': domain.xc, 'yc': domain.yc},\n",
    "                                 attrs={'description': \"Ratio of total tree height that is trunk \\\n",
    "                                 (no branches) \\\n",
    "                                        The default value has been 0.2\",\n",
    "                                 'units': \"fraction\", 'long_name': \"Cv\"},\n",
    "                                 encoding={\"_FillValue\": fillval_f,\n",
    "                                               \"Coordinates\": \"xc yc\"})\n",
    "params['rarc'] = xr.DataArray(arr_veg_classes,\n",
    "                                 dims=('veg_class','nj', 'ni'),\n",
    "                                 coords={'xc': domain.xc, 'yc': domain.yc},\n",
    "                                 attrs={'description': \"Architectural resistance of vegetation type \\(~2 s/m)\",\n",
    "                                        'units': \"s/m\", 'long_name': \"rarc\"},\n",
    "                                 encoding={\"_FillValue\": fillval_f,\n",
    "                                               \"Coordinates\": \"xc yc\"})\n",
    "\n",
    "params['rmin'] = xr.DataArray(np.copy(arr_veg_classes),\n",
    "                                 dims=('veg_class','nj', 'ni'),\n",
    "                                 coords={'xc': domain.xc, 'yc': domain.yc},\n",
    "                                 attrs={'description': \"Minimum stomatal resistance of vegetation type (~100 s/m)\"},\n",
    "                                 encoding={\"_FillValue\": fillval_f,\n",
    "                                               \"Coordinates\": \"xc yc\"})\n",
    "params['wind_h'] = xr.DataArray(np.copy(arr_veg_classes),\n",
    "                                 dims=('veg_class','nj', 'ni'),\n",
    "                                 coords={'xc': domain.xc, 'yc': domain.yc},\n",
    "                                 attrs={'description': \"Height at which wind speed is measured\",\n",
    "                                        'units': \"m\", 'long_name': \"wind_h\"},\n",
    "                                 encoding={\"_FillValue\": fillval_f,\n",
    "                                               \"Coordinates\": \"xc yc\"})\n",
    "\n",
    "params['RGL'] = xr.DataArray(np.copy(arr_veg_classes),\n",
    "                                 dims=('veg_class','nj', 'ni'),\n",
    "                                 coords={'xc': domain.xc, 'yc': domain.yc},\n",
    "                                 attrs={'description': \"Minimum incoming shortwave radiation at which there will be \\\n",
    "                                        transpiration. For trees this is about 30 W/m^2, for crops about 100 W/m^2\",\n",
    "                                        'units': \"W/m^2\", 'long_name': \"RGL\"},\n",
    "                                 encoding={\"_FillValue\": fillval_f,\n",
    "                                               \"Coordinates\": \"xc yc\"})\n",
    "\n",
    "params['rad_atten'] = xr.DataArray(arr_veg_classes,\n",
    "                                 dims=('veg_class','nj', 'ni'),\n",
    "                                 coords={'xc': domain.xc, 'yc': domain.yc},\n",
    "                                 attrs={'description': \"Radiation attenuation factor. Normally set to 0.5, though may \\\n",
    "                                        need to be adjusted for high latitudes\",\n",
    "                                        'units': \"fraction\", 'long_name': \"rad_atten\"},\n",
    "                                 encoding={\"_FillValue\": fillval_f,\n",
    "                                               \"Coordinates\": \"xc yc\"})\n",
    "\n",
    "params['wind_atten'] = xr.DataArray(arr_veg_classes,\n",
    "                                 dims=('veg_class','nj', 'ni'),\n",
    "                                 coords={'xc': domain.xc, 'yc': domain.yc},\n",
    "                                 attrs={'description': \"Wind speed attenuation through the overstory. The default value \\\n",
    "                                        has been 0.5\",\n",
    "                                        'units': \"fraction\", 'long_name': \"wind_atten\"},\n",
    "                                 encoding={\"_FillValue\": fillval_f,\n",
    "                                               \"Coordinates\": \"xc yc\"})\n",
    "params['albedo'] = xr.DataArray(arr_veg_classes_month,\n",
    "                                         dims=('veg_class','month','nj', 'ni'),\n",
    "                                         coords={'xc': domain.xc, 'yc': domain.yc},\n",
    "                                         attrs={'description': \"Shortwave albedo for vegetation type\",\n",
    "                                                'units': \"fraction\", 'long_name': \"albedo\"},\n",
    "                                         encoding={\"_FillValue\": fillval_f,\n",
    "                                               \"Coordinates\": \"xc yc\"})\n",
    "\n",
    "params['LAI'] = xr.DataArray(lai.values.reshape(num_veg, 12, nj, ni),\n",
    "                                 dims=('veg_class','month','nj', 'ni'),\n",
    "                                 coords={'xc': domain.xc, 'yc': domain.yc, 'month': old_params.month},\n",
    "                                 attrs={'description': \"Leaf Area Index, one per month\",\n",
    "                                        'units': \"N/A\", 'long_name': \"LAI\"},\n",
    "                                 encoding={\"_FillValue\": fillval_f,\n",
    "                                               \"Coordinates\": \"xc yc\"})\n",
    "params['overstory'] = xr.DataArray(np.copy(arr_veg_classes),\n",
    "                                 dims=('veg_class','nj', 'ni'),\n",
    "                                 coords={'xc': domain.xc, 'yc': domain.yc},\n",
    "                                 attrs={'description': \"Flag to indicate whether or not the current vegetation type \\\n",
    "                                        has an overstory (TRUE for overstory present (e.g. trees), FALSE for \\\n",
    "                                        overstory not present (e.g. grass))\",\n",
    "                                        'units': \"N/A\", 'long_name': \"overstory\"},\n",
    "                                 encoding={\"_FillValue\": fillval_i,\n",
    "                                               \"Coordinates\": \"xc yc\", 'dtype': 'int32'})\n",
    "params['displacement'] = xr.DataArray(displacement.values.reshape(num_veg, 12, nj, ni), \n",
    "                                         dims=('veg_class','month','nj', 'ni'),\n",
    "                                         coords={'month': old_params['month'], 'xc': domain.xc, \n",
    "                                                 'yc': domain.yc},\n",
    "                                         attrs={'description': \"Vegetation displacement height (typically 0.67 \\\n",
    "                                                * vegetation height)\",\n",
    "                                                'units': \"m\", 'long_name': \"displacement\"},\n",
    "                                         encoding={\"_FillValue\": fillval_f,\n",
    "                                               \"Coordinates\": \"xc yc\"})\n",
    "params['veg_rough'] = xr.DataArray(veg_rough.values.reshape(num_veg, 12, nj, ni),\n",
    "                                         dims=('veg_class','month','nj', 'ni'),\n",
    "                                         coords={'xc': domain.xc, 'yc': domain.yc},\n",
    "                                         attrs={'description': \"Vegetation roughness length (typically 0.123 \\\n",
    "                                                * vegetation height)\",\n",
    "                                                'units': \"m\", 'long_name': \"veg_rough\"},\n",
    "                                         encoding={\"_FillValue\": fillval_f,\n",
    "                                               \"Coordinates\": \"xc yc\"})"
   ]
  },
  {
   "cell_type": "markdown",
   "metadata": {},
   "source": [
    "define `trunk_ratio`, `rarc`, `rmin`, `wind_h`, `RGL`, `rad_atten`, `wind_atten`, `overstory`"
   ]
  },
  {
   "cell_type": "code",
   "execution_count": 14,
   "metadata": {},
   "outputs": [],
   "source": [
    "# trunk ratio, rarc, rad_atten\n",
    "trunk_ratio = np.copy(arr_veg_classes)\n",
    "params['trunk_ratio'].values = trunk_ratio * 0.2\n",
    "# adjust for bare soil \n",
    "params['trunk_ratio'].values[0, :, :] = 0.0\n",
    "\n",
    "rarc = np.copy(arr_veg_classes)\n",
    "params['rarc'].values = rarc * 60\n",
    "# adjust for bare soil\n",
    "params['rarc'].values[0, :, :] = 100\n",
    "\n",
    "rad_atten = np.copy(arr_veg_classes)\n",
    "params['rad_atten'].values = rad_atten * 0.5\n",
    "# adjust for bare soil \n",
    "params['rad_atten'].values[0, :, :] = 0.0\n",
    "\n",
    "wind_atten = np.copy(arr_veg_classes)\n",
    "params['wind_atten'].values = wind_atten * 0.5\n",
    "# adjust for bare soil \n",
    "params['wind_atten'].values[0, :, :] = 0.0"
   ]
  },
  {
   "cell_type": "code",
   "execution_count": 15,
   "metadata": {},
   "outputs": [],
   "source": [
    "# overstory\n",
    "for pft in veg_data.pft.values:\n",
    "    nldas = map_pft_to_nldas_class(pft)\n",
    "    if nldas > 6:\n",
    "        # no overstory\n",
    "        overstory = 0\n",
    "    else: \n",
    "        overstory = 1\n",
    "    params['overstory'].values[pft, :, :] = np.ones((1, nj, ni)) * overstory"
   ]
  },
  {
   "cell_type": "markdown",
   "metadata": {},
   "source": [
    "root fraction and root depth "
   ]
  },
  {
   "cell_type": "code",
   "execution_count": 16,
   "metadata": {},
   "outputs": [],
   "source": [
    "root_depth_rz1 = xr.apply_ufunc(calc_root_depth_rz1,\n",
    "                           params['Cv'].where(domain.mask == 1), \n",
    "                           dask='allowed',\n",
    "                           vectorize=True)\n",
    "root_depth_rz2 = xr.apply_ufunc(calc_root_depth_rz2,\n",
    "                           params['Cv'].where(domain.mask == 1), \n",
    "                           dask='allowed',\n",
    "                           vectorize=True)\n",
    "root_depth = xr.concat([root_depth_rz1, root_depth_rz2],\n",
    "                      dim='root_zone').transpose('veg_class', 'root_zone', 'nj', 'ni')"
   ]
  },
  {
   "cell_type": "code",
   "execution_count": 17,
   "metadata": {},
   "outputs": [],
   "source": [
    "# root fract \n",
    "\n",
    "rz = 0\n",
    "for pft in veg_data.pft.values:\n",
    "    if pft == 0:\n",
    "        root_fract_rz1 = xr.apply_ufunc(calc_root_fract,\n",
    "                                        params['Cv'].isel(veg_class=pft),\n",
    "                                        str(pft),\n",
    "                                        str(rz),\n",
    "                                        dask='allowed',\n",
    "                                        vectorize=True)\n",
    "    else: \n",
    "        root_fract_rz1 = xr.concat([root_fract_rz1, xr.apply_ufunc(calc_root_fract,\n",
    "                                                                   params['Cv'].isel(veg_class=pft),\n",
    "                                                                   str(pft),\n",
    "                                                                   str(rz),\n",
    "                                                                   dask='allowed',\n",
    "                                                                   vectorize=True)],\n",
    "                                  dim='veg_class')\n",
    "rz = 1\n",
    "for pft in veg_data.pft.values:\n",
    "    if pft == 0:\n",
    "        root_fract_rz2 = xr.apply_ufunc(calc_root_fract,\n",
    "                                        params['Cv'].isel(veg_class=pft), \n",
    "                                        str(pft),\n",
    "                                        str(rz),\n",
    "                                        dask='allowed',\n",
    "                                        vectorize=True)\n",
    "    else: \n",
    "        root_fract_rz2 = xr.concat([root_fract_rz2, xr.apply_ufunc(calc_root_fract,\n",
    "                                                                   params['Cv'].isel(veg_class=pft), \n",
    "                                                                   str(pft),\n",
    "                                                                   str(rz),\n",
    "                                                                   dask='allowed',\n",
    "                                                                   vectorize=True)],\n",
    "                                  dim='veg_class')\n",
    "        \n",
    "root_fract = xr.concat([root_fract_rz1, root_fract_rz2], dim='root_zone').transpose('veg_class', 'root_zone', 'nj', 'ni')"
   ]
  },
  {
   "cell_type": "code",
   "execution_count": 18,
   "metadata": {},
   "outputs": [],
   "source": [
    "params['root_depth'] = xr.DataArray(root_depth,\n",
    "                                         dims=('veg_class','root_zone','nj', 'ni'),\n",
    "                                         coords={'xc': domain.xc, 'yc': domain.yc},\n",
    "                                         attrs={'description': \"Root zone thickness (sum of depths is total depth of \\\n",
    "                                                 root penetration)\",\n",
    "                                                'units': \"m\", 'long_name': \"root_depth\"},\n",
    "                                         encoding={\"_FillValue\": fillval_f,\n",
    "                                               \"Coordinates\": \"xc yc\"})\n",
    "params['root_fract'] = xr.DataArray(root_fract,\n",
    "                                         dims=('veg_class','root_zone','nj', 'ni'),\n",
    "                                         coords={'xc': domain.xc, 'yc': domain.yc},\n",
    "                                         attrs={'description': \"Fraction of root in the current root zone\",\n",
    "                                                'units': \"fraction\", 'long_name': \"root_fract\"},\n",
    "                                         encoding={\"_FillValue\": fillval_f,\n",
    "                                               \"Coordinates\": \"xc yc\"})"
   ]
  },
  {
   "cell_type": "code",
   "execution_count": 19,
   "metadata": {},
   "outputs": [],
   "source": [
    "albedo_array = np.copy(arr_veg_classes_month)\n",
    "for pft in veg_data.pft.values:\n",
    "    for month in old_params.month.values: \n",
    "        nldas = map_pft_to_nldas_class(pft)\n",
    "        albedo = np.asscalar(old_params.albedo.isel(veg_class=nldas).isel(month=month-1).mean())\n",
    "        params['albedo'].values[pft, month - 1, :, :] = albedo_array[pft, month - 1, :, :] * albedo"
   ]
  },
  {
   "cell_type": "code",
   "execution_count": 20,
   "metadata": {},
   "outputs": [],
   "source": [
    "# rmin, wind_h\n",
    "rmin_array = np.copy(arr_veg_classes)\n",
    "wind_h_array = np.copy(arr_veg_classes)\n",
    "for pft in veg_data.pft.values:\n",
    "    # get nldas mapping from pft\n",
    "    nldas = map_pft_to_nldas_class(pft)\n",
    "    if nldas >= 0 and nldas <= 3:\n",
    "        rmin = np.asscalar(old_params.rmin.isel(veg_class=0).mean())\n",
    "        wind_h = np.asscalar(old_params.wind_h.isel(veg_class=0).mean())\n",
    "    elif nldas == 4:\n",
    "        rmin = np.asscalar(old_params.rmin.isel(veg_class=4).mean())\n",
    "        wind_h = np.asscalar(old_params.wind_h.isel(veg_class=4).mean())\n",
    "    elif nldas >= 5 and nldas <= 6:\n",
    "        rmin = np.asscalar(old_params.rmin.isel(veg_class=5).mean())\n",
    "        wind_h = np.asscalar(old_params.wind_h.isel(veg_class=5).mean())\n",
    "    elif nldas >= 7 and nldas <= 8:\n",
    "        rmin = np.asscalar(old_params.rmin.isel(veg_class=7).mean())\n",
    "        wind_h = np.asscalar(old_params.wind_h.isel(veg_class=7).mean())\n",
    "    elif nldas == 9:\n",
    "        rmin = np.asscalar(old_params.rmin.isel(veg_class=9).mean())\n",
    "        wind_h = np.asscalar(old_params.wind_h.isel(veg_class=9).mean())\n",
    "    elif nldas == 10:\n",
    "        rmin = np.asscalar(old_params.rmin.isel(veg_class=10).mean())\n",
    "        wind_h = np.asscalar(old_params.wind_h.isel(veg_class=10).mean())\n",
    "    elif nldas == 11:\n",
    "        rmin = np.asscalar(old_params.rmin.isel(veg_class=11).mean())\n",
    "        wind_h = np.asscalar(old_params.wind_h.isel(veg_class=11).mean())\n",
    "    params['rmin'].values[pft, :, :] = rmin_array[pft, :, :] * rmin\n",
    "    params['wind_h'].values[pft, :, :] = wind_h_array[pft, :, :] * wind_h"
   ]
  },
  {
   "cell_type": "code",
   "execution_count": 21,
   "metadata": {},
   "outputs": [],
   "source": [
    "# RGL\n",
    "for pft in veg_data.pft.values:\n",
    "    # get nldas mapping from pft\n",
    "    nldas = map_pft_to_nldas_class(pft)\n",
    "    if nldas >= 0 and nldas <= 3:\n",
    "        rgl = np.asscalar(old_params.wind_h.isel(veg_class=0).mean())\n",
    "    elif nldas >= 4 and nldas <= 5:\n",
    "        rgl = np.asscalar(old_params.wind_h.isel(veg_class=4).mean())\n",
    "    elif nldas >= 6 and nldas <= 8:\n",
    "        rgl = np.asscalar(old_params.wind_h.isel(veg_class=6).mean())\n",
    "    elif nldas >= 9 and nldas <= 10:\n",
    "        rgl = np.asscalar(old_params.wind_h.isel(veg_class=9).mean())\n",
    "    elif nldas == 11:\n",
    "        rgl = np.asscalar(old_params.wind_h.isel(veg_class=11).mean())\n",
    "    params['RGL'].values[pft, :, :] = np.ones((1, 209, 299)) * rgl"
   ]
  },
  {
   "cell_type": "code",
   "execution_count": 22,
   "metadata": {},
   "outputs": [],
   "source": [
    "veg_class_vars = ['Cv', 'trunk_ratio', 'rarc', 'rmin', 'wind_h', 'RGL', 'rad_atten',\n",
    "                  'wind_atten', 'albedo', 'LAI', 'overstory',\n",
    "                  'root_depth', 'root_fract', 'displacement', 'veg_rough']\n",
    "\n",
    "for veg_class_var in veg_class_vars: \n",
    "    if ((veg_class_var == \"LAI\") or (veg_class_var == \"albedo\") or (veg_class_var == \"root_depth\") \n",
    "    or (veg_class_var == \"root_fract\") or (veg_class_var == \"veg_rough\") or \n",
    "        (veg_class_var == \"displacement\")):\n",
    "        bare = np.copy(params[veg_class_var].isel(veg_class=0))\n",
    "        last = np.copy(params[veg_class_var].isel(veg_class=16))\n",
    "        params[veg_class_var].values[0, :, :, :] = last\n",
    "        params[veg_class_var].values[16, :, :, :] = bare\n",
    "    else:\n",
    "        bare = np.copy(params[veg_class_var].isel(veg_class=0))\n",
    "        last = np.copy(params[veg_class_var].isel(veg_class=16))\n",
    "        params[veg_class_var].values[0, :, :] = last\n",
    "        params[veg_class_var].values[16, :, :] = bare\n",
    "\n",
    "params['root_fract'].values[16, :, :, :] = 0\n",
    "params['root_depth'].values[16, :, :, :] = 0\n",
    "params['displacement'].values[16, :, :, :] = 0\n",
    "params['veg_rough'].values[16, :, :, :] = 0\n",
    "params['overstory'].values[:, :, :] = 0"
   ]
  },
  {
   "cell_type": "code",
   "execution_count": 23,
   "metadata": {},
   "outputs": [],
   "source": [
    "# adjust data vars that need adjusting \n",
    "params['Nveg'].values = params['Nveg'].where(domain.mask == 1)\n",
    "params['trunk_ratio'] = params['trunk_ratio'].where(domain.mask == 1)\n",
    "params['rarc'] = params['rarc'].where(domain.mask == 1)\n",
    "params['rmin'] = params['rmin'].where(domain.mask == 1)\n",
    "params['wind_h'] = params['wind_h'].where(domain.mask == 1)\n",
    "params['RGL'] = params['RGL'].where(domain.mask == 1)\n",
    "params['rad_atten'] = params['rad_atten'].where(domain.mask == 1)\n",
    "params['wind_atten'] = params['wind_atten'].where(domain.mask == 1)\n",
    "params['root_depth'] = params['root_depth'].where(domain.mask == 1)\n",
    "params['root_fract'] = params['root_fract'].where(domain.mask == 1)\n",
    "params['albedo'] = params['albedo'].where(domain.mask == 1)\n",
    "params['LAI'] = params['LAI'].where(domain.mask == 1)\n",
    "params['overstory'] = params['overstory'].where(domain.mask == 1)\n",
    "params['displacement'] = params['displacement'].where(domain.mask == 1)\n",
    "params['veg_rough'] = params['veg_rough'].where(domain.mask == 1)"
   ]
  },
  {
   "cell_type": "code",
   "execution_count": 24,
   "metadata": {},
   "outputs": [],
   "source": [
    "encoding_params = {'Nveg': {'dtype': 'int32', \"_FillValue\": fillval_i},\n",
    "                   'overstory': {'dtype': 'int32', \"_FillValue\": fillval_i}}\n",
    "direc = '/u/home/gergel/data/parameters'\n",
    "new_params_file = os.path.join(direc, 'veg_params_12km_alaska_20181002.nc')\n",
    "params.to_netcdf(new_params_file, format='NETCDF4_CLASSIC', encoding=encoding_params)"
   ]
  },
  {
   "cell_type": "code",
   "execution_count": null,
   "metadata": {},
   "outputs": [],
   "source": []
  }
 ],
 "metadata": {
  "kernelspec": {
   "display_name": "Python 3",
   "language": "python",
   "name": "python3"
  },
  "language_info": {
   "codemirror_mode": {
    "name": "ipython",
    "version": 3
   },
   "file_extension": ".py",
   "mimetype": "text/x-python",
   "name": "python",
   "nbconvert_exporter": "python",
   "pygments_lexer": "ipython3",
   "version": "3.6.4"
  }
 },
 "nbformat": 4,
 "nbformat_minor": 2
}
