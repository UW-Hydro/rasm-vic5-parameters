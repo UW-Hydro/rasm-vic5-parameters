{
 "cells": [
  {
   "cell_type": "code",
   "execution_count": 3,
   "metadata": {},
   "outputs": [],
   "source": [
    "%matplotlib inline\n",
    "import xarray as xr\n",
    "import os\n",
    "import numpy as np\n",
    "import matplotlib.pyplot as plt\n",
    "import collections\n",
    "import warnings "
   ]
  },
  {
   "cell_type": "code",
   "execution_count": 4,
   "metadata": {},
   "outputs": [],
   "source": [
    "domain = xr.open_dataset(os.path.join('/u/home/gergel/data/parameters', \n",
    "                                      'alaska_vic_domain_ncar.nc'))"
   ]
  },
  {
   "cell_type": "code",
   "execution_count": 5,
   "metadata": {},
   "outputs": [
    {
     "name": "stdout",
     "output_type": "stream",
     "text": [
      "(209, 299)\n"
     ]
    },
    {
     "data": {
      "image/png": "[encoded data removed]",
      "text/plain": [
       "<Figure size 432x288 with 2 Axes>"
      ]
     },
     "metadata": {},
     "output_type": "display_data"
    }
   ],
   "source": [
    "domain.mask.plot()\n",
    "print(domain.mask.shape)"
   ]
  },
  {
   "cell_type": "code",
   "execution_count": 7,
   "metadata": {},
   "outputs": [],
   "source": [
    "root_depth_file = xr.open_mfdataset(os.path.join('/u/home/gergel/data/parameters/vars_4d', \n",
    "                                                 'root_depth*'),\n",
    "                                            concat_dim='root_zone', \n",
    "                                            data_vars='all', \n",
    "                                            coords='all')"
   ]
  },
  {
   "cell_type": "code",
   "execution_count": 8,
   "metadata": {},
   "outputs": [],
   "source": [
    "root_depth = xr.concat([root_depth_file['root_depth'].isel(veg_class=11),\n",
    "                             root_depth_file['root_depth'].isel(veg_class=0),\n",
    "                             root_depth_file['root_depth'].isel(veg_class=0),\n",
    "                             root_depth_file['root_depth'].isel(veg_class=1),\n",
    "                             root_depth_file['root_depth'].isel(veg_class=2),\n",
    "                             root_depth_file['root_depth'].isel(veg_class=2),\n",
    "                             root_depth_file['root_depth'].isel(veg_class=3),\n",
    "                             root_depth_file['root_depth'].isel(veg_class=3),\n",
    "                             root_depth_file['root_depth'].isel(veg_class=3),\n",
    "                             root_depth_file['root_depth'].isel(veg_class=8),\n",
    "                             root_depth_file['root_depth'].isel(veg_class=8),\n",
    "                             root_depth_file['root_depth'].isel(veg_class=8),\n",
    "                             root_depth_file['root_depth'].isel(veg_class=9),\n",
    "                             root_depth_file['root_depth'].isel(veg_class=9),\n",
    "                             root_depth_file['root_depth'].isel(veg_class=9),\n",
    "                             root_depth_file['root_depth'].isel(veg_class=10),\n",
    "                             root_depth_file['root_depth'].isel(veg_class=2)], \n",
    "                            dim='veg_class')"
   ]
  },
  {
   "cell_type": "code",
   "execution_count": 9,
   "metadata": {},
   "outputs": [],
   "source": [
    "root_fract_file = xr.open_mfdataset(os.path.join('/u/home/gergel/data/parameters/vars_4d', \n",
    "                                                 'root_fract*'),\n",
    "                                            concat_dim='root_zone', \n",
    "                                            data_vars='all', \n",
    "                                            coords='all')"
   ]
  },
  {
   "cell_type": "code",
   "execution_count": 10,
   "metadata": {},
   "outputs": [],
   "source": [
    "var = \"root_fract\"\n",
    "root_fract = xr.concat([root_fract_file[var].isel(veg_class=11),\n",
    "                             root_fract_file[var].isel(veg_class=0),\n",
    "                             root_fract_file[var].isel(veg_class=0),\n",
    "                             root_fract_file[var].isel(veg_class=1),\n",
    "                             root_fract_file[var].isel(veg_class=2),\n",
    "                             root_fract_file[var].isel(veg_class=2),\n",
    "                             root_fract_file[var].isel(veg_class=3),\n",
    "                             root_fract_file[var].isel(veg_class=3),\n",
    "                             root_fract_file[var].isel(veg_class=3),\n",
    "                             root_fract_file[var].isel(veg_class=8),\n",
    "                             root_fract_file[var].isel(veg_class=8),\n",
    "                             root_fract_file[var].isel(veg_class=8),\n",
    "                             root_fract_file[var].isel(veg_class=9),\n",
    "                             root_fract_file[var].isel(veg_class=9),\n",
    "                             root_fract_file[var].isel(veg_class=9),\n",
    "                             root_fract_file[var].isel(veg_class=10),\n",
    "                             root_fract_file[var].isel(veg_class=2)], \n",
    "                            dim='veg_class')"
   ]
  },
  {
   "cell_type": "code",
   "execution_count": 11,
   "metadata": {},
   "outputs": [],
   "source": [
    "albedo_file = xr.open_mfdataset(os.path.join('/u/home/gergel/data/parameters/vars_4d', \n",
    "                                                 'albedo*'),\n",
    "                                            concat_dim='month', \n",
    "                                            data_vars='all', \n",
    "                                            coords='all')"
   ]
  },
  {
   "cell_type": "code",
   "execution_count": 12,
   "metadata": {},
   "outputs": [],
   "source": [
    "var = \"albedo\"\n",
    "albedo = xr.concat([albedo_file[var].isel(veg_class=11),\n",
    "                             albedo_file[var].isel(veg_class=0),\n",
    "                             albedo_file[var].isel(veg_class=0),\n",
    "                             albedo_file[var].isel(veg_class=1),\n",
    "                             albedo_file[var].isel(veg_class=2),\n",
    "                             albedo_file[var].isel(veg_class=2),\n",
    "                             albedo_file[var].isel(veg_class=3),\n",
    "                             albedo_file[var].isel(veg_class=3),\n",
    "                             albedo_file[var].isel(veg_class=3),\n",
    "                             albedo_file[var].isel(veg_class=8),\n",
    "                             albedo_file[var].isel(veg_class=8),\n",
    "                             albedo_file[var].isel(veg_class=8),\n",
    "                             albedo_file[var].isel(veg_class=9),\n",
    "                             albedo_file[var].isel(veg_class=9),\n",
    "                             albedo_file[var].isel(veg_class=9),\n",
    "                             albedo_file[var].isel(veg_class=10),\n",
    "                             albedo_file[var].isel(veg_class=2)], \n",
    "                            dim='veg_class')"
   ]
  },
  {
   "cell_type": "code",
   "execution_count": 13,
   "metadata": {},
   "outputs": [],
   "source": [
    "# load regridded PFTs \n",
    "pfts_data_dir = '/u/home/gergel/data/parameters/pfts/regridded_pfts'\n",
    "pfts_filename = 'mksrf_landuse_rc2000_c110913_ncar.nc'\n",
    "veg_data = xr.open_dataset(os.path.join(pfts_data_dir, pfts_filename))"
   ]
  },
  {
   "cell_type": "code",
   "execution_count": 14,
   "metadata": {},
   "outputs": [],
   "source": [
    "def calculate_cv_pft(gridcell_pft):\n",
    "    '''\n",
    "    takes a percent PFT for a gridcell and returns the fraction of gridcell coverage for that PFT\n",
    "    '''\n",
    "    \n",
    "    return(gridcell_pft / 100.0)"
   ]
  },
  {
   "cell_type": "code",
   "execution_count": 15,
   "metadata": {},
   "outputs": [],
   "source": [
    "cv = xr.apply_ufunc(calculate_cv_pft, \n",
    "                    veg_data['PCT_PFT'].where(domain.mask == 1),\n",
    "                    dask='allowed',\n",
    "                    vectorize=True)"
   ]
  },
  {
   "cell_type": "code",
   "execution_count": 16,
   "metadata": {},
   "outputs": [],
   "source": [
    "def calculate_nveg_pfts(gridcell_pfts):\n",
    "    '''\n",
    "    takes in the 17 PFTs for a gridcell and returns the number of active veg types for that gridcell,\n",
    "    e.g. the number of PCT_PFTs that is greater than 0\n",
    "    '''\n",
    "    return(np.count_nonzero(gridcell_pfts))"
   ]
  },
  {
   "cell_type": "code",
   "execution_count": 17,
   "metadata": {},
   "outputs": [],
   "source": [
    "Nveg = xr.apply_ufunc(calculate_nveg_pfts,\n",
    "                      veg_data['PCT_PFT'].where(domain.mask == 1),\n",
    "                      dask='allowed',\n",
    "                      input_core_dims=[['pft']],\n",
    "                      vectorize=True)"
   ]
  },
  {
   "cell_type": "code",
   "execution_count": 18,
   "metadata": {},
   "outputs": [],
   "source": [
    "lai_file = xr.open_dataset(os.path.join('/u/home/gergel/data/parameters/lai/regridded_lai', \n",
    "                                   'mksrf_lai_78pfts_simyr2005.c170413_ncar_lai.nc'))\n",
    "veg_height_file = xr.open_dataset(os.path.join('/u/home/gergel/data/parameters/lai/regridded_lai', \n",
    "                                'mksrf_lai_78pfts_simyr2005.c170413_ncar_veg_height.nc'))"
   ]
  },
  {
   "cell_type": "code",
   "execution_count": 19,
   "metadata": {},
   "outputs": [],
   "source": [
    "lai_slice = lai_file['MONTHLY_LAI'].isel(pft = 0)\n",
    "vegheight_slice = veg_height_file['MONTHLY_HEIGHT_TOP'].isel(pft=0)\n",
    "\n",
    "lai = xr.concat([lai_file['MONTHLY_LAI'], lai_slice], dim='pft')\n",
    "veg_height = xr.concat([veg_height_file['MONTHLY_HEIGHT_TOP'], vegheight_slice], dim='pft')"
   ]
  },
  {
   "cell_type": "code",
   "execution_count": 20,
   "metadata": {},
   "outputs": [],
   "source": [
    "veg_rough = 0.123 * veg_height\n",
    "displacement = 0.67 * veg_height"
   ]
  },
  {
   "cell_type": "code",
   "execution_count": 21,
   "metadata": {},
   "outputs": [],
   "source": [
    "def map_pft_to_nldas_class(pft):\n",
    "    '''\n",
    "    this function takes in a pft and maps it to an NLDAS veg class for using NLDAS VIC 5 veg-class \n",
    "    specific parameters. \n",
    "    '''\n",
    "    # bare \n",
    "    if pft == 0:\n",
    "        nldas = 11\n",
    "    # NET - temperate\n",
    "    elif pft == 1:\n",
    "        nldas = 0\n",
    "    # NET - boreal\n",
    "    elif pft == 2:\n",
    "        nldas = 0\n",
    "    # NDT - boreal\n",
    "    elif pft == 3:\n",
    "        nldas = 1\n",
    "    # BET - tropical\n",
    "    elif pft == 4:\n",
    "        nldas = 2\n",
    "    # BET - temperate\n",
    "    elif pft == 5:\n",
    "        nldas = 2\n",
    "    # BDT - tropical\n",
    "    elif pft == 6:\n",
    "        nldas = 3\n",
    "    # BDT - temperate\n",
    "    elif pft == 7:\n",
    "        nldas = 3\n",
    "    # BDT - boreal\n",
    "    elif pft == 8:\n",
    "        nldas = 3\n",
    "    # BES - temperate\n",
    "    elif pft == 9:\n",
    "        nldas = 8\n",
    "    # BDS - temperate\n",
    "    elif pft == 10:\n",
    "        nldas = 8\n",
    "    # BDS - boreal\n",
    "    elif pft == 11:\n",
    "        nldas = 8\n",
    "    # C3 arctic grass\n",
    "    elif pft == 12:\n",
    "        nldas = 9\n",
    "    # C3 grass\n",
    "    elif pft == 13:\n",
    "        nldas = 9\n",
    "    # C4 grass\n",
    "    elif pft == 14:\n",
    "        nldas = 9\n",
    "    # crops\n",
    "    elif pft == 15:\n",
    "        nldas = 10\n",
    "    elif pft == 16: \n",
    "        nldas = 2\n",
    "    else: \n",
    "        raise ValueError(\"this is not a PFT\")\n",
    "    return(nldas)"
   ]
  },
  {
   "cell_type": "code",
   "execution_count": 22,
   "metadata": {},
   "outputs": [],
   "source": [
    "old_params = xr.open_dataset(os.path.join('/u/home/gergel/data', \n",
    "                                          'vic_params_wr50a_vic5.0.dev_20160328.nc'))"
   ]
  },
  {
   "cell_type": "code",
   "execution_count": 23,
   "metadata": {},
   "outputs": [],
   "source": [
    "# masknan_vals = domain['mask'].where(domain['mask'] == 1).values\n",
    "masknan_vals = domain['mask'].values\n",
    "nj = 209\n",
    "ni = 299\n",
    "num_veg = 17\n",
    "\n",
    "\n",
    "arr_months = np.rollaxis(np.dstack((masknan_vals, masknan_vals, masknan_vals, masknan_vals, \n",
    "                                    masknan_vals, masknan_vals, masknan_vals, masknan_vals, \n",
    "                                    masknan_vals, masknan_vals, masknan_vals, masknan_vals)), \n",
    "                        axis=2)\n",
    "arr_nlayer = np.rollaxis(np.dstack((masknan_vals, masknan_vals, masknan_vals)), \n",
    "                        axis=2)\n",
    "\n",
    "arr_rootzone = np.rollaxis(np.dstack((masknan_vals, masknan_vals)), \n",
    "                        axis=2)\n",
    "\n",
    "arr_veg_classes = np.rollaxis(np.dstack((masknan_vals, masknan_vals, masknan_vals, masknan_vals, \n",
    "                                         masknan_vals, masknan_vals, masknan_vals, masknan_vals, \n",
    "                                         masknan_vals, masknan_vals, masknan_vals, masknan_vals, \n",
    "                                         masknan_vals, masknan_vals, masknan_vals, masknan_vals, \n",
    "                                         masknan_vals)), \n",
    "                              axis=2)\n",
    "arr_veg_classes_rootzone = np.vstack((arr_rootzone, arr_rootzone, arr_rootzone, arr_rootzone, \n",
    "                                      arr_rootzone, arr_rootzone, arr_rootzone, arr_rootzone, \n",
    "                                      arr_rootzone, arr_rootzone, arr_rootzone, arr_rootzone, \n",
    "                                      arr_rootzone, arr_rootzone, arr_rootzone,\n",
    "                                      arr_rootzone, arr_rootzone)).reshape(num_veg, 2, nj, ni)\n",
    "arr_veg_classes_month = np.vstack((arr_months, arr_months, arr_months, arr_months, arr_months, \n",
    "                                   arr_months, arr_months, arr_months, arr_months, arr_months, \n",
    "                                   arr_months, arr_months, arr_months, arr_months, arr_months, \n",
    "                                   arr_months, arr_months,)).reshape(num_veg, 12, nj, ni)"
   ]
  },
  {
   "cell_type": "code",
   "execution_count": 24,
   "metadata": {},
   "outputs": [],
   "source": [
    "from netCDF4 import default_fillvals\n",
    "\n",
    "params = xr.Dataset()\n",
    "\n",
    "# define fillvals\n",
    "fillval_f = default_fillvals['f8']\n",
    "fillval_i = default_fillvals['i4']\n",
    "\n",
    "params['Cv'] = xr.DataArray(cv,\n",
    "                                 dims=('veg_class','nj', 'ni'),\n",
    "                                 coords={'xc': domain.xc, 'yc': domain.yc},\n",
    "                                 attrs={'description': \"Fraction of grid cell covered by vegetation tile\",\n",
    "                                        'units': \"fraction\", 'long_name': \"Cv\"},\n",
    "                                 encoding={\"_FillValue\": fillval_f,\n",
    "                                               \"Coordinates\": \"xc yc\"})\n",
    "\n",
    "params['Nveg'] = xr.DataArray(Nveg,\n",
    "                                   dims=('nj', 'ni'),\n",
    "                                   coords={'xc': domain.xc, 'yc': domain.yc},\n",
    "                                   attrs={'description': \"Number of vegetation tiles in the grid cell\", \n",
    "                                          'units': \"N/A\", 'long_name': \"Nveg\"},\n",
    "                                   encoding={\"_FillValue\": fillval_i,\n",
    "                                               \"Coordinates\": \"xc yc\", 'dtype': 'int32'})\n",
    "\n",
    "params['trunk_ratio'] = xr.DataArray(np.copy(arr_veg_classes),\n",
    "                                 dims=('veg_class','nj', 'ni'),\n",
    "                                 coords={'xc': domain.xc, 'yc': domain.yc},\n",
    "                                 attrs={'description': \"Ratio of total tree height that is trunk \\\n",
    "                                 (no branches) \\\n",
    "                                        The default value has been 0.2\",\n",
    "                                 'units': \"fraction\", 'long_name': \"Cv\"},\n",
    "                                 encoding={\"_FillValue\": fillval_f,\n",
    "                                               \"Coordinates\": \"xc yc\"})\n",
    "params['rarc'] = xr.DataArray(np.copy(arr_veg_classes),\n",
    "                                 dims=('veg_class','nj', 'ni'),\n",
    "                                 coords={'xc': domain.xc, 'yc': domain.yc},\n",
    "                                 attrs={'description': \"Architectural resistance of vegetation type \\(~2 s/m)\",\n",
    "                                        'units': \"s/m\", 'long_name': \"rarc\"},\n",
    "                                 encoding={\"_FillValue\": fillval_f,\n",
    "                                               \"Coordinates\": \"xc yc\"})\n",
    "                                     \n",
    "\n",
    "params['rmin'] = xr.DataArray(np.copy(arr_veg_classes),\n",
    "                                 dims=('veg_class','nj', 'ni'),\n",
    "                                 coords={'xc': domain.xc, 'yc': domain.yc},\n",
    "                                 attrs={'description': \"Minimum stomatal resistance of vegetation type (~100 s/m)\"},\n",
    "                                 encoding={\"_FillValue\": fillval_f,\n",
    "                                               \"Coordinates\": \"xc yc\"})\n",
    "params['wind_h'] = xr.DataArray(np.copy(arr_veg_classes),\n",
    "                                 dims=('veg_class','nj', 'ni'),\n",
    "                                 coords={'xc': domain.xc, 'yc': domain.yc},\n",
    "                                 attrs={'description': \"Height at which wind speed is measured\",\n",
    "                                        'units': \"m\", 'long_name': \"wind_h\"},\n",
    "                                 encoding={\"_FillValue\": fillval_f,\n",
    "                                               \"Coordinates\": \"xc yc\"})\n",
    "\n",
    "params['RGL'] = xr.DataArray(np.copy(arr_veg_classes),\n",
    "                                 dims=('veg_class','nj', 'ni'),\n",
    "                                 coords={'xc': domain.xc, 'yc': domain.yc},\n",
    "                                 attrs={'description': \"Minimum incoming shortwave radiation at which there will be \\\n",
    "                                        transpiration. For trees this is about 30 W/m^2, for crops about 100 W/m^2\",\n",
    "                                        'units': \"W/m^2\", 'long_name': \"RGL\"},\n",
    "                                 encoding={\"_FillValue\": fillval_f,\n",
    "                                               \"Coordinates\": \"xc yc\"})\n",
    "\n",
    "params['rad_atten'] = xr.DataArray(np.copy(arr_veg_classes),\n",
    "                                 dims=('veg_class','nj', 'ni'),\n",
    "                                 coords={'xc': domain.xc, 'yc': domain.yc},\n",
    "                                 attrs={'description': \"Radiation attenuation factor. Normally set to 0.5, though may \\\n",
    "                                        need to be adjusted for high latitudes\",\n",
    "                                        'units': \"fraction\", 'long_name': \"rad_atten\"},\n",
    "                                 encoding={\"_FillValue\": fillval_f,\n",
    "                                               \"Coordinates\": \"xc yc\"})\n",
    "\n",
    "params['wind_atten'] = xr.DataArray(np.copy(arr_veg_classes),\n",
    "                                 dims=('veg_class','nj', 'ni'),\n",
    "                                 coords={'xc': domain.xc, 'yc': domain.yc},\n",
    "                                 attrs={'description': \"Wind speed attenuation through the overstory. The default value \\\n",
    "                                        has been 0.5\",\n",
    "                                        'units': \"fraction\", 'long_name': \"wind_atten\"},\n",
    "                                 encoding={\"_FillValue\": fillval_f,\n",
    "                                               \"Coordinates\": \"xc yc\"})\n",
    "params['root_depth'] = xr.DataArray(root_depth.values,\n",
    "                                         dims=('veg_class','root_zone','nj', 'ni'),\n",
    "                                         coords={'xc': domain.xc, 'yc': domain.yc},\n",
    "                                         attrs={'description': \"Root zone thickness (sum of depths is total depth of \\\n",
    "                                                 root penetration)\",\n",
    "                                                'units': \"m\", 'long_name': \"root_depth\"},\n",
    "                                         encoding={\"_FillValue\": fillval_f,\n",
    "                                               \"Coordinates\": \"xc yc\"})\n",
    "params['root_fract'] = xr.DataArray(root_fract.values,\n",
    "                                         dims=('veg_class','root_zone','nj', 'ni'),\n",
    "                                         coords={'xc': domain.xc, 'yc': domain.yc},\n",
    "                                         attrs={'description': \"Fraction of root in the current root zone\",\n",
    "                                                'units': \"fraction\", 'long_name': \"root_fract\"},\n",
    "                                         encoding={\"_FillValue\": fillval_f,\n",
    "                                               \"Coordinates\": \"xc yc\"})\n",
    "params['albedo'] = xr.DataArray(albedo.values,\n",
    "                                         dims=('veg_class','month','nj', 'ni'),\n",
    "                                         coords={'xc': domain.xc, 'yc': domain.yc},\n",
    "                                         attrs={'description': \"Shortwave albedo for vegetation type\",\n",
    "                                                'units': \"fraction\", 'long_name': \"albedo\"},\n",
    "                                         encoding={\"_FillValue\": fillval_f,\n",
    "                                               \"Coordinates\": \"xc yc\"})\n",
    "\n",
    "params['LAI'] = xr.DataArray(lai.values.reshape(num_veg, 12, nj, ni),\n",
    "                                 dims=('veg_class','month','nj', 'ni'),\n",
    "                                 coords={'xc': domain.xc, 'yc': domain.yc, 'month': old_params.month},\n",
    "                                 attrs={'description': \"Leaf Area Index, one per month\",\n",
    "                                        'units': \"N/A\", 'long_name': \"LAI\"},\n",
    "                                 encoding={\"_FillValue\": fillval_f,\n",
    "                                               \"Coordinates\": \"xc yc\"})\n",
    "params['overstory'] = xr.DataArray(arr_veg_classes,\n",
    "                                 dims=('veg_class','nj', 'ni'),\n",
    "                                 coords={'xc': domain.xc, 'yc': domain.yc},\n",
    "                                 attrs={'description': \"Flag to indicate whether or not the current vegetation type \\\n",
    "                                        has an overstory (TRUE for overstory present (e.g. trees), FALSE for \\\n",
    "                                        overstory not present (e.g. grass))\",\n",
    "                                        'units': \"N/A\", 'long_name': \"overstory\"},\n",
    "                                 encoding={\"_FillValue\": fillval_i,\n",
    "                                               \"Coordinates\": \"xc yc\", 'dtype': 'int32'})\n",
    "params['displacement'] = xr.DataArray(displacement.values.reshape(num_veg, 12, nj, ni), \n",
    "                                         dims=('veg_class','month','nj', 'ni'),\n",
    "                                         coords={'month': old_params['month'], 'xc': domain.xc, \n",
    "                                                 'yc': domain.yc},\n",
    "                                         attrs={'description': \"Vegetation displacement height (typically 0.67 \\\n",
    "                                                * vegetation height)\",\n",
    "                                                'units': \"m\", 'long_name': \"displacement\"},\n",
    "                                         encoding={\"_FillValue\": fillval_f,\n",
    "                                               \"Coordinates\": \"xc yc\"})\n",
    "params['veg_rough'] = xr.DataArray(veg_rough.values.reshape(num_veg, 12, nj, ni),\n",
    "                                         dims=('veg_class','month','nj', 'ni'),\n",
    "                                         coords={'xc': domain.xc, 'yc': domain.yc},\n",
    "                                         attrs={'description': \"Vegetation roughness length (typically 0.123 \\\n",
    "                                                * vegetation height)\",\n",
    "                                                'units': \"m\", 'long_name': \"veg_rough\"},\n",
    "                                         encoding={\"_FillValue\": fillval_f,\n",
    "                                               \"Coordinates\": \"xc yc\"})"
   ]
  },
  {
   "cell_type": "code",
   "execution_count": 25,
   "metadata": {},
   "outputs": [],
   "source": [
    "# trunk ratio, rarc, rad_atten\n",
    "trunk_ratio = np.copy(arr_veg_classes)\n",
    "params['trunk_ratio'].values = trunk_ratio * 0.2\n",
    "rarc = np.copy(arr_veg_classes)\n",
    "params['rarc'].values = rarc * 60\n",
    "rad_atten = np.copy(arr_veg_classes)\n",
    "params['rad_atten'].values = rad_atten * 0.5\n",
    "wind_atten = np.copy(arr_veg_classes)\n",
    "params['wind_atten'].values = wind_atten * 0.5"
   ]
  },
  {
   "cell_type": "code",
   "execution_count": 26,
   "metadata": {},
   "outputs": [],
   "source": [
    "# rmin, wind_h\n",
    "for pft in veg_data.pft.values:\n",
    "    # get nldas mapping from pft\n",
    "    nldas = map_pft_to_nldas_class(pft)\n",
    "    if nldas >= 0 and nldas <= 3:\n",
    "        rmin = np.asscalar(old_params.rmin.isel(veg_class=0).mean())\n",
    "        wind_h = np.asscalar(old_params.wind_h.isel(veg_class=0).mean())\n",
    "    elif nldas == 4:\n",
    "        rmin = np.asscalar(old_params.rmin.isel(veg_class=4).mean())\n",
    "        wind_h = np.asscalar(old_params.wind_h.isel(veg_class=4).mean())\n",
    "    elif nldas >= 5 and nldas <= 6:\n",
    "        rmin = np.asscalar(old_params.rmin.isel(veg_class=5).mean())\n",
    "        wind_h = np.asscalar(old_params.wind_h.isel(veg_class=5).mean())\n",
    "    elif nldas >= 7 and nldas <= 8:\n",
    "        rmin = np.asscalar(old_params.rmin.isel(veg_class=7).mean())\n",
    "        wind_h = np.asscalar(old_params.wind_h.isel(veg_class=7).mean())\n",
    "    elif nldas == 9:\n",
    "        rmin = np.asscalar(old_params.rmin.isel(veg_class=9).mean())\n",
    "        wind_h = np.asscalar(old_params.wind_h.isel(veg_class=9).mean())\n",
    "    elif nldas == 10:\n",
    "        rmin = np.asscalar(old_params.rmin.isel(veg_class=10).mean())\n",
    "        wind_h = np.asscalar(old_params.wind_h.isel(veg_class=10).mean())\n",
    "    elif nldas == 11:\n",
    "        rmin = np.asscalar(old_params.rmin.isel(veg_class=11).mean())\n",
    "        wind_h = np.asscalar(old_params.wind_h.isel(veg_class=11).mean())\n",
    "    params['rmin'][pft, :, :] = arr_veg_classes[pft, :, :] * rmin\n",
    "    params['wind_h'][pft, :, :] = arr_veg_classes[pft, :, :] * wind_h"
   ]
  },
  {
   "cell_type": "code",
   "execution_count": 27,
   "metadata": {},
   "outputs": [],
   "source": [
    "# RGL\n",
    "for pft in veg_data.pft.values:\n",
    "    # get nldas mapping from pft\n",
    "    nldas = map_pft_to_nldas_class(pft)\n",
    "    if nldas >= 0 and nldas <= 3:\n",
    "        rgl = np.asscalar(old_params.wind_h.isel(veg_class=0).mean())\n",
    "    elif nldas >= 4 and nldas <= 5:\n",
    "        rgl = np.asscalar(old_params.wind_h.isel(veg_class=4).mean())\n",
    "    elif nldas >= 6 and nldas <= 8:\n",
    "        rgl = np.asscalar(old_params.wind_h.isel(veg_class=6).mean())\n",
    "    elif nldas >= 9 and nldas <= 10:\n",
    "        rgl = np.asscalar(old_params.wind_h.isel(veg_class=9).mean())\n",
    "    elif nldas == 11:\n",
    "        rgl = np.asscalar(old_params.wind_h.isel(veg_class=11).mean())\n",
    "    params['RGL'][pft, :, :] = arr_veg_classes[pft, :, :] * rgl"
   ]
  },
  {
   "cell_type": "code",
   "execution_count": 28,
   "metadata": {},
   "outputs": [],
   "source": [
    "# overstory\n",
    "for pft in veg_data.pft.values:\n",
    "    nldas = map_pft_to_nldas_class(pft)\n",
    "    if nldas > 6:\n",
    "        # no overstory\n",
    "        overstory = 0\n",
    "    else: \n",
    "        overstory = 1\n",
    "    params['overstory'][pft, :, :] = arr_veg_classes[pft, :, :] * overstory"
   ]
  },
  {
   "cell_type": "code",
   "execution_count": 31,
   "metadata": {},
   "outputs": [],
   "source": [
    "# adjust data vars that need adjusting \n",
    "params['Nveg'].values = params['Nveg'].where(domain.mask == 1)\n",
    "params['trunk_ratio'] = params['trunk_ratio'].where(domain.mask == 1)\n",
    "params['rarc'] = params['rarc'].where(domain.mask == 1)\n",
    "params['rmin'] = params['rmin'].where(domain.mask == 1)\n",
    "params['wind_h'] = params['wind_h'].where(domain.mask == 1)\n",
    "params['RGL'] = params['RGL'].where(domain.mask == 1)\n",
    "params['rad_atten'] = params['rad_atten'].where(domain.mask == 1)\n",
    "params['wind_atten'] = params['wind_atten'].where(domain.mask == 1)\n",
    "params['root_depth'] = params['root_depth'].where(domain.mask == 1)\n",
    "params['root_fract'] = params['root_fract'].where(domain.mask == 1)\n",
    "params['albedo'] = params['albedo'].where(domain.mask == 1)\n",
    "params['LAI'] = params['LAI'].where(domain.mask == 1)\n",
    "params['overstory'] = params['overstory'].where(domain.mask == 1)\n",
    "params['displacement'] = params['displacement'].where(domain.mask == 1)\n",
    "params['veg_rough'] = params['veg_rough'].where(domain.mask == 1)"
   ]
  },
  {
   "cell_type": "code",
   "execution_count": 32,
   "metadata": {},
   "outputs": [
    {
     "data": {
      "text/plain": [
       "<xarray.Dataset>\n",
       "Dimensions:       (month: 12, ni: 299, nj: 209, root_zone: 2, veg_class: 17)\n",
       "Coordinates:\n",
       "  * month         (month) int64 1 2 3 4 5 6 7 8 9 10 11 12\n",
       "    xc            (nj, ni) float64 -173.9 -173.7 -173.6 -173.4 -173.3 -173.2 ...\n",
       "    yc            (nj, ni) float64 49.87 49.91 49.95 49.99 50.03 50.07 50.11 ...\n",
       "Dimensions without coordinates: ni, nj, root_zone, veg_class\n",
       "Data variables:\n",
       "    Cv            (veg_class, nj, ni) float64 nan nan nan nan nan nan nan ...\n",
       "    Nveg          (nj, ni) float64 nan nan nan nan nan nan nan nan nan nan ...\n",
       "    trunk_ratio   (veg_class, nj, ni) float64 nan nan nan nan nan nan nan ...\n",
       "    rarc          (veg_class, nj, ni) float64 nan nan nan nan nan nan nan ...\n",
       "    rmin          (veg_class, nj, ni) float64 nan nan nan nan nan nan nan ...\n",
       "    wind_h        (veg_class, nj, ni) float64 nan nan nan nan nan nan nan ...\n",
       "    RGL           (veg_class, nj, ni) float64 nan nan nan nan nan nan nan ...\n",
       "    rad_atten     (veg_class, nj, ni) float64 nan nan nan nan nan nan nan ...\n",
       "    wind_atten    (veg_class, nj, ni) float64 nan nan nan nan nan nan nan ...\n",
       "    root_depth    (veg_class, root_zone, nj, ni) float64 nan nan nan nan nan ...\n",
       "    root_fract    (veg_class, root_zone, nj, ni) float64 nan nan nan nan nan ...\n",
       "    albedo        (veg_class, month, nj, ni) float64 nan nan nan nan nan nan ...\n",
       "    LAI           (veg_class, month, nj, ni) float32 nan nan nan nan nan nan ...\n",
       "    overstory     (veg_class, nj, ni) float64 nan nan nan nan nan nan nan ...\n",
       "    displacement  (veg_class, month, nj, ni) float32 nan nan nan nan nan nan ...\n",
       "    veg_rough     (veg_class, month, nj, ni) float32 nan nan nan nan nan nan ..."
      ]
     },
     "execution_count": 32,
     "metadata": {},
     "output_type": "execute_result"
    }
   ],
   "source": [
    "params"
   ]
  },
  {
   "cell_type": "code",
   "execution_count": 33,
   "metadata": {},
   "outputs": [],
   "source": [
    "encoding_params = {'Nveg': {'dtype': 'int32', \"_FillValue\": fillval_i},\n",
    "                   'overstory': {'dtype': 'int32', \"_FillValue\": fillval_i}}\n",
    "direc = '/u/home/gergel/data/parameters'\n",
    "new_params_file = os.path.join(direc, 'veg_params_ncar_alaska.nc')\n",
    "params.to_netcdf(new_params_file, format='NETCDF4_CLASSIC', encoding=encoding_params)"
   ]
  },
  {
   "cell_type": "code",
   "execution_count": null,
   "metadata": {},
   "outputs": [],
   "source": []
  }
 ],
 "metadata": {
  "kernelspec": {
   "display_name": "Python 3",
   "language": "python",
   "name": "python3"
  },
  "language_info": {
   "codemirror_mode": {
    "name": "ipython",
    "version": 3
   },
   "file_extension": ".py",
   "mimetype": "text/x-python",
   "name": "python",
   "nbconvert_exporter": "python",
   "pygments_lexer": "ipython3",
   "version": "3.6.4"
  }
 },
 "nbformat": 4,
 "nbformat_minor": 2
}
